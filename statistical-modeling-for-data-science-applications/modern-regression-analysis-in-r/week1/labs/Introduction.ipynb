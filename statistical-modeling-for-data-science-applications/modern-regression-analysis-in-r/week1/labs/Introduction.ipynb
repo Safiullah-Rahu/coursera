{
 "cells": [
  {
   "cell_type": "markdown",
   "metadata": {
    "deletable": false,
    "editable": false,
    "nbgrader": {
     "cell_type": "markdown",
     "checksum": "3a020d48e6b199ee5b99c2fdf21211f4",
     "grade": false,
     "grade_id": "cell-1974ed458c9f30c8",
     "locked": true,
     "schema_version": 3,
     "solution": false,
     "task": false
    }
   },
   "source": [
    "# Introduction to R/Jupyter\n",
    "\n",
    " This is a Jupyter Notebook. A Jupyter Notebook is an [\"open-source web application that allows you to create and share documents that contain live code, equations, visualizations and narrative text.\"](http://jupyter.org) We will use the R programming languge and LaTex typsetting in Jupyter to prepare assignments and projects (you can also use other languages in Jupyter). The purpose of this note book is to familiarize yourself with programming in R.\n",
    "\n",
    "R is a powerful open source programming language that is used for statistical computation and graphics. In many ways, it is similar to Matlab and Python (so, if you know these languages, learning R will be fairly easy!). \n",
    "\n",
    "The best way to learn R and Jupyter is to jump right in! Below we walk through how to use Jupyter and R. **Text in boldface indicates exercises that I am asking you to complete.**\n"
   ]
  },
  {
   "cell_type": "code",
   "execution_count": 1,
   "metadata": {
    "deletable": false,
    "editable": false,
    "nbgrader": {
     "cell_type": "code",
     "checksum": "ea47eda0558e21cbfde96c4d7e0f2767",
     "grade": false,
     "grade_id": "cell-b5f07b1cb0c38a80",
     "locked": true,
     "schema_version": 3,
     "solution": false,
     "task": false
    }
   },
   "outputs": [],
   "source": [
    "#This package will be used to autograde some of your answers\n",
    "library(testthat)"
   ]
  },
  {
   "cell_type": "markdown",
   "metadata": {
    "deletable": false,
    "editable": false,
    "nbgrader": {
     "cell_type": "markdown",
     "checksum": "22c8a919115a23a99b0fba2f14f13516",
     "grade": false,
     "grade_id": "cell-f57e780a9c2875b3",
     "locked": true,
     "schema_version": 3,
     "solution": false,
     "task": false
    }
   },
   "source": [
    "## Part I: Basics\n",
    "\n",
    "Jupyter has different types of cells. This cell is a \"markdown\" cell, and is used to write equations (LaTeX) and text. The other type of cell that we will use is a \"code\" cell. This is where we will program using R. You can create a new cell from the plus sign above (delete using the scissor) and select the type of cell using the drop down menu above and to the right. \n",
    "\n",
    "Note:\n",
    "\n",
    "1. In autograded assignments, don't add or delete cells. This will impact the autograder.\n",
    "2. Here's a [LaTeX cheatsheet](http://wch.github.io/latexsheet/).\n",
    "\n",
    "#### Double click on the \"Type Markdown and LaTex: $a^2$\" and type your favorite equation (come on, you know you have one...)."
   ]
  },
  {
   "cell_type": "markdown",
   "metadata": {
    "deletable": false,
    "nbgrader": {
     "cell_type": "markdown",
     "checksum": "75b28ab66c32c01ffe5ace1d1e320108",
     "grade": true,
     "grade_id": "cell-91fd505c3c55eb54",
     "locked": false,
     "points": 0,
     "schema_version": 3,
     "solution": true,
     "task": false
    }
   },
   "source": [
    "$e^{\\iota*\\pi} = -1$"
   ]
  },
  {
   "cell_type": "markdown",
   "metadata": {
    "deletable": false,
    "editable": false,
    "nbgrader": {
     "cell_type": "markdown",
     "checksum": "96fdd12060444bb767b7823782ad2923",
     "grade": false,
     "grade_id": "cell-585024722e94eee3",
     "locked": true,
     "schema_version": 3,
     "solution": false,
     "task": false
    }
   },
   "source": [
    "In R/code cells, you can do (almost) anything that you can do in R, from basic computations to complex statistical modeling. \n",
    "\n",
    "#### Create an R code cell below this cell. Compute the natural log of e. You may have guessed that the right functions for this are `log()` and `exp()`. But with R, you don't have to guess. You can type `?? log` to get some general information about functions related to logarithms (the same applies to other concepts); if you type \"? X\" you will get information about the specific function X (e.g., try `? exp`). Often, a Google search is a really effective way to learn about R functions."
   ]
  },
  {
   "cell_type": "code",
   "execution_count": 2,
   "metadata": {
    "deletable": false,
    "nbgrader": {
     "cell_type": "code",
     "checksum": "170a388d407eea4cbe23b8fe6704ea17",
     "grade": true,
     "grade_id": "cell-0f095b08ef5c4662",
     "locked": false,
     "points": 0,
     "schema_version": 3,
     "solution": true,
     "task": false
    }
   },
   "outputs": [],
   "source": [
    "# your code here\n",
    "? exp"
   ]
  },
  {
   "cell_type": "markdown",
   "metadata": {
    "deletable": false,
    "editable": false,
    "nbgrader": {
     "cell_type": "markdown",
     "checksum": "87dd0ec6f1a2a97958bea4a8f1f2b1bb",
     "grade": false,
     "grade_id": "cell-0b1500818db058b0",
     "locked": true,
     "schema_version": 3,
     "solution": false,
     "task": false
    }
   },
   "source": [
    "The function `c()` will allow you to create vectors (\"c\" for combine). \n",
    "\n",
    "#### In the cell below, create three vectors:\n",
    "\n",
    "1. a vector containing the numbers 1, 2, 5.3, 6, -2, 4;\n",
    "2. a vector containing the strings \"one\", \"two, and \"three\" (strings are formed in R by putting quotes around the words);\n",
    "3. a vector of logicals: `TRUE`, `TRUE`, `FALSE`, `TRUE`."
   ]
  },
  {
   "cell_type": "code",
   "execution_count": 3,
   "metadata": {
    "deletable": false,
    "nbgrader": {
     "cell_type": "code",
     "checksum": "5471c68a025e73ab9e3cb50d3405d14d",
     "grade": true,
     "grade_id": "cell-01d39d3c98243ae2",
     "locked": false,
     "points": 0,
     "schema_version": 3,
     "solution": true,
     "task": false
    }
   },
   "outputs": [
    {
     "data": {
      "text/html": [
       "<style>\n",
       ".list-inline {list-style: none; margin:0; padding: 0}\n",
       ".list-inline>li {display: inline-block}\n",
       ".list-inline>li:not(:last-child)::after {content: \"\\00b7\"; padding: 0 .5ex}\n",
       "</style>\n",
       "<ol class=list-inline><li>1</li><li>2</li><li>5.3</li><li>6</li><li>-2</li><li>4</li></ol>\n"
      ],
      "text/latex": [
       "\\begin{enumerate*}\n",
       "\\item 1\n",
       "\\item 2\n",
       "\\item 5.3\n",
       "\\item 6\n",
       "\\item -2\n",
       "\\item 4\n",
       "\\end{enumerate*}\n"
      ],
      "text/markdown": [
       "1. 1\n",
       "2. 2\n",
       "3. 5.3\n",
       "4. 6\n",
       "5. -2\n",
       "6. 4\n",
       "\n",
       "\n"
      ],
      "text/plain": [
       "[1]  1.0  2.0  5.3  6.0 -2.0  4.0"
      ]
     },
     "metadata": {},
     "output_type": "display_data"
    },
    {
     "data": {
      "text/html": [
       "<style>\n",
       ".list-inline {list-style: none; margin:0; padding: 0}\n",
       ".list-inline>li {display: inline-block}\n",
       ".list-inline>li:not(:last-child)::after {content: \"\\00b7\"; padding: 0 .5ex}\n",
       "</style>\n",
       "<ol class=list-inline><li>'one'</li><li>'two'</li><li>'three'</li></ol>\n"
      ],
      "text/latex": [
       "\\begin{enumerate*}\n",
       "\\item 'one'\n",
       "\\item 'two'\n",
       "\\item 'three'\n",
       "\\end{enumerate*}\n"
      ],
      "text/markdown": [
       "1. 'one'\n",
       "2. 'two'\n",
       "3. 'three'\n",
       "\n",
       "\n"
      ],
      "text/plain": [
       "[1] \"one\"   \"two\"   \"three\""
      ]
     },
     "metadata": {},
     "output_type": "display_data"
    },
    {
     "data": {
      "text/html": [
       "<style>\n",
       ".list-inline {list-style: none; margin:0; padding: 0}\n",
       ".list-inline>li {display: inline-block}\n",
       ".list-inline>li:not(:last-child)::after {content: \"\\00b7\"; padding: 0 .5ex}\n",
       "</style>\n",
       "<ol class=list-inline><li>TRUE</li><li>TRUE</li><li>FALSE</li><li>TRUE</li></ol>\n"
      ],
      "text/latex": [
       "\\begin{enumerate*}\n",
       "\\item TRUE\n",
       "\\item TRUE\n",
       "\\item FALSE\n",
       "\\item TRUE\n",
       "\\end{enumerate*}\n"
      ],
      "text/markdown": [
       "1. TRUE\n",
       "2. TRUE\n",
       "3. FALSE\n",
       "4. TRUE\n",
       "\n",
       "\n"
      ],
      "text/plain": [
       "[1]  TRUE  TRUE FALSE  TRUE"
      ]
     },
     "metadata": {},
     "output_type": "display_data"
    }
   ],
   "source": [
    "# your code here\n",
    "c(1, 2, 5.3, 6, -2, 4)\n",
    "c(\"one\", \"two\", \"three\")\n",
    "c(TRUE, TRUE, FALSE, TRUE)"
   ]
  },
  {
   "cell_type": "markdown",
   "metadata": {
    "deletable": false,
    "editable": false,
    "nbgrader": {
     "cell_type": "markdown",
     "checksum": "a0c4e1439601150f49d4ad5673246fe3",
     "grade": false,
     "grade_id": "cell-e64757656325b475",
     "locked": true,
     "schema_version": 3,
     "solution": false,
     "task": false
    }
   },
   "source": [
    "#### Next, type `seq(1,10)` in the R cell below. What does it do? What about `seq(1, 20, by = 2)`? `seq(10, 20, len = 100)`? Why are these convenient?"
   ]
  },
  {
   "cell_type": "code",
   "execution_count": 4,
   "metadata": {
    "deletable": false,
    "nbgrader": {
     "cell_type": "code",
     "checksum": "b7ef9a5447df9f39ed258222d9b6d8c9",
     "grade": true,
     "grade_id": "cell-099a17eee4c21017",
     "locked": false,
     "points": 0,
     "schema_version": 3,
     "solution": true,
     "task": false
    }
   },
   "outputs": [
    {
     "data": {
      "text/html": [
       "<style>\n",
       ".list-inline {list-style: none; margin:0; padding: 0}\n",
       ".list-inline>li {display: inline-block}\n",
       ".list-inline>li:not(:last-child)::after {content: \"\\00b7\"; padding: 0 .5ex}\n",
       "</style>\n",
       "<ol class=list-inline><li>1</li><li>2</li><li>3</li><li>4</li><li>5</li><li>6</li><li>7</li><li>8</li><li>9</li><li>10</li></ol>\n"
      ],
      "text/latex": [
       "\\begin{enumerate*}\n",
       "\\item 1\n",
       "\\item 2\n",
       "\\item 3\n",
       "\\item 4\n",
       "\\item 5\n",
       "\\item 6\n",
       "\\item 7\n",
       "\\item 8\n",
       "\\item 9\n",
       "\\item 10\n",
       "\\end{enumerate*}\n"
      ],
      "text/markdown": [
       "1. 1\n",
       "2. 2\n",
       "3. 3\n",
       "4. 4\n",
       "5. 5\n",
       "6. 6\n",
       "7. 7\n",
       "8. 8\n",
       "9. 9\n",
       "10. 10\n",
       "\n",
       "\n"
      ],
      "text/plain": [
       " [1]  1  2  3  4  5  6  7  8  9 10"
      ]
     },
     "metadata": {},
     "output_type": "display_data"
    },
    {
     "data": {
      "text/html": [
       "<style>\n",
       ".list-inline {list-style: none; margin:0; padding: 0}\n",
       ".list-inline>li {display: inline-block}\n",
       ".list-inline>li:not(:last-child)::after {content: \"\\00b7\"; padding: 0 .5ex}\n",
       "</style>\n",
       "<ol class=list-inline><li>1</li><li>3</li><li>5</li><li>7</li><li>9</li><li>11</li><li>13</li><li>15</li><li>17</li><li>19</li></ol>\n"
      ],
      "text/latex": [
       "\\begin{enumerate*}\n",
       "\\item 1\n",
       "\\item 3\n",
       "\\item 5\n",
       "\\item 7\n",
       "\\item 9\n",
       "\\item 11\n",
       "\\item 13\n",
       "\\item 15\n",
       "\\item 17\n",
       "\\item 19\n",
       "\\end{enumerate*}\n"
      ],
      "text/markdown": [
       "1. 1\n",
       "2. 3\n",
       "3. 5\n",
       "4. 7\n",
       "5. 9\n",
       "6. 11\n",
       "7. 13\n",
       "8. 15\n",
       "9. 17\n",
       "10. 19\n",
       "\n",
       "\n"
      ],
      "text/plain": [
       " [1]  1  3  5  7  9 11 13 15 17 19"
      ]
     },
     "metadata": {},
     "output_type": "display_data"
    },
    {
     "data": {
      "text/html": [
       "<style>\n",
       ".list-inline {list-style: none; margin:0; padding: 0}\n",
       ".list-inline>li {display: inline-block}\n",
       ".list-inline>li:not(:last-child)::after {content: \"\\00b7\"; padding: 0 .5ex}\n",
       "</style>\n",
       "<ol class=list-inline><li>10</li><li>10.1010101010101</li><li>10.2020202020202</li><li>10.3030303030303</li><li>10.4040404040404</li><li>10.5050505050505</li><li>10.6060606060606</li><li>10.7070707070707</li><li>10.8080808080808</li><li>10.9090909090909</li><li>11.010101010101</li><li>11.1111111111111</li><li>11.2121212121212</li><li>11.3131313131313</li><li>11.4141414141414</li><li>11.5151515151515</li><li>11.6161616161616</li><li>11.7171717171717</li><li>11.8181818181818</li><li>11.9191919191919</li><li>12.020202020202</li><li>12.1212121212121</li><li>12.2222222222222</li><li>12.3232323232323</li><li>12.4242424242424</li><li>12.5252525252525</li><li>12.6262626262626</li><li>12.7272727272727</li><li>12.8282828282828</li><li>12.9292929292929</li><li>13.030303030303</li><li>13.1313131313131</li><li>13.2323232323232</li><li>13.3333333333333</li><li>13.4343434343434</li><li>13.5353535353535</li><li>13.6363636363636</li><li>13.7373737373737</li><li>13.8383838383838</li><li>13.9393939393939</li><li>14.040404040404</li><li>14.1414141414141</li><li>14.2424242424242</li><li>14.3434343434343</li><li>14.4444444444444</li><li>14.5454545454545</li><li>14.6464646464646</li><li>14.7474747474747</li><li>14.8484848484848</li><li>14.9494949494949</li><li>15.0505050505051</li><li>15.1515151515152</li><li>15.2525252525253</li><li>15.3535353535354</li><li>15.4545454545455</li><li>15.5555555555556</li><li>15.6565656565657</li><li>15.7575757575758</li><li>15.8585858585859</li><li>15.959595959596</li><li>16.0606060606061</li><li>16.1616161616162</li><li>16.2626262626263</li><li>16.3636363636364</li><li>16.4646464646465</li><li>16.5656565656566</li><li>16.6666666666667</li><li>16.7676767676768</li><li>16.8686868686869</li><li>16.969696969697</li><li>17.0707070707071</li><li>17.1717171717172</li><li>17.2727272727273</li><li>17.3737373737374</li><li>17.4747474747475</li><li>17.5757575757576</li><li>17.6767676767677</li><li>17.7777777777778</li><li>17.8787878787879</li><li>17.979797979798</li><li>18.0808080808081</li><li>18.1818181818182</li><li>18.2828282828283</li><li>18.3838383838384</li><li>18.4848484848485</li><li>18.5858585858586</li><li>18.6868686868687</li><li>18.7878787878788</li><li>18.8888888888889</li><li>18.989898989899</li><li>19.0909090909091</li><li>19.1919191919192</li><li>19.2929292929293</li><li>19.3939393939394</li><li>19.4949494949495</li><li>19.5959595959596</li><li>19.6969696969697</li><li>19.7979797979798</li><li>19.8989898989899</li><li>20</li></ol>\n"
      ],
      "text/latex": [
       "\\begin{enumerate*}\n",
       "\\item 10\n",
       "\\item 10.1010101010101\n",
       "\\item 10.2020202020202\n",
       "\\item 10.3030303030303\n",
       "\\item 10.4040404040404\n",
       "\\item 10.5050505050505\n",
       "\\item 10.6060606060606\n",
       "\\item 10.7070707070707\n",
       "\\item 10.8080808080808\n",
       "\\item 10.9090909090909\n",
       "\\item 11.010101010101\n",
       "\\item 11.1111111111111\n",
       "\\item 11.2121212121212\n",
       "\\item 11.3131313131313\n",
       "\\item 11.4141414141414\n",
       "\\item 11.5151515151515\n",
       "\\item 11.6161616161616\n",
       "\\item 11.7171717171717\n",
       "\\item 11.8181818181818\n",
       "\\item 11.9191919191919\n",
       "\\item 12.020202020202\n",
       "\\item 12.1212121212121\n",
       "\\item 12.2222222222222\n",
       "\\item 12.3232323232323\n",
       "\\item 12.4242424242424\n",
       "\\item 12.5252525252525\n",
       "\\item 12.6262626262626\n",
       "\\item 12.7272727272727\n",
       "\\item 12.8282828282828\n",
       "\\item 12.9292929292929\n",
       "\\item 13.030303030303\n",
       "\\item 13.1313131313131\n",
       "\\item 13.2323232323232\n",
       "\\item 13.3333333333333\n",
       "\\item 13.4343434343434\n",
       "\\item 13.5353535353535\n",
       "\\item 13.6363636363636\n",
       "\\item 13.7373737373737\n",
       "\\item 13.8383838383838\n",
       "\\item 13.9393939393939\n",
       "\\item 14.040404040404\n",
       "\\item 14.1414141414141\n",
       "\\item 14.2424242424242\n",
       "\\item 14.3434343434343\n",
       "\\item 14.4444444444444\n",
       "\\item 14.5454545454545\n",
       "\\item 14.6464646464646\n",
       "\\item 14.7474747474747\n",
       "\\item 14.8484848484848\n",
       "\\item 14.9494949494949\n",
       "\\item 15.0505050505051\n",
       "\\item 15.1515151515152\n",
       "\\item 15.2525252525253\n",
       "\\item 15.3535353535354\n",
       "\\item 15.4545454545455\n",
       "\\item 15.5555555555556\n",
       "\\item 15.6565656565657\n",
       "\\item 15.7575757575758\n",
       "\\item 15.8585858585859\n",
       "\\item 15.959595959596\n",
       "\\item 16.0606060606061\n",
       "\\item 16.1616161616162\n",
       "\\item 16.2626262626263\n",
       "\\item 16.3636363636364\n",
       "\\item 16.4646464646465\n",
       "\\item 16.5656565656566\n",
       "\\item 16.6666666666667\n",
       "\\item 16.7676767676768\n",
       "\\item 16.8686868686869\n",
       "\\item 16.969696969697\n",
       "\\item 17.0707070707071\n",
       "\\item 17.1717171717172\n",
       "\\item 17.2727272727273\n",
       "\\item 17.3737373737374\n",
       "\\item 17.4747474747475\n",
       "\\item 17.5757575757576\n",
       "\\item 17.6767676767677\n",
       "\\item 17.7777777777778\n",
       "\\item 17.8787878787879\n",
       "\\item 17.979797979798\n",
       "\\item 18.0808080808081\n",
       "\\item 18.1818181818182\n",
       "\\item 18.2828282828283\n",
       "\\item 18.3838383838384\n",
       "\\item 18.4848484848485\n",
       "\\item 18.5858585858586\n",
       "\\item 18.6868686868687\n",
       "\\item 18.7878787878788\n",
       "\\item 18.8888888888889\n",
       "\\item 18.989898989899\n",
       "\\item 19.0909090909091\n",
       "\\item 19.1919191919192\n",
       "\\item 19.2929292929293\n",
       "\\item 19.3939393939394\n",
       "\\item 19.4949494949495\n",
       "\\item 19.5959595959596\n",
       "\\item 19.6969696969697\n",
       "\\item 19.7979797979798\n",
       "\\item 19.8989898989899\n",
       "\\item 20\n",
       "\\end{enumerate*}\n"
      ],
      "text/markdown": [
       "1. 10\n",
       "2. 10.1010101010101\n",
       "3. 10.2020202020202\n",
       "4. 10.3030303030303\n",
       "5. 10.4040404040404\n",
       "6. 10.5050505050505\n",
       "7. 10.6060606060606\n",
       "8. 10.7070707070707\n",
       "9. 10.8080808080808\n",
       "10. 10.9090909090909\n",
       "11. 11.010101010101\n",
       "12. 11.1111111111111\n",
       "13. 11.2121212121212\n",
       "14. 11.3131313131313\n",
       "15. 11.4141414141414\n",
       "16. 11.5151515151515\n",
       "17. 11.6161616161616\n",
       "18. 11.7171717171717\n",
       "19. 11.8181818181818\n",
       "20. 11.9191919191919\n",
       "21. 12.020202020202\n",
       "22. 12.1212121212121\n",
       "23. 12.2222222222222\n",
       "24. 12.3232323232323\n",
       "25. 12.4242424242424\n",
       "26. 12.5252525252525\n",
       "27. 12.6262626262626\n",
       "28. 12.7272727272727\n",
       "29. 12.8282828282828\n",
       "30. 12.9292929292929\n",
       "31. 13.030303030303\n",
       "32. 13.1313131313131\n",
       "33. 13.2323232323232\n",
       "34. 13.3333333333333\n",
       "35. 13.4343434343434\n",
       "36. 13.5353535353535\n",
       "37. 13.6363636363636\n",
       "38. 13.7373737373737\n",
       "39. 13.8383838383838\n",
       "40. 13.9393939393939\n",
       "41. 14.040404040404\n",
       "42. 14.1414141414141\n",
       "43. 14.2424242424242\n",
       "44. 14.3434343434343\n",
       "45. 14.4444444444444\n",
       "46. 14.5454545454545\n",
       "47. 14.6464646464646\n",
       "48. 14.7474747474747\n",
       "49. 14.8484848484848\n",
       "50. 14.9494949494949\n",
       "51. 15.0505050505051\n",
       "52. 15.1515151515152\n",
       "53. 15.2525252525253\n",
       "54. 15.3535353535354\n",
       "55. 15.4545454545455\n",
       "56. 15.5555555555556\n",
       "57. 15.6565656565657\n",
       "58. 15.7575757575758\n",
       "59. 15.8585858585859\n",
       "60. 15.959595959596\n",
       "61. 16.0606060606061\n",
       "62. 16.1616161616162\n",
       "63. 16.2626262626263\n",
       "64. 16.3636363636364\n",
       "65. 16.4646464646465\n",
       "66. 16.5656565656566\n",
       "67. 16.6666666666667\n",
       "68. 16.7676767676768\n",
       "69. 16.8686868686869\n",
       "70. 16.969696969697\n",
       "71. 17.0707070707071\n",
       "72. 17.1717171717172\n",
       "73. 17.2727272727273\n",
       "74. 17.3737373737374\n",
       "75. 17.4747474747475\n",
       "76. 17.5757575757576\n",
       "77. 17.6767676767677\n",
       "78. 17.7777777777778\n",
       "79. 17.8787878787879\n",
       "80. 17.979797979798\n",
       "81. 18.0808080808081\n",
       "82. 18.1818181818182\n",
       "83. 18.2828282828283\n",
       "84. 18.3838383838384\n",
       "85. 18.4848484848485\n",
       "86. 18.5858585858586\n",
       "87. 18.6868686868687\n",
       "88. 18.7878787878788\n",
       "89. 18.8888888888889\n",
       "90. 18.989898989899\n",
       "91. 19.0909090909091\n",
       "92. 19.1919191919192\n",
       "93. 19.2929292929293\n",
       "94. 19.3939393939394\n",
       "95. 19.4949494949495\n",
       "96. 19.5959595959596\n",
       "97. 19.6969696969697\n",
       "98. 19.7979797979798\n",
       "99. 19.8989898989899\n",
       "100. 20\n",
       "\n",
       "\n"
      ],
      "text/plain": [
       "  [1] 10.00000 10.10101 10.20202 10.30303 10.40404 10.50505 10.60606 10.70707\n",
       "  [9] 10.80808 10.90909 11.01010 11.11111 11.21212 11.31313 11.41414 11.51515\n",
       " [17] 11.61616 11.71717 11.81818 11.91919 12.02020 12.12121 12.22222 12.32323\n",
       " [25] 12.42424 12.52525 12.62626 12.72727 12.82828 12.92929 13.03030 13.13131\n",
       " [33] 13.23232 13.33333 13.43434 13.53535 13.63636 13.73737 13.83838 13.93939\n",
       " [41] 14.04040 14.14141 14.24242 14.34343 14.44444 14.54545 14.64646 14.74747\n",
       " [49] 14.84848 14.94949 15.05051 15.15152 15.25253 15.35354 15.45455 15.55556\n",
       " [57] 15.65657 15.75758 15.85859 15.95960 16.06061 16.16162 16.26263 16.36364\n",
       " [65] 16.46465 16.56566 16.66667 16.76768 16.86869 16.96970 17.07071 17.17172\n",
       " [73] 17.27273 17.37374 17.47475 17.57576 17.67677 17.77778 17.87879 17.97980\n",
       " [81] 18.08081 18.18182 18.28283 18.38384 18.48485 18.58586 18.68687 18.78788\n",
       " [89] 18.88889 18.98990 19.09091 19.19192 19.29293 19.39394 19.49495 19.59596\n",
       " [97] 19.69697 19.79798 19.89899 20.00000"
      ]
     },
     "metadata": {},
     "output_type": "display_data"
    }
   ],
   "source": [
    "# your code here\n",
    "seq(1, 10)\n",
    "seq(1, 20, by=2)\n",
    "seq(10, 20, len=100)"
   ]
  },
  {
   "cell_type": "markdown",
   "metadata": {
    "deletable": false,
    "editable": false,
    "nbgrader": {
     "cell_type": "markdown",
     "checksum": "84ade334f6efd872fac0710f998a0f24",
     "grade": false,
     "grade_id": "cell-d0f131df5c28546e",
     "locked": true,
     "schema_version": 3,
     "solution": false,
     "task": false
    }
   },
   "source": [
    "#### What does the `rep()` function do? This function can take in several arguments. To see what they are, use the help file! Explore the arguments `times` and `each`. What do they do?"
   ]
  },
  {
   "cell_type": "code",
   "execution_count": 5,
   "metadata": {
    "deletable": false,
    "nbgrader": {
     "cell_type": "code",
     "checksum": "dd61fe9b7f7cca0a8d6ef138325c7c45",
     "grade": true,
     "grade_id": "cell-2c38a58722e63c68",
     "locked": false,
     "points": 0,
     "schema_version": 3,
     "solution": true,
     "task": false
    }
   },
   "outputs": [],
   "source": [
    "# your code here\n",
    "? rep"
   ]
  },
  {
   "cell_type": "markdown",
   "metadata": {
    "deletable": false,
    "editable": false,
    "nbgrader": {
     "cell_type": "markdown",
     "checksum": "6a19b96be7c8f0dac2fb0bff3da76d88",
     "grade": false,
     "grade_id": "cell-c19db1161fe38f54",
     "locked": true,
     "schema_version": 3,
     "solution": false,
     "task": false
    }
   },
   "source": [
    "You can store vectors in R using ${\\tt =}$ or ${\\tt <-}$. \n",
    "\n",
    "#### Store the numbers 1 through 5 in a vector `v1`. Create another vector, `v2`, and join it together in a new vector, `new`.\n",
    "\n",
    "*Note: This will be an autograded answer. The autograder will check whether you store the correct values in `v1`*."
   ]
  },
  {
   "cell_type": "code",
   "execution_count": 6,
   "metadata": {
    "deletable": false,
    "nbgrader": {
     "cell_type": "code",
     "checksum": "a7df67313d4ef96bb26f34bd7497a930",
     "grade": false,
     "grade_id": "cell-12f79b87845bfa3f",
     "locked": false,
     "schema_version": 3,
     "solution": true,
     "task": false
    }
   },
   "outputs": [
    {
     "data": {
      "text/html": [
       "<style>\n",
       ".list-inline {list-style: none; margin:0; padding: 0}\n",
       ".list-inline>li {display: inline-block}\n",
       ".list-inline>li:not(:last-child)::after {content: \"\\00b7\"; padding: 0 .5ex}\n",
       "</style>\n",
       "<ol class=list-inline><li>1</li><li>2</li><li>3</li><li>4</li><li>5</li></ol>\n"
      ],
      "text/latex": [
       "\\begin{enumerate*}\n",
       "\\item 1\n",
       "\\item 2\n",
       "\\item 3\n",
       "\\item 4\n",
       "\\item 5\n",
       "\\end{enumerate*}\n"
      ],
      "text/markdown": [
       "1. 1\n",
       "2. 2\n",
       "3. 3\n",
       "4. 4\n",
       "5. 5\n",
       "\n",
       "\n"
      ],
      "text/plain": [
       "[1] 1 2 3 4 5"
      ]
     },
     "metadata": {},
     "output_type": "display_data"
    },
    {
     "data": {
      "text/html": [
       "<style>\n",
       ".list-inline {list-style: none; margin:0; padding: 0}\n",
       ".list-inline>li {display: inline-block}\n",
       ".list-inline>li:not(:last-child)::after {content: \"\\00b7\"; padding: 0 .5ex}\n",
       "</style>\n",
       "<ol class=list-inline><li>1</li><li>2</li><li>3</li><li>4</li><li>5</li><li>9</li><li>10</li><li>1</li></ol>\n"
      ],
      "text/latex": [
       "\\begin{enumerate*}\n",
       "\\item 1\n",
       "\\item 2\n",
       "\\item 3\n",
       "\\item 4\n",
       "\\item 5\n",
       "\\item 9\n",
       "\\item 10\n",
       "\\item 1\n",
       "\\end{enumerate*}\n"
      ],
      "text/markdown": [
       "1. 1\n",
       "2. 2\n",
       "3. 3\n",
       "4. 4\n",
       "5. 5\n",
       "6. 9\n",
       "7. 10\n",
       "8. 1\n",
       "\n",
       "\n"
      ],
      "text/plain": [
       "[1]  1  2  3  4  5  9 10  1"
      ]
     },
     "metadata": {},
     "output_type": "display_data"
    }
   ],
   "source": [
    "#assign 1, 2, 3, 4, 5 to the variable v1\n",
    "# your code here\n",
    "v1 <- 1:5\n",
    "\n",
    "#accessing data stored in variable v1\n",
    "v1\n",
    "#create two vectors, then join them together in a new vector\n",
    "v2 = c(9, 10, 1)\n",
    "new = c(v1, v2)\n",
    "new"
   ]
  },
  {
   "cell_type": "code",
   "execution_count": 7,
   "metadata": {
    "deletable": false,
    "editable": false,
    "nbgrader": {
     "cell_type": "code",
     "checksum": "6e129d0848513f3f5716d1d10145abf5",
     "grade": true,
     "grade_id": "cell-1d076232e48b3d64",
     "locked": true,
     "points": 1,
     "schema_version": 3,
     "solution": false,
     "task": false
    }
   },
   "outputs": [],
   "source": [
    "# Test Cell"
   ]
  },
  {
   "cell_type": "markdown",
   "metadata": {
    "deletable": false,
    "editable": false,
    "nbgrader": {
     "cell_type": "markdown",
     "checksum": "56187bc8652ec974253403ed97180d85",
     "grade": false,
     "grade_id": "cell-7dd455f2c87eb94f",
     "locked": true,
     "schema_version": 3,
     "solution": false,
     "task": false
    }
   },
   "source": [
    "Factors, also known as categorical/qualitative variables, are important in statistics. \"Shoe color\" (Black, Brown, etc.), \"drink size\" (S, M, L) and \"espresso roast\" (Light, Medium, Dark) are examples of factors. Below, in `f1`, create a factor with six groups, labeled 1 through 6, and one unit in each group, using the `factor()` function; note that R treats these values as factors; so, for example, you can't multiply `f1` by a number. Try multiplying `f1` by 3..."
   ]
  },
  {
   "cell_type": "code",
   "execution_count": 8,
   "metadata": {
    "deletable": false,
    "nbgrader": {
     "cell_type": "code",
     "checksum": "c06d329b81e80bc5e98496fee6e7863c",
     "grade": false,
     "grade_id": "cell-5df81cab1c31eddd",
     "locked": false,
     "schema_version": 3,
     "solution": true,
     "task": false
    }
   },
   "outputs": [
    {
     "data": {
      "text/html": [
       "<style>\n",
       ".list-inline {list-style: none; margin:0; padding: 0}\n",
       ".list-inline>li {display: inline-block}\n",
       ".list-inline>li:not(:last-child)::after {content: \"\\00b7\"; padding: 0 .5ex}\n",
       "</style>\n",
       "<ol class=list-inline><li>1</li><li>2</li><li>3</li><li>4</li><li>5</li><li>6</li></ol>\n",
       "\n",
       "<details>\n",
       "\t<summary style=display:list-item;cursor:pointer>\n",
       "\t\t<strong>Levels</strong>:\n",
       "\t</summary>\n",
       "\t<style>\n",
       "\t.list-inline {list-style: none; margin:0; padding: 0}\n",
       "\t.list-inline>li {display: inline-block}\n",
       "\t.list-inline>li:not(:last-child)::after {content: \"\\00b7\"; padding: 0 .5ex}\n",
       "\t</style>\n",
       "\t<ol class=list-inline><li>'1'</li><li>'2'</li><li>'3'</li><li>'4'</li><li>'5'</li><li>'6'</li></ol>\n",
       "</details>"
      ],
      "text/latex": [
       "\\begin{enumerate*}\n",
       "\\item 1\n",
       "\\item 2\n",
       "\\item 3\n",
       "\\item 4\n",
       "\\item 5\n",
       "\\item 6\n",
       "\\end{enumerate*}\n",
       "\n",
       "\\emph{Levels}: \\begin{enumerate*}\n",
       "\\item '1'\n",
       "\\item '2'\n",
       "\\item '3'\n",
       "\\item '4'\n",
       "\\item '5'\n",
       "\\item '6'\n",
       "\\end{enumerate*}\n"
      ],
      "text/markdown": [
       "1. 1\n",
       "2. 2\n",
       "3. 3\n",
       "4. 4\n",
       "5. 5\n",
       "6. 6\n",
       "\n",
       "\n",
       "\n",
       "**Levels**: 1. '1'\n",
       "2. '2'\n",
       "3. '3'\n",
       "4. '4'\n",
       "5. '5'\n",
       "6. '6'\n",
       "\n",
       "\n"
      ],
      "text/plain": [
       "[1] 1 2 3 4 5 6\n",
       "Levels: 1 2 3 4 5 6"
      ]
     },
     "metadata": {},
     "output_type": "display_data"
    },
    {
     "data": {
      "text/html": [
       "<style>\n",
       ".list-inline {list-style: none; margin:0; padding: 0}\n",
       ".list-inline>li {display: inline-block}\n",
       ".list-inline>li:not(:last-child)::after {content: \"\\00b7\"; padding: 0 .5ex}\n",
       "</style>\n",
       "<ol class=list-inline><li>a</li><li>7</li><li>blue</li><li>blue</li></ol>\n",
       "\n",
       "<details>\n",
       "\t<summary style=display:list-item;cursor:pointer>\n",
       "\t\t<strong>Levels</strong>:\n",
       "\t</summary>\n",
       "\t<style>\n",
       "\t.list-inline {list-style: none; margin:0; padding: 0}\n",
       "\t.list-inline>li {display: inline-block}\n",
       "\t.list-inline>li:not(:last-child)::after {content: \"\\00b7\"; padding: 0 .5ex}\n",
       "\t</style>\n",
       "\t<ol class=list-inline><li>'7'</li><li>'a'</li><li>'blue'</li></ol>\n",
       "</details>"
      ],
      "text/latex": [
       "\\begin{enumerate*}\n",
       "\\item a\n",
       "\\item 7\n",
       "\\item blue\n",
       "\\item blue\n",
       "\\end{enumerate*}\n",
       "\n",
       "\\emph{Levels}: \\begin{enumerate*}\n",
       "\\item '7'\n",
       "\\item 'a'\n",
       "\\item 'blue'\n",
       "\\end{enumerate*}\n"
      ],
      "text/markdown": [
       "1. a\n",
       "2. 7\n",
       "3. blue\n",
       "4. blue\n",
       "\n",
       "\n",
       "\n",
       "**Levels**: 1. '7'\n",
       "2. 'a'\n",
       "3. 'blue'\n",
       "\n",
       "\n"
      ],
      "text/plain": [
       "[1] a    7    blue blue\n",
       "Levels: 7 a blue"
      ]
     },
     "metadata": {},
     "output_type": "display_data"
    },
    {
     "name": "stderr",
     "output_type": "stream",
     "text": [
      "Warning message in Ops.factor(f1, 3):\n",
      "“‘*’ not meaningful for factors”\n"
     ]
    },
    {
     "data": {
      "text/html": [
       "<style>\n",
       ".list-inline {list-style: none; margin:0; padding: 0}\n",
       ".list-inline>li {display: inline-block}\n",
       ".list-inline>li:not(:last-child)::after {content: \"\\00b7\"; padding: 0 .5ex}\n",
       "</style>\n",
       "<ol class=list-inline><li>&lt;NA&gt;</li><li>&lt;NA&gt;</li><li>&lt;NA&gt;</li><li>&lt;NA&gt;</li><li>&lt;NA&gt;</li><li>&lt;NA&gt;</li></ol>\n"
      ],
      "text/latex": [
       "\\begin{enumerate*}\n",
       "\\item <NA>\n",
       "\\item <NA>\n",
       "\\item <NA>\n",
       "\\item <NA>\n",
       "\\item <NA>\n",
       "\\item <NA>\n",
       "\\end{enumerate*}\n"
      ],
      "text/markdown": [
       "1. &lt;NA&gt;\n",
       "2. &lt;NA&gt;\n",
       "3. &lt;NA&gt;\n",
       "4. &lt;NA&gt;\n",
       "5. &lt;NA&gt;\n",
       "6. &lt;NA&gt;\n",
       "\n",
       "\n"
      ],
      "text/plain": [
       "[1] NA NA NA NA NA NA"
      ]
     },
     "metadata": {},
     "output_type": "display_data"
    }
   ],
   "source": [
    "# your code here\n",
    "f1 <- factor(c(1, 2, 3, 4, 5, 6))\n",
    "\n",
    "f1\n",
    "f2 = factor(c(\"a\",7,\"blue\", \"blue\"))\n",
    "f2\n",
    "\n",
    "f1*3"
   ]
  },
  {
   "cell_type": "code",
   "execution_count": 9,
   "metadata": {
    "deletable": false,
    "editable": false,
    "nbgrader": {
     "cell_type": "code",
     "checksum": "31ca68570a4dc4c76e3eae6fd598c71c",
     "grade": true,
     "grade_id": "cell-778f6a3767007501",
     "locked": true,
     "points": 1,
     "schema_version": 3,
     "solution": false,
     "task": false
    }
   },
   "outputs": [],
   "source": [
    "# Test Cell"
   ]
  },
  {
   "cell_type": "markdown",
   "metadata": {
    "deletable": false,
    "editable": false,
    "nbgrader": {
     "cell_type": "markdown",
     "checksum": "c05b791e1467d843887d842aa33d61a9",
     "grade": false,
     "grade_id": "cell-a0efddce3ba47f00",
     "locked": true,
     "schema_version": 3,
     "solution": false,
     "task": false
    }
   },
   "source": [
    "#### In the code cell below, I've written several commonly used functions. Explore. Change/add some arguments. See the power of R! \n",
    "\n",
    "Note that the first function creates (pseudo) random numbers from a normal distribution. Don't worry if you don't know what that is yet; we'll learn about it. But R can generate random numbers...that's cool!"
   ]
  },
  {
   "cell_type": "code",
   "execution_count": 10,
   "metadata": {},
   "outputs": [
    {
     "data": {
      "text/html": [
       "50"
      ],
      "text/latex": [
       "50"
      ],
      "text/markdown": [
       "50"
      ],
      "text/plain": [
       "[1] 50"
      ]
     },
     "metadata": {},
     "output_type": "display_data"
    },
    {
     "data": {
      "text/html": [
       "248.445978078072"
      ],
      "text/latex": [
       "248.445978078072"
      ],
      "text/markdown": [
       "248.445978078072"
      ],
      "text/plain": [
       "[1] 248.446"
      ]
     },
     "metadata": {},
     "output_type": "display_data"
    },
    {
     "data": {
      "text/html": [
       "4.96891956156144"
      ],
      "text/latex": [
       "4.96891956156144"
      ],
      "text/markdown": [
       "4.96891956156144"
      ],
      "text/plain": [
       "[1] 4.96892"
      ]
     },
     "metadata": {},
     "output_type": "display_data"
    },
    {
     "data": {
      "text/html": [
       "1.31559731536778"
      ],
      "text/latex": [
       "1.31559731536778"
      ],
      "text/markdown": [
       "1.31559731536778"
      ],
      "text/plain": [
       "[1] 1.315597"
      ]
     },
     "metadata": {},
     "output_type": "display_data"
    },
    {
     "data": {
      "text/html": [
       "1.14699490642626"
      ],
      "text/latex": [
       "1.14699490642626"
      ],
      "text/markdown": [
       "1.14699490642626"
      ],
      "text/plain": [
       "[1] 1.146995"
      ]
     },
     "metadata": {},
     "output_type": "display_data"
    },
    {
     "data": {
      "text/html": [
       "4.8721314287772"
      ],
      "text/latex": [
       "4.8721314287772"
      ],
      "text/markdown": [
       "4.8721314287772"
      ],
      "text/plain": [
       "[1] 4.872131"
      ]
     },
     "metadata": {},
     "output_type": "display_data"
    },
    {
     "data": {
      "text/html": [
       "<style>\n",
       ".list-inline {list-style: none; margin:0; padding: 0}\n",
       ".list-inline>li {display: inline-block}\n",
       ".list-inline>li:not(:last-child)::after {content: \"\\00b7\"; padding: 0 .5ex}\n",
       "</style>\n",
       "<ol class=list-inline><li>2.85596988369483</li><li>7.7424116788051</li></ol>\n"
      ],
      "text/latex": [
       "\\begin{enumerate*}\n",
       "\\item 2.85596988369483\n",
       "\\item 7.7424116788051\n",
       "\\end{enumerate*}\n"
      ],
      "text/markdown": [
       "1. 2.85596988369483\n",
       "2. 7.7424116788051\n",
       "\n",
       "\n"
      ],
      "text/plain": [
       "[1] 2.855970 7.742412"
      ]
     },
     "metadata": {},
     "output_type": "display_data"
    },
    {
     "data": {
      "text/html": [
       "<style>\n",
       ".list-inline {list-style: none; margin:0; padding: 0}\n",
       ".list-inline>li {display: inline-block}\n",
       ".list-inline>li:not(:last-child)::after {content: \"\\00b7\"; padding: 0 .5ex}\n",
       "</style>\n",
       "<ol class=list-inline><li>1.80326798007285</li><li>1.80517116006745</li><li>1.59392042048139</li><li>1.56566328462065</li><li>1.45973764499705</li><li>1.98070176218148</li><li>1.47394592086173</li><li>1.57249499387101</li><li>1.68042309589867</li><li>1.59919617824415</li><li>1.25619384124564</li><li>1.84713999205149</li><li>1.25019133605262</li><li>1.66543459652991</li><li>1.68347905566994</li><li>1.9697797195831</li><li>2.0467132254776</li><li>1.11423168883999</li><li>1.24295495966661</li><li>1.69424492596051</li><li>1.53665594718899</li><li>1.60556178194835</li><li>1.74944346409813</li><li>1.88603262315441</li><li>1.04941149949696</li><li>1.53444889182141</li><li>1.4149893747531</li><li>1.64418775886967</li><li>1.71136544131814</li><li>1.57303352872679</li><li>1.56081291772252</li><li>1.35850863815576</li><li>1.82976896680657</li><li>1.88092216628992</li><li>1.77756389812051</li><li>1.46423918396184</li><li>1.15233036036938</li><li>1.3993033001786</li><li>1.60012527967561</li><li>1.6147760507914</li><li>1.56627593669057</li><li>1.99323805922968</li><li>1.37662043560065</li><li>1.31556321862489</li><li>1.40290363505166</li><li>1.43859289417246</li><li>1.59881533163604</li><li>1.39603878008632</li><li>1.47719467180705</li><li>1.64476567422712</li></ol>\n"
      ],
      "text/latex": [
       "\\begin{enumerate*}\n",
       "\\item 1.80326798007285\n",
       "\\item 1.80517116006745\n",
       "\\item 1.59392042048139\n",
       "\\item 1.56566328462065\n",
       "\\item 1.45973764499705\n",
       "\\item 1.98070176218148\n",
       "\\item 1.47394592086173\n",
       "\\item 1.57249499387101\n",
       "\\item 1.68042309589867\n",
       "\\item 1.59919617824415\n",
       "\\item 1.25619384124564\n",
       "\\item 1.84713999205149\n",
       "\\item 1.25019133605262\n",
       "\\item 1.66543459652991\n",
       "\\item 1.68347905566994\n",
       "\\item 1.9697797195831\n",
       "\\item 2.0467132254776\n",
       "\\item 1.11423168883999\n",
       "\\item 1.24295495966661\n",
       "\\item 1.69424492596051\n",
       "\\item 1.53665594718899\n",
       "\\item 1.60556178194835\n",
       "\\item 1.74944346409813\n",
       "\\item 1.88603262315441\n",
       "\\item 1.04941149949696\n",
       "\\item 1.53444889182141\n",
       "\\item 1.4149893747531\n",
       "\\item 1.64418775886967\n",
       "\\item 1.71136544131814\n",
       "\\item 1.57303352872679\n",
       "\\item 1.56081291772252\n",
       "\\item 1.35850863815576\n",
       "\\item 1.82976896680657\n",
       "\\item 1.88092216628992\n",
       "\\item 1.77756389812051\n",
       "\\item 1.46423918396184\n",
       "\\item 1.15233036036938\n",
       "\\item 1.3993033001786\n",
       "\\item 1.60012527967561\n",
       "\\item 1.6147760507914\n",
       "\\item 1.56627593669057\n",
       "\\item 1.99323805922968\n",
       "\\item 1.37662043560065\n",
       "\\item 1.31556321862489\n",
       "\\item 1.40290363505166\n",
       "\\item 1.43859289417246\n",
       "\\item 1.59881533163604\n",
       "\\item 1.39603878008632\n",
       "\\item 1.47719467180705\n",
       "\\item 1.64476567422712\n",
       "\\end{enumerate*}\n"
      ],
      "text/markdown": [
       "1. 1.80326798007285\n",
       "2. 1.80517116006745\n",
       "3. 1.59392042048139\n",
       "4. 1.56566328462065\n",
       "5. 1.45973764499705\n",
       "6. 1.98070176218148\n",
       "7. 1.47394592086173\n",
       "8. 1.57249499387101\n",
       "9. 1.68042309589867\n",
       "10. 1.59919617824415\n",
       "11. 1.25619384124564\n",
       "12. 1.84713999205149\n",
       "13. 1.25019133605262\n",
       "14. 1.66543459652991\n",
       "15. 1.68347905566994\n",
       "16. 1.9697797195831\n",
       "17. 2.0467132254776\n",
       "18. 1.11423168883999\n",
       "19. 1.24295495966661\n",
       "20. 1.69424492596051\n",
       "21. 1.53665594718899\n",
       "22. 1.60556178194835\n",
       "23. 1.74944346409813\n",
       "24. 1.88603262315441\n",
       "25. 1.04941149949696\n",
       "26. 1.53444889182141\n",
       "27. 1.4149893747531\n",
       "28. 1.64418775886967\n",
       "29. 1.71136544131814\n",
       "30. 1.57303352872679\n",
       "31. 1.56081291772252\n",
       "32. 1.35850863815576\n",
       "33. 1.82976896680657\n",
       "34. 1.88092216628992\n",
       "35. 1.77756389812051\n",
       "36. 1.46423918396184\n",
       "37. 1.15233036036938\n",
       "38. 1.3993033001786\n",
       "39. 1.60012527967561\n",
       "40. 1.6147760507914\n",
       "41. 1.56627593669057\n",
       "42. 1.99323805922968\n",
       "43. 1.37662043560065\n",
       "44. 1.31556321862489\n",
       "45. 1.40290363505166\n",
       "46. 1.43859289417246\n",
       "47. 1.59881533163604\n",
       "48. 1.39603878008632\n",
       "49. 1.47719467180705\n",
       "50. 1.64476567422712\n",
       "\n",
       "\n"
      ],
      "text/plain": [
       " [1] 1.803268 1.805171 1.593920 1.565663 1.459738 1.980702 1.473946 1.572495\n",
       " [9] 1.680423 1.599196 1.256194 1.847140 1.250191 1.665435 1.683479 1.969780\n",
       "[17] 2.046713 1.114232 1.242955 1.694245 1.536656 1.605562 1.749443 1.886033\n",
       "[25] 1.049411 1.534449 1.414989 1.644188 1.711365 1.573034 1.560813 1.358509\n",
       "[33] 1.829769 1.880922 1.777564 1.464239 1.152330 1.399303 1.600125 1.614776\n",
       "[41] 1.566276 1.993238 1.376620 1.315563 1.402904 1.438593 1.598815 1.396039\n",
       "[49] 1.477195 1.644766"
      ]
     },
     "metadata": {},
     "output_type": "display_data"
    },
    {
     "data": {
      "text/plain": [
       "   Min. 1st Qu.  Median    Mean 3rd Qu.    Max. \n",
       "  2.856   4.141   4.872   4.969   5.513   7.742 "
      ]
     },
     "metadata": {},
     "output_type": "display_data"
    },
    {
     "data": {
      "image/png": "[encoded data removed]",
      "text/plain": [
       "Plot with title “Histogram of x”"
      ]
     },
     "metadata": {
      "image/png": {
       "height": 420,
       "width": 420
      },
      "text/plain": {
       "height": 420,
       "width": 420
      }
     },
     "output_type": "display_data"
    },
    {
     "data": {
      "image/png": "[encoded data removed]",
      "text/plain": [
       "Plot with title “Histogram of x”"
      ]
     },
     "metadata": {
      "image/png": {
       "height": 420,
       "width": 420
      },
      "text/plain": {
       "height": 420,
       "width": 420
      }
     },
     "output_type": "display_data"
    }
   ],
   "source": [
    "x <- rnorm(50, mean=5, sd=1) #generates 50 random numbers from a gaussian with mean 5 and sd 1. Don't worry...you'll know what this means soon!\n",
    "hist(x, density = 20)\n",
    "length(x) #return the length of x\n",
    "sum(x) #sum the numbers in x\n",
    "mean(x) #calculate the mean of the numbers in x\n",
    "var(x) #calculate the variance of the numbers in x\n",
    "sd(x) #calculate the standard deviation of x\n",
    "median(x) #calculate the median of x\n",
    "range(x) #calculate the range of x\n",
    "log(x) #calculate the natural log of x\n",
    "summary(x) #return 5-number summary of x\n",
    "\n",
    "hist(x, density = 20, freq = FALSE) #histogram of those random numbers; freq = FALSE makes x a 'density' (integrates to 1); density shades the boxes\n",
    "curve(dnorm(x,mean = mean(x),sd = sd(x)),from = min(x), to = max(x), add = TRUE) #overlay of normal density"
   ]
  },
  {
   "cell_type": "markdown",
   "metadata": {
    "deletable": false,
    "editable": false,
    "nbgrader": {
     "cell_type": "markdown",
     "checksum": "938c1268b10728bf6656c9c30ca3ce42",
     "grade": false,
     "grade_id": "cell-d05143cf1e54cf41",
     "locked": true,
     "schema_version": 3,
     "solution": false,
     "task": false
    }
   },
   "source": [
    "# Part II: Vector Indexing\n",
    "\n",
    "R (like Matlab and Python) has a nice indexing system. Given a matrix $A$, we can access the $[i,j]$ element of $A$ by writing `A[i,j]`. We can access the $i^{th}$ row by typing `A[i,]`. And, we can access the $j^{th}$ column by typing `A[,j]`. And, we can do even fancier things too...\n",
    "\n",
    "#### Modify the third line of code below to access the second, fourth, and sixth elements of the vector `a`. Take note of whether R starts indexing at 0 or 1!  Also, note that the last line uses the minus sign to access elements *other than* those specified in the index."
   ]
  },
  {
   "cell_type": "code",
   "execution_count": 11,
   "metadata": {},
   "outputs": [
    {
     "data": {
      "text/html": [
       "<style>\n",
       ".list-inline {list-style: none; margin:0; padding: 0}\n",
       ".list-inline>li {display: inline-block}\n",
       ".list-inline>li:not(:last-child)::after {content: \"\\00b7\"; padding: 0 .5ex}\n",
       "</style>\n",
       "<ol class=list-inline><li>2</li><li>4</li><li>6</li><li>8</li><li>10</li><li>12</li><li>14</li><li>16</li></ol>\n"
      ],
      "text/latex": [
       "\\begin{enumerate*}\n",
       "\\item 2\n",
       "\\item 4\n",
       "\\item 6\n",
       "\\item 8\n",
       "\\item 10\n",
       "\\item 12\n",
       "\\item 14\n",
       "\\item 16\n",
       "\\end{enumerate*}\n"
      ],
      "text/markdown": [
       "1. 2\n",
       "2. 4\n",
       "3. 6\n",
       "4. 8\n",
       "5. 10\n",
       "6. 12\n",
       "7. 14\n",
       "8. 16\n",
       "\n",
       "\n"
      ],
      "text/plain": [
       "[1]  2  4  6  8 10 12 14 16"
      ]
     },
     "metadata": {},
     "output_type": "display_data"
    },
    {
     "data": {
      "text/html": [
       "<style>\n",
       ".list-inline {list-style: none; margin:0; padding: 0}\n",
       ".list-inline>li {display: inline-block}\n",
       ".list-inline>li:not(:last-child)::after {content: \"\\00b7\"; padding: 0 .5ex}\n",
       "</style>\n",
       "<ol class=list-inline><li>4</li><li>8</li><li>12</li></ol>\n"
      ],
      "text/latex": [
       "\\begin{enumerate*}\n",
       "\\item 4\n",
       "\\item 8\n",
       "\\item 12\n",
       "\\end{enumerate*}\n"
      ],
      "text/markdown": [
       "1. 4\n",
       "2. 8\n",
       "3. 12\n",
       "\n",
       "\n"
      ],
      "text/plain": [
       "[1]  4  8 12"
      ]
     },
     "metadata": {},
     "output_type": "display_data"
    },
    {
     "data": {
      "text/html": [
       "<style>\n",
       ".list-inline {list-style: none; margin:0; padding: 0}\n",
       ".list-inline>li {display: inline-block}\n",
       ".list-inline>li:not(:last-child)::after {content: \"\\00b7\"; padding: 0 .5ex}\n",
       "</style>\n",
       "<ol class=list-inline><li>4</li><li>6</li><li>8</li><li>12</li><li>14</li><li>16</li></ol>\n"
      ],
      "text/latex": [
       "\\begin{enumerate*}\n",
       "\\item 4\n",
       "\\item 6\n",
       "\\item 8\n",
       "\\item 12\n",
       "\\item 14\n",
       "\\item 16\n",
       "\\end{enumerate*}\n"
      ],
      "text/markdown": [
       "1. 4\n",
       "2. 6\n",
       "3. 8\n",
       "4. 12\n",
       "5. 14\n",
       "6. 16\n",
       "\n",
       "\n"
      ],
      "text/plain": [
       "[1]  4  6  8 12 14 16"
      ]
     },
     "metadata": {},
     "output_type": "display_data"
    }
   ],
   "source": [
    "a = seq(2, 16, by = 2)\n",
    "a\n",
    "a[c(2, 4, 6)]\n",
    "\n",
    "###\n",
    "a[-c(1,5)]"
   ]
  },
  {
   "cell_type": "markdown",
   "metadata": {
    "deletable": false,
    "editable": false,
    "nbgrader": {
     "cell_type": "markdown",
     "checksum": "2e09b12faeeb44698c5914c8717ffc8c",
     "grade": false,
     "grade_id": "cell-10bddd1785dbae2f",
     "locked": true,
     "schema_version": 3,
     "solution": false,
     "task": false
    }
   },
   "source": [
    "#### Write code that prints the third through sixth elements of `a` and store it in a variable `b` (there's a short and long way)."
   ]
  },
  {
   "cell_type": "code",
   "execution_count": 12,
   "metadata": {
    "deletable": false,
    "nbgrader": {
     "cell_type": "code",
     "checksum": "0e6712f976dd7833c4076a12a8c86997",
     "grade": false,
     "grade_id": "cell-ca2b0c3789a469ff",
     "locked": false,
     "schema_version": 3,
     "solution": true,
     "task": false
    }
   },
   "outputs": [
    {
     "data": {
      "text/html": [
       "<style>\n",
       ".list-inline {list-style: none; margin:0; padding: 0}\n",
       ".list-inline>li {display: inline-block}\n",
       ".list-inline>li:not(:last-child)::after {content: \"\\00b7\"; padding: 0 .5ex}\n",
       "</style>\n",
       "<ol class=list-inline><li>6</li><li>8</li><li>10</li><li>12</li></ol>\n"
      ],
      "text/latex": [
       "\\begin{enumerate*}\n",
       "\\item 6\n",
       "\\item 8\n",
       "\\item 10\n",
       "\\item 12\n",
       "\\end{enumerate*}\n"
      ],
      "text/markdown": [
       "1. 6\n",
       "2. 8\n",
       "3. 10\n",
       "4. 12\n",
       "\n",
       "\n"
      ],
      "text/plain": [
       "[1]  6  8 10 12"
      ]
     },
     "metadata": {},
     "output_type": "display_data"
    }
   ],
   "source": [
    "# your code here\n",
    "b <- a[3:6]\n",
    "b"
   ]
  },
  {
   "cell_type": "code",
   "execution_count": 13,
   "metadata": {
    "deletable": false,
    "editable": false,
    "nbgrader": {
     "cell_type": "code",
     "checksum": "ac0aade7e09c29f1ddaaf5c58fe1c7b6",
     "grade": true,
     "grade_id": "cell-208c44d46b6a9f4a",
     "locked": true,
     "points": 1,
     "schema_version": 3,
     "solution": false,
     "task": false
    }
   },
   "outputs": [],
   "source": [
    "# Test Cell"
   ]
  },
  {
   "cell_type": "markdown",
   "metadata": {
    "deletable": false,
    "editable": false,
    "nbgrader": {
     "cell_type": "markdown",
     "checksum": "c42e4b1aae7859768be3e0cd2ea5b9cd",
     "grade": false,
     "grade_id": "cell-7a5919d10f0ff115",
     "locked": true,
     "schema_version": 3,
     "solution": false,
     "task": false
    }
   },
   "source": [
    "Logical indexing is another powerful tool for working with data in R. \n",
    "\n",
    "#### Let's start with typing things like `a > 10`, `a <= 4`, `a == 10`, and `a != 10`. What do these lines do?"
   ]
  },
  {
   "cell_type": "code",
   "execution_count": 14,
   "metadata": {
    "deletable": false,
    "nbgrader": {
     "cell_type": "code",
     "checksum": "fbfb3952f19f6c8eb77d92b618090e2c",
     "grade": true,
     "grade_id": "cell-82ec56dcfad8858e",
     "locked": false,
     "points": 0,
     "schema_version": 3,
     "solution": true,
     "task": false
    }
   },
   "outputs": [
    {
     "data": {
      "text/html": [
       "<style>\n",
       ".list-inline {list-style: none; margin:0; padding: 0}\n",
       ".list-inline>li {display: inline-block}\n",
       ".list-inline>li:not(:last-child)::after {content: \"\\00b7\"; padding: 0 .5ex}\n",
       "</style>\n",
       "<ol class=list-inline><li>FALSE</li><li>FALSE</li><li>FALSE</li><li>FALSE</li><li>FALSE</li><li>TRUE</li><li>TRUE</li><li>TRUE</li></ol>\n"
      ],
      "text/latex": [
       "\\begin{enumerate*}\n",
       "\\item FALSE\n",
       "\\item FALSE\n",
       "\\item FALSE\n",
       "\\item FALSE\n",
       "\\item FALSE\n",
       "\\item TRUE\n",
       "\\item TRUE\n",
       "\\item TRUE\n",
       "\\end{enumerate*}\n"
      ],
      "text/markdown": [
       "1. FALSE\n",
       "2. FALSE\n",
       "3. FALSE\n",
       "4. FALSE\n",
       "5. FALSE\n",
       "6. TRUE\n",
       "7. TRUE\n",
       "8. TRUE\n",
       "\n",
       "\n"
      ],
      "text/plain": [
       "[1] FALSE FALSE FALSE FALSE FALSE  TRUE  TRUE  TRUE"
      ]
     },
     "metadata": {},
     "output_type": "display_data"
    },
    {
     "data": {
      "text/html": [
       "<style>\n",
       ".list-inline {list-style: none; margin:0; padding: 0}\n",
       ".list-inline>li {display: inline-block}\n",
       ".list-inline>li:not(:last-child)::after {content: \"\\00b7\"; padding: 0 .5ex}\n",
       "</style>\n",
       "<ol class=list-inline><li>TRUE</li><li>TRUE</li><li>FALSE</li><li>FALSE</li><li>FALSE</li><li>FALSE</li><li>FALSE</li><li>FALSE</li></ol>\n"
      ],
      "text/latex": [
       "\\begin{enumerate*}\n",
       "\\item TRUE\n",
       "\\item TRUE\n",
       "\\item FALSE\n",
       "\\item FALSE\n",
       "\\item FALSE\n",
       "\\item FALSE\n",
       "\\item FALSE\n",
       "\\item FALSE\n",
       "\\end{enumerate*}\n"
      ],
      "text/markdown": [
       "1. TRUE\n",
       "2. TRUE\n",
       "3. FALSE\n",
       "4. FALSE\n",
       "5. FALSE\n",
       "6. FALSE\n",
       "7. FALSE\n",
       "8. FALSE\n",
       "\n",
       "\n"
      ],
      "text/plain": [
       "[1]  TRUE  TRUE FALSE FALSE FALSE FALSE FALSE FALSE"
      ]
     },
     "metadata": {},
     "output_type": "display_data"
    },
    {
     "data": {
      "text/html": [
       "<style>\n",
       ".list-inline {list-style: none; margin:0; padding: 0}\n",
       ".list-inline>li {display: inline-block}\n",
       ".list-inline>li:not(:last-child)::after {content: \"\\00b7\"; padding: 0 .5ex}\n",
       "</style>\n",
       "<ol class=list-inline><li>FALSE</li><li>FALSE</li><li>FALSE</li><li>FALSE</li><li>TRUE</li><li>FALSE</li><li>FALSE</li><li>FALSE</li></ol>\n"
      ],
      "text/latex": [
       "\\begin{enumerate*}\n",
       "\\item FALSE\n",
       "\\item FALSE\n",
       "\\item FALSE\n",
       "\\item FALSE\n",
       "\\item TRUE\n",
       "\\item FALSE\n",
       "\\item FALSE\n",
       "\\item FALSE\n",
       "\\end{enumerate*}\n"
      ],
      "text/markdown": [
       "1. FALSE\n",
       "2. FALSE\n",
       "3. FALSE\n",
       "4. FALSE\n",
       "5. TRUE\n",
       "6. FALSE\n",
       "7. FALSE\n",
       "8. FALSE\n",
       "\n",
       "\n"
      ],
      "text/plain": [
       "[1] FALSE FALSE FALSE FALSE  TRUE FALSE FALSE FALSE"
      ]
     },
     "metadata": {},
     "output_type": "display_data"
    },
    {
     "data": {
      "text/html": [
       "<style>\n",
       ".list-inline {list-style: none; margin:0; padding: 0}\n",
       ".list-inline>li {display: inline-block}\n",
       ".list-inline>li:not(:last-child)::after {content: \"\\00b7\"; padding: 0 .5ex}\n",
       "</style>\n",
       "<ol class=list-inline><li>TRUE</li><li>TRUE</li><li>TRUE</li><li>TRUE</li><li>FALSE</li><li>TRUE</li><li>TRUE</li><li>TRUE</li></ol>\n"
      ],
      "text/latex": [
       "\\begin{enumerate*}\n",
       "\\item TRUE\n",
       "\\item TRUE\n",
       "\\item TRUE\n",
       "\\item TRUE\n",
       "\\item FALSE\n",
       "\\item TRUE\n",
       "\\item TRUE\n",
       "\\item TRUE\n",
       "\\end{enumerate*}\n"
      ],
      "text/markdown": [
       "1. TRUE\n",
       "2. TRUE\n",
       "3. TRUE\n",
       "4. TRUE\n",
       "5. FALSE\n",
       "6. TRUE\n",
       "7. TRUE\n",
       "8. TRUE\n",
       "\n",
       "\n"
      ],
      "text/plain": [
       "[1]  TRUE  TRUE  TRUE  TRUE FALSE  TRUE  TRUE  TRUE"
      ]
     },
     "metadata": {},
     "output_type": "display_data"
    }
   ],
   "source": [
    "# your code here\n",
    "a > 10\n",
    "a <= 4\n",
    "a == 10\n",
    "a != 10"
   ]
  },
  {
   "cell_type": "markdown",
   "metadata": {
    "deletable": false,
    "editable": false,
    "nbgrader": {
     "cell_type": "markdown",
     "checksum": "bc0e00526c44f6f3dfe360a253d389c1",
     "grade": false,
     "grade_id": "cell-0717f5cbae296e02",
     "locked": true,
     "schema_version": 3,
     "solution": false,
     "task": false
    }
   },
   "source": [
    "Now let's look at more complicated logical statements. Note that ${\\tt \\&}$ represents \"and\", and ${\\tt |}$ represents \"or\" in R. \n",
    "\n",
    "#### Write code that prints ${\\tt TRUE}$ for values of $a$ greater than 6 and less than or equal to 10, and ${\\tt FALSE}$ otherwise. Then, write code that prints ${\\tt TRUE}$ for values of $a$  less than or equal to 4 or greater or equal to 12, and ${\\tt FALSE}$ otherwise."
   ]
  },
  {
   "cell_type": "code",
   "execution_count": 15,
   "metadata": {
    "deletable": false,
    "nbgrader": {
     "cell_type": "code",
     "checksum": "99f2b38247101961f90488f5475d9b33",
     "grade": true,
     "grade_id": "cell-d201b4f9c6c2e47c",
     "locked": false,
     "points": 0,
     "schema_version": 3,
     "solution": true,
     "task": false
    }
   },
   "outputs": [
    {
     "data": {
      "text/html": [
       "<style>\n",
       ".list-inline {list-style: none; margin:0; padding: 0}\n",
       ".list-inline>li {display: inline-block}\n",
       ".list-inline>li:not(:last-child)::after {content: \"\\00b7\"; padding: 0 .5ex}\n",
       "</style>\n",
       "<ol class=list-inline><li>FALSE</li><li>FALSE</li><li>FALSE</li><li>TRUE</li><li>TRUE</li><li>FALSE</li><li>FALSE</li><li>FALSE</li></ol>\n"
      ],
      "text/latex": [
       "\\begin{enumerate*}\n",
       "\\item FALSE\n",
       "\\item FALSE\n",
       "\\item FALSE\n",
       "\\item TRUE\n",
       "\\item TRUE\n",
       "\\item FALSE\n",
       "\\item FALSE\n",
       "\\item FALSE\n",
       "\\end{enumerate*}\n"
      ],
      "text/markdown": [
       "1. FALSE\n",
       "2. FALSE\n",
       "3. FALSE\n",
       "4. TRUE\n",
       "5. TRUE\n",
       "6. FALSE\n",
       "7. FALSE\n",
       "8. FALSE\n",
       "\n",
       "\n"
      ],
      "text/plain": [
       "[1] FALSE FALSE FALSE  TRUE  TRUE FALSE FALSE FALSE"
      ]
     },
     "metadata": {},
     "output_type": "display_data"
    },
    {
     "data": {
      "text/html": [
       "<style>\n",
       ".list-inline {list-style: none; margin:0; padding: 0}\n",
       ".list-inline>li {display: inline-block}\n",
       ".list-inline>li:not(:last-child)::after {content: \"\\00b7\"; padding: 0 .5ex}\n",
       "</style>\n",
       "<ol class=list-inline><li>TRUE</li><li>TRUE</li><li>FALSE</li><li>FALSE</li><li>FALSE</li><li>TRUE</li><li>TRUE</li><li>TRUE</li></ol>\n"
      ],
      "text/latex": [
       "\\begin{enumerate*}\n",
       "\\item TRUE\n",
       "\\item TRUE\n",
       "\\item FALSE\n",
       "\\item FALSE\n",
       "\\item FALSE\n",
       "\\item TRUE\n",
       "\\item TRUE\n",
       "\\item TRUE\n",
       "\\end{enumerate*}\n"
      ],
      "text/markdown": [
       "1. TRUE\n",
       "2. TRUE\n",
       "3. FALSE\n",
       "4. FALSE\n",
       "5. FALSE\n",
       "6. TRUE\n",
       "7. TRUE\n",
       "8. TRUE\n",
       "\n",
       "\n"
      ],
      "text/plain": [
       "[1]  TRUE  TRUE FALSE FALSE FALSE  TRUE  TRUE  TRUE"
      ]
     },
     "metadata": {},
     "output_type": "display_data"
    }
   ],
   "source": [
    "# your code here\n",
    "a > 6 & a <= 10\n",
    "a <= 4 | a >= 12"
   ]
  },
  {
   "cell_type": "markdown",
   "metadata": {
    "deletable": false,
    "editable": false,
    "nbgrader": {
     "cell_type": "markdown",
     "checksum": "86245824b134c3991dfb9acc9afc56d7",
     "grade": false,
     "grade_id": "cell-e00cd77cdad99b3b",
     "locked": true,
     "schema_version": 3,
     "solution": false,
     "task": false
    }
   },
   "source": [
    "The real power of logical indexing comes when we take these vectors of logicals and put them in the index of a vector. The first line below tells R to print all elements of `a` such that `a < 6`.\n",
    "\n",
    "#### Write code to print elements of `a` equal to 10. Then, print elements of `a` less than six or equal to 10."
   ]
  },
  {
   "cell_type": "code",
   "execution_count": 16,
   "metadata": {
    "deletable": false,
    "nbgrader": {
     "cell_type": "code",
     "checksum": "3109a00c69cd0e717914ddf9c043996a",
     "grade": true,
     "grade_id": "cell-ac0010499195bcfa",
     "locked": false,
     "points": 0,
     "schema_version": 3,
     "solution": true,
     "task": false
    }
   },
   "outputs": [
    {
     "data": {
      "text/html": [
       "10"
      ],
      "text/latex": [
       "10"
      ],
      "text/markdown": [
       "10"
      ],
      "text/plain": [
       "[1] 10"
      ]
     },
     "metadata": {},
     "output_type": "display_data"
    },
    {
     "data": {
      "text/html": [
       "<style>\n",
       ".list-inline {list-style: none; margin:0; padding: 0}\n",
       ".list-inline>li {display: inline-block}\n",
       ".list-inline>li:not(:last-child)::after {content: \"\\00b7\"; padding: 0 .5ex}\n",
       "</style>\n",
       "<ol class=list-inline><li>2</li><li>4</li><li>10</li></ol>\n"
      ],
      "text/latex": [
       "\\begin{enumerate*}\n",
       "\\item 2\n",
       "\\item 4\n",
       "\\item 10\n",
       "\\end{enumerate*}\n"
      ],
      "text/markdown": [
       "1. 2\n",
       "2. 4\n",
       "3. 10\n",
       "\n",
       "\n"
      ],
      "text/plain": [
       "[1]  2  4 10"
      ]
     },
     "metadata": {},
     "output_type": "display_data"
    }
   ],
   "source": [
    "# your code here\n",
    "a[a == 10]\n",
    "a[a < 6 | a == 10]"
   ]
  },
  {
   "cell_type": "markdown",
   "metadata": {
    "deletable": false,
    "editable": false,
    "nbgrader": {
     "cell_type": "markdown",
     "checksum": "d30da62b4cb8cb4d436ee587839895d1",
     "grade": false,
     "grade_id": "cell-6629e8e56c350283",
     "locked": true,
     "schema_version": 3,
     "solution": false,
     "task": false
    }
   },
   "source": [
    "## Part III: Functions, Loops and Beyond!\n",
    "\n",
    "As we've seen, R has many built in functions; but, you can write your own, too! Below is the syntax.\n",
    "\n",
    "#### Write a function that concatenates two vectors."
   ]
  },
  {
   "cell_type": "code",
   "execution_count": 17,
   "metadata": {
    "deletable": false,
    "nbgrader": {
     "cell_type": "code",
     "checksum": "4180d8fc52225f6de31a5288ca66dfff",
     "grade": true,
     "grade_id": "cell-f0099c15888e7efb",
     "locked": false,
     "points": 0,
     "schema_version": 3,
     "solution": true,
     "task": false
    }
   },
   "outputs": [
    {
     "data": {
      "text/html": [
       "<style>\n",
       ".list-inline {list-style: none; margin:0; padding: 0}\n",
       ".list-inline>li {display: inline-block}\n",
       ".list-inline>li:not(:last-child)::after {content: \"\\00b7\"; padding: 0 .5ex}\n",
       "</style>\n",
       "<ol class=list-inline><li>1</li><li>2</li><li>3</li><li>4</li><li>5</li><li>6</li><li>7</li><li>8</li><li>9</li><li>10</li></ol>\n"
      ],
      "text/latex": [
       "\\begin{enumerate*}\n",
       "\\item 1\n",
       "\\item 2\n",
       "\\item 3\n",
       "\\item 4\n",
       "\\item 5\n",
       "\\item 6\n",
       "\\item 7\n",
       "\\item 8\n",
       "\\item 9\n",
       "\\item 10\n",
       "\\end{enumerate*}\n"
      ],
      "text/markdown": [
       "1. 1\n",
       "2. 2\n",
       "3. 3\n",
       "4. 4\n",
       "5. 5\n",
       "6. 6\n",
       "7. 7\n",
       "8. 8\n",
       "9. 9\n",
       "10. 10\n",
       "\n",
       "\n"
      ],
      "text/plain": [
       " [1]  1  2  3  4  5  6  7  8  9 10"
      ]
     },
     "metadata": {},
     "output_type": "display_data"
    }
   ],
   "source": [
    "y = function(input){\n",
    "    return(output)\n",
    "}\n",
    "\n",
    "# your code here\n",
    "concatenate = function(a, b){\n",
    "    return(c(a, b))\n",
    "}\n",
    "\n",
    "concatenate(1:5, 6:10)"
   ]
  },
  {
   "cell_type": "markdown",
   "metadata": {
    "deletable": false,
    "editable": false,
    "nbgrader": {
     "cell_type": "markdown",
     "checksum": "cafae1af6928b631ac82c59f27d757da",
     "grade": false,
     "grade_id": "cell-8f25eb7bd9eb75dd",
     "locked": true,
     "schema_version": 3,
     "solution": false,
     "task": false
    }
   },
   "source": [
    "The function f1 below produces results like 'T' 'H' 'T' 'T'. We can think of `f1` a function that flips a coin four times. \n",
    "\n",
    "#### Write a function `f2` that can be interpreted as rolling a fair die eight times. How could you modify the code to roll a biased die?\n",
    "\n",
    "#### Notice that every time you run these function, the results are different! Uncomment the line `set.seed(99)` and notice what happens."
   ]
  },
  {
   "cell_type": "code",
   "execution_count": 18,
   "metadata": {
    "deletable": false,
    "editable": false,
    "nbgrader": {
     "cell_type": "code",
     "checksum": "05d8365e9c0e47c8cf5f78d3950e4a58",
     "grade": false,
     "grade_id": "cell-3bbf251288e4462a",
     "locked": true,
     "schema_version": 3,
     "solution": false,
     "task": false
    }
   },
   "outputs": [
    {
     "data": {
      "text/html": [
       "<style>\n",
       ".list-inline {list-style: none; margin:0; padding: 0}\n",
       ".list-inline>li {display: inline-block}\n",
       ".list-inline>li:not(:last-child)::after {content: \"\\00b7\"; padding: 0 .5ex}\n",
       "</style>\n",
       "<ol class=list-inline><li>'H'</li><li>'T'</li><li>'T'</li><li>'T'</li></ol>\n"
      ],
      "text/latex": [
       "\\begin{enumerate*}\n",
       "\\item 'H'\n",
       "\\item 'T'\n",
       "\\item 'T'\n",
       "\\item 'T'\n",
       "\\end{enumerate*}\n"
      ],
      "text/markdown": [
       "1. 'H'\n",
       "2. 'T'\n",
       "3. 'T'\n",
       "4. 'T'\n",
       "\n",
       "\n"
      ],
      "text/plain": [
       "[1] \"H\" \"T\" \"T\" \"T\""
      ]
     },
     "metadata": {},
     "output_type": "display_data"
    },
    {
     "data": {
      "text/html": [
       "<style>\n",
       ".list-inline {list-style: none; margin:0; padding: 0}\n",
       ".list-inline>li {display: inline-block}\n",
       ".list-inline>li:not(:last-child)::after {content: \"\\00b7\"; padding: 0 .5ex}\n",
       "</style>\n",
       "<ol class=list-inline><li>5</li><li>5</li><li>1</li><li>2</li><li>6</li><li>5</li><li>1</li><li>1</li></ol>\n"
      ],
      "text/latex": [
       "\\begin{enumerate*}\n",
       "\\item 5\n",
       "\\item 5\n",
       "\\item 1\n",
       "\\item 2\n",
       "\\item 6\n",
       "\\item 5\n",
       "\\item 1\n",
       "\\item 1\n",
       "\\end{enumerate*}\n"
      ],
      "text/markdown": [
       "1. 5\n",
       "2. 5\n",
       "3. 1\n",
       "4. 2\n",
       "5. 6\n",
       "6. 5\n",
       "7. 1\n",
       "8. 1\n",
       "\n",
       "\n"
      ],
      "text/plain": [
       "[1] 5 5 1 2 6 5 1 1"
      ]
     },
     "metadata": {},
     "output_type": "display_data"
    }
   ],
   "source": [
    "#set.seed(99)\n",
    "f1 = function(){\n",
    "    s = sample(c(\"H\", \"T\"), size = 4, replace = TRUE)\n",
    "    return(s)\n",
    "}\n",
    "\n",
    "f1()\n",
    "\n",
    "f2 = function(){\n",
    "    s = sample(c(1,2,3,4,5,6), size = 8, replace = TRUE)\n",
    "    return(s)\n",
    "}\n",
    "\n",
    "f2()"
   ]
  },
  {
   "cell_type": "code",
   "execution_count": 19,
   "metadata": {},
   "outputs": [
    {
     "data": {
      "text/html": [
       "<style>\n",
       ".list-inline {list-style: none; margin:0; padding: 0}\n",
       ".list-inline>li {display: inline-block}\n",
       ".list-inline>li:not(:last-child)::after {content: \"\\00b7\"; padding: 0 .5ex}\n",
       "</style>\n",
       "<ol class=list-inline><li>'T'</li><li>'H'</li><li>'T'</li><li>'T'</li></ol>\n"
      ],
      "text/latex": [
       "\\begin{enumerate*}\n",
       "\\item 'T'\n",
       "\\item 'H'\n",
       "\\item 'T'\n",
       "\\item 'T'\n",
       "\\end{enumerate*}\n"
      ],
      "text/markdown": [
       "1. 'T'\n",
       "2. 'H'\n",
       "3. 'T'\n",
       "4. 'T'\n",
       "\n",
       "\n"
      ],
      "text/plain": [
       "[1] \"T\" \"H\" \"T\" \"T\""
      ]
     },
     "metadata": {},
     "output_type": "display_data"
    },
    {
     "data": {
      "text/html": [
       "<style>\n",
       ".list-inline {list-style: none; margin:0; padding: 0}\n",
       ".list-inline>li {display: inline-block}\n",
       ".list-inline>li:not(:last-child)::after {content: \"\\00b7\"; padding: 0 .5ex}\n",
       "</style>\n",
       "<ol class=list-inline><li>6</li><li>5</li><li>3</li><li>2</li><li>6</li><li>2</li><li>6</li><li>5</li></ol>\n"
      ],
      "text/latex": [
       "\\begin{enumerate*}\n",
       "\\item 6\n",
       "\\item 5\n",
       "\\item 3\n",
       "\\item 2\n",
       "\\item 6\n",
       "\\item 2\n",
       "\\item 6\n",
       "\\item 5\n",
       "\\end{enumerate*}\n"
      ],
      "text/markdown": [
       "1. 6\n",
       "2. 5\n",
       "3. 3\n",
       "4. 2\n",
       "5. 6\n",
       "6. 2\n",
       "7. 6\n",
       "8. 5\n",
       "\n",
       "\n"
      ],
      "text/plain": [
       "[1] 6 5 3 2 6 2 6 5"
      ]
     },
     "metadata": {},
     "output_type": "display_data"
    }
   ],
   "source": [
    "set.seed(99)\n",
    "f1 = function(){\n",
    "    s = sample(c(\"H\", \"T\"), size = 4, replace = TRUE)\n",
    "    return(s)\n",
    "}\n",
    "\n",
    "f1()\n",
    "\n",
    "f2 = function(){\n",
    "    s = sample(c(1,2,3,4,5,6), size = 8, replace = TRUE)\n",
    "    return(s)\n",
    "}\n",
    "\n",
    "f2()"
   ]
  },
  {
   "cell_type": "markdown",
   "metadata": {
    "deletable": false,
    "editable": false,
    "nbgrader": {
     "cell_type": "markdown",
     "checksum": "2feda058852116e61fed11c62d27c399",
     "grade": false,
     "grade_id": "cell-4c6457c1505c7089",
     "locked": true,
     "schema_version": 3,
     "solution": false,
     "task": false
    }
   },
   "source": [
    "In R, just like in C++, Matlab, Python, etc., you can write loops to repeat a sequence of instructions until a certain condition is met.  \n",
    "\n",
    "#### Below is the syntax for a loop. Inside the loop, write a line of code that populates the matrix `M` with the numbers 1 through 20."
   ]
  },
  {
   "cell_type": "code",
   "execution_count": 20,
   "metadata": {},
   "outputs": [
    {
     "data": {
      "text/html": [
       "2"
      ],
      "text/latex": [
       "2"
      ],
      "text/markdown": [
       "2"
      ],
      "text/plain": [
       "[1] 2"
      ]
     },
     "metadata": {},
     "output_type": "display_data"
    }
   ],
   "source": [
    "mdat <- matrix(c(1,2,3, 11,12,13), nrow = 2, ncol = 3, byrow = TRUE,\n",
    "               dimnames = list(c(\"row1\", \"row2\"),\n",
    "                               c(\"C.1\", \"C.2\", \"C.3\")))\n",
    "mdat[3]"
   ]
  },
  {
   "cell_type": "code",
   "execution_count": 21,
   "metadata": {
    "deletable": false,
    "nbgrader": {
     "cell_type": "code",
     "checksum": "79b3c6a9699a5863bff68d7e25844294",
     "grade": true,
     "grade_id": "cell-86173bd48cc9dffe",
     "locked": false,
     "points": 0,
     "schema_version": 3,
     "solution": true,
     "task": false
    }
   },
   "outputs": [
    {
     "data": {
      "text/html": [
       "<table>\n",
       "<caption>A matrix: 10 × 2 of type int</caption>\n",
       "<tbody>\n",
       "\t<tr><td> 1</td><td>11</td></tr>\n",
       "\t<tr><td> 2</td><td>12</td></tr>\n",
       "\t<tr><td> 3</td><td>13</td></tr>\n",
       "\t<tr><td> 4</td><td>14</td></tr>\n",
       "\t<tr><td> 5</td><td>15</td></tr>\n",
       "\t<tr><td> 6</td><td>16</td></tr>\n",
       "\t<tr><td> 7</td><td>17</td></tr>\n",
       "\t<tr><td> 8</td><td>18</td></tr>\n",
       "\t<tr><td> 9</td><td>19</td></tr>\n",
       "\t<tr><td>10</td><td>20</td></tr>\n",
       "</tbody>\n",
       "</table>\n"
      ],
      "text/latex": [
       "A matrix: 10 × 2 of type int\n",
       "\\begin{tabular}{ll}\n",
       "\t  1 & 11\\\\\n",
       "\t  2 & 12\\\\\n",
       "\t  3 & 13\\\\\n",
       "\t  4 & 14\\\\\n",
       "\t  5 & 15\\\\\n",
       "\t  6 & 16\\\\\n",
       "\t  7 & 17\\\\\n",
       "\t  8 & 18\\\\\n",
       "\t  9 & 19\\\\\n",
       "\t 10 & 20\\\\\n",
       "\\end{tabular}\n"
      ],
      "text/markdown": [
       "\n",
       "A matrix: 10 × 2 of type int\n",
       "\n",
       "|  1 | 11 |\n",
       "|  2 | 12 |\n",
       "|  3 | 13 |\n",
       "|  4 | 14 |\n",
       "|  5 | 15 |\n",
       "|  6 | 16 |\n",
       "|  7 | 17 |\n",
       "|  8 | 18 |\n",
       "|  9 | 19 |\n",
       "| 10 | 20 |\n",
       "\n"
      ],
      "text/plain": [
       "      [,1] [,2]\n",
       " [1,]  1   11  \n",
       " [2,]  2   12  \n",
       " [3,]  3   13  \n",
       " [4,]  4   14  \n",
       " [5,]  5   15  \n",
       " [6,]  6   16  \n",
       " [7,]  7   17  \n",
       " [8,]  8   18  \n",
       " [9,]  9   19  \n",
       "[10,] 10   20  "
      ]
     },
     "metadata": {},
     "output_type": "display_data"
    }
   ],
   "source": [
    "n = 20; \n",
    "M = matrix(NA, ncol = 2, nrow = 10); #check the help file so that you know what this does!\n",
    "\n",
    "for (i in 1:n){\n",
    "    # your code here\n",
    "    M[i] = i\n",
    "}\n",
    "M"
   ]
  },
  {
   "cell_type": "markdown",
   "metadata": {
    "deletable": false,
    "editable": false,
    "nbgrader": {
     "cell_type": "markdown",
     "checksum": "242344a20267a21c100101435d1e6699",
     "grade": false,
     "grade_id": "cell-b03ad0c060f0eac5",
     "locked": true,
     "schema_version": 3,
     "solution": false,
     "task": false
    }
   },
   "source": [
    "#### Now, write a loop to calculate the mean of each column of `M`."
   ]
  },
  {
   "cell_type": "code",
   "execution_count": 22,
   "metadata": {
    "deletable": false,
    "nbgrader": {
     "cell_type": "code",
     "checksum": "7dca6018344a9c8eaa3faf4ea4d971be",
     "grade": true,
     "grade_id": "cell-87b55cec8ec1ec0e",
     "locked": false,
     "points": 0,
     "schema_version": 3,
     "solution": true,
     "task": false
    }
   },
   "outputs": [
    {
     "data": {
      "text/html": [
       "<table>\n",
       "<caption>A matrix: 2 × 1 of type dbl</caption>\n",
       "<tbody>\n",
       "\t<tr><td> 5.5</td></tr>\n",
       "\t<tr><td>15.5</td></tr>\n",
       "</tbody>\n",
       "</table>\n"
      ],
      "text/latex": [
       "A matrix: 2 × 1 of type dbl\n",
       "\\begin{tabular}{l}\n",
       "\t  5.5\\\\\n",
       "\t 15.5\\\\\n",
       "\\end{tabular}\n"
      ],
      "text/markdown": [
       "\n",
       "A matrix: 2 × 1 of type dbl\n",
       "\n",
       "|  5.5 |\n",
       "| 15.5 |\n",
       "\n"
      ],
      "text/plain": [
       "     [,1]\n",
       "[1,]  5.5\n",
       "[2,] 15.5"
      ]
     },
     "metadata": {},
     "output_type": "display_data"
    },
    {
     "data": {
      "text/html": [
       "<style>\n",
       ".list-inline {list-style: none; margin:0; padding: 0}\n",
       ".list-inline>li {display: inline-block}\n",
       ".list-inline>li:not(:last-child)::after {content: \"\\00b7\"; padding: 0 .5ex}\n",
       "</style>\n",
       "<ol class=list-inline><li>5.5</li><li>15.5</li></ol>\n"
      ],
      "text/latex": [
       "\\begin{enumerate*}\n",
       "\\item 5.5\n",
       "\\item 15.5\n",
       "\\end{enumerate*}\n"
      ],
      "text/markdown": [
       "1. 5.5\n",
       "2. 15.5\n",
       "\n",
       "\n"
      ],
      "text/plain": [
       "[1]  5.5 15.5"
      ]
     },
     "metadata": {},
     "output_type": "display_data"
    }
   ],
   "source": [
    "m = matrix(NA, nrow = 2, ncol = 1)\n",
    "for (i in 1:2){\n",
    "    # your code here\n",
    "    m[i] = mean(M[(10*(i - 1) + 1):(10 * i)])\n",
    "}\n",
    "m\n",
    "colMeans(M)"
   ]
  },
  {
   "cell_type": "markdown",
   "metadata": {
    "deletable": false,
    "editable": false,
    "nbgrader": {
     "cell_type": "markdown",
     "checksum": "8992eab41ca4f880904f92feef105edc",
     "grade": false,
     "grade_id": "cell-2c2f0ef6b7e1c1e2",
     "locked": true,
     "schema_version": 3,
     "solution": false,
     "task": false
    }
   },
   "source": [
    "### Here's an incredibly important lesson about R: many tasks that require loops in other languages (e.g., C++) *do not* require loops in R. \n",
    "\n",
    "#### As an example, use the function `colMeans()` to calculate the means of the columns of `M` without a loop. Store these means in a variable `M_means`. Then, look at the help file for `colMeans()` to see related functions."
   ]
  },
  {
   "cell_type": "code",
   "execution_count": 23,
   "metadata": {
    "deletable": false,
    "nbgrader": {
     "cell_type": "code",
     "checksum": "e853dbd547a9a764778813f08d790a75",
     "grade": false,
     "grade_id": "cell-00795123493d9486",
     "locked": false,
     "schema_version": 3,
     "solution": true,
     "task": false
    }
   },
   "outputs": [
    {
     "data": {
      "text/html": [
       "<style>\n",
       ".list-inline {list-style: none; margin:0; padding: 0}\n",
       ".list-inline>li {display: inline-block}\n",
       ".list-inline>li:not(:last-child)::after {content: \"\\00b7\"; padding: 0 .5ex}\n",
       "</style>\n",
       "<ol class=list-inline><li>5.5</li><li>15.5</li></ol>\n"
      ],
      "text/latex": [
       "\\begin{enumerate*}\n",
       "\\item 5.5\n",
       "\\item 15.5\n",
       "\\end{enumerate*}\n"
      ],
      "text/markdown": [
       "1. 5.5\n",
       "2. 15.5\n",
       "\n",
       "\n"
      ],
      "text/plain": [
       "[1]  5.5 15.5"
      ]
     },
     "metadata": {},
     "output_type": "display_data"
    }
   ],
   "source": [
    "# your code here\n",
    "M_means <- colMeans(M)\n",
    "M_means\n",
    "? colMeans"
   ]
  },
  {
   "cell_type": "code",
   "execution_count": 24,
   "metadata": {
    "deletable": false,
    "editable": false,
    "nbgrader": {
     "cell_type": "code",
     "checksum": "01cd507b51d20762c3b8bbd9a9e9fa3c",
     "grade": true,
     "grade_id": "cell-4f1e5d04b5750095",
     "locked": true,
     "points": 2,
     "schema_version": 3,
     "solution": false,
     "task": false
    }
   },
   "outputs": [],
   "source": [
    "# Test Cell"
   ]
  },
  {
   "cell_type": "markdown",
   "metadata": {
    "deletable": false,
    "editable": false,
    "nbgrader": {
     "cell_type": "markdown",
     "checksum": "ff651b78c0e5bd564b90eb844df1a65d",
     "grade": false,
     "grade_id": "cell-ad87e7ccf67a7182",
     "locked": true,
     "schema_version": 3,
     "solution": false,
     "task": false
    }
   },
   "source": [
    "Note that the family of functions that includes `colMeans()` does not include a function to calculate the standard deviation or variance of a column (or row). But we can still do this without loops, using the `apply()` function.\n",
    "\n",
    "**Below, the `apply()` function is set up to calculate the variance of each row of M. Modify the code to calculate the standard deviation of each column of M. Store your answer in `col_sd`.**"
   ]
  },
  {
   "cell_type": "code",
   "execution_count": 25,
   "metadata": {
    "deletable": false,
    "nbgrader": {
     "cell_type": "code",
     "checksum": "bc2ccb570f37b841de49d7605774b777",
     "grade": false,
     "grade_id": "cell-7e7671c441c5ff3e",
     "locked": false,
     "schema_version": 3,
     "solution": true,
     "task": false
    }
   },
   "outputs": [
    {
     "data": {
      "text/html": [
       "<style>\n",
       ".list-inline {list-style: none; margin:0; padding: 0}\n",
       ".list-inline>li {display: inline-block}\n",
       ".list-inline>li:not(:last-child)::after {content: \"\\00b7\"; padding: 0 .5ex}\n",
       "</style>\n",
       "<ol class=list-inline><li>50</li><li>50</li><li>50</li><li>50</li><li>50</li><li>50</li><li>50</li><li>50</li><li>50</li><li>50</li></ol>\n"
      ],
      "text/latex": [
       "\\begin{enumerate*}\n",
       "\\item 50\n",
       "\\item 50\n",
       "\\item 50\n",
       "\\item 50\n",
       "\\item 50\n",
       "\\item 50\n",
       "\\item 50\n",
       "\\item 50\n",
       "\\item 50\n",
       "\\item 50\n",
       "\\end{enumerate*}\n"
      ],
      "text/markdown": [
       "1. 50\n",
       "2. 50\n",
       "3. 50\n",
       "4. 50\n",
       "5. 50\n",
       "6. 50\n",
       "7. 50\n",
       "8. 50\n",
       "9. 50\n",
       "10. 50\n",
       "\n",
       "\n"
      ],
      "text/plain": [
       " [1] 50 50 50 50 50 50 50 50 50 50"
      ]
     },
     "metadata": {},
     "output_type": "display_data"
    },
    {
     "data": {
      "text/html": [
       "<style>\n",
       ".list-inline {list-style: none; margin:0; padding: 0}\n",
       ".list-inline>li {display: inline-block}\n",
       ".list-inline>li:not(:last-child)::after {content: \"\\00b7\"; padding: 0 .5ex}\n",
       "</style>\n",
       "<ol class=list-inline><li>9.16666666666667</li><li>9.16666666666667</li></ol>\n"
      ],
      "text/latex": [
       "\\begin{enumerate*}\n",
       "\\item 9.16666666666667\n",
       "\\item 9.16666666666667\n",
       "\\end{enumerate*}\n"
      ],
      "text/markdown": [
       "1. 9.16666666666667\n",
       "2. 9.16666666666667\n",
       "\n",
       "\n"
      ],
      "text/plain": [
       "[1] 9.166667 9.166667"
      ]
     },
     "metadata": {},
     "output_type": "display_data"
    }
   ],
   "source": [
    "apply(M, 1, var)\n",
    "# your code here\n",
    "col_sd <- apply(M, 2, var)\n",
    "col_sd"
   ]
  },
  {
   "cell_type": "code",
   "execution_count": 26,
   "metadata": {
    "deletable": false,
    "editable": false,
    "nbgrader": {
     "cell_type": "code",
     "checksum": "934d550c05161dee904e55dd48404067",
     "grade": true,
     "grade_id": "cell-271117207f36b4d5",
     "locked": true,
     "points": 2,
     "schema_version": 3,
     "solution": false,
     "task": false
    }
   },
   "outputs": [],
   "source": [
    "# Test Cell"
   ]
  },
  {
   "cell_type": "markdown",
   "metadata": {
    "deletable": false,
    "editable": false,
    "nbgrader": {
     "cell_type": "markdown",
     "checksum": "661a82100ecf83ec8d7289142a4641dd",
     "grade": false,
     "grade_id": "cell-dc81723526cc4fc7",
     "locked": true,
     "schema_version": 3,
     "solution": false,
     "task": false
    }
   },
   "source": [
    "Recall above that we wrote a function `f1` that flips a coin four times. As odd as it sounds, it will become desirable for us to repeat many times (say, $m$ times) the process of flipping a coin four times. The result might be a matrix with $m$ rows and four columns. \n",
    "\n",
    "#### Write a loop to repeat the process of \"flipping a coin four times\" 10,000 times. The result should be a 10,000 by 4 matrix."
   ]
  },
  {
   "cell_type": "code",
   "execution_count": 27,
   "metadata": {
    "deletable": false,
    "nbgrader": {
     "cell_type": "code",
     "checksum": "d5a3d87b17e2df0a827c7da1985448e3",
     "grade": true,
     "grade_id": "cell-8ed61fc3ca856f3d",
     "locked": false,
     "points": 0,
     "schema_version": 3,
     "solution": true,
     "task": false
    }
   },
   "outputs": [],
   "source": [
    "# your code here\n",
    "MAX_ROWS = 10000\n",
    "x = matrix(NA, byrow = TRUE, nrow = MAX_ROWS, ncol = 4)\n",
    "for (i in 1:MAX_ROWS) {\n",
    "    x[(4 * (i - 1) + 1):(4 * i)] = f1()\n",
    "}\n"
   ]
  },
  {
   "cell_type": "markdown",
   "metadata": {
    "deletable": false,
    "editable": false,
    "nbgrader": {
     "cell_type": "markdown",
     "checksum": "744e6cc01ea5985742734fdbdf6ac080",
     "grade": false,
     "grade_id": "cell-7978152942226a94",
     "locked": true,
     "schema_version": 3,
     "solution": false,
     "task": false
    }
   },
   "source": [
    "But, as master R programmers, we avoid loops whenever possible. One reason why we do this is because loops are slower than the fancy R alternatives. As an alternative to the loop above, let's use the `replicate()` function to repeat the coin flipping process.\n",
    "\n",
    "#### Using the help function as your guide, use `replicate()` to  repeat the process of \"flipping a coin four times\" 10,000 times."
   ]
  },
  {
   "cell_type": "code",
   "execution_count": 28,
   "metadata": {
    "deletable": false,
    "nbgrader": {
     "cell_type": "code",
     "checksum": "f0ebcd3ea3072458d8ff56d259d14f93",
     "grade": true,
     "grade_id": "cell-f2bab03be3855c33",
     "locked": false,
     "points": 0,
     "schema_version": 3,
     "solution": true,
     "task": false
    }
   },
   "outputs": [
    {
     "data": {
      "text/html": [
       "<table>\n",
       "<caption>A matrix: 4 × 10000 of type chr</caption>\n",
       "<tbody>\n",
       "\t<tr><td>T</td><td>T</td><td>H</td><td>T</td><td>T</td><td>T</td><td>T</td><td>H</td><td>H</td><td>T</td><td>⋯</td><td>H</td><td>T</td><td>H</td><td>T</td><td>H</td><td>H</td><td>T</td><td>H</td><td>H</td><td>T</td></tr>\n",
       "\t<tr><td>T</td><td>T</td><td>H</td><td>T</td><td>H</td><td>H</td><td>H</td><td>T</td><td>T</td><td>T</td><td>⋯</td><td>T</td><td>T</td><td>H</td><td>H</td><td>H</td><td>H</td><td>T</td><td>T</td><td>H</td><td>H</td></tr>\n",
       "\t<tr><td>T</td><td>T</td><td>H</td><td>T</td><td>T</td><td>T</td><td>H</td><td>H</td><td>H</td><td>T</td><td>⋯</td><td>T</td><td>H</td><td>T</td><td>H</td><td>T</td><td>T</td><td>T</td><td>H</td><td>H</td><td>T</td></tr>\n",
       "\t<tr><td>H</td><td>H</td><td>H</td><td>T</td><td>T</td><td>H</td><td>H</td><td>T</td><td>H</td><td>H</td><td>⋯</td><td>T</td><td>T</td><td>T</td><td>H</td><td>T</td><td>T</td><td>H</td><td>T</td><td>H</td><td>T</td></tr>\n",
       "</tbody>\n",
       "</table>\n"
      ],
      "text/latex": [
       "A matrix: 4 × 10000 of type chr\n",
       "\\begin{tabular}{lllllllllllllllllllll}\n",
       "\t T & T & H & T & T & T & T & H & H & T & ⋯ & H & T & H & T & H & H & T & H & H & T\\\\\n",
       "\t T & T & H & T & H & H & H & T & T & T & ⋯ & T & T & H & H & H & H & T & T & H & H\\\\\n",
       "\t T & T & H & T & T & T & H & H & H & T & ⋯ & T & H & T & H & T & T & T & H & H & T\\\\\n",
       "\t H & H & H & T & T & H & H & T & H & H & ⋯ & T & T & T & H & T & T & H & T & H & T\\\\\n",
       "\\end{tabular}\n"
      ],
      "text/markdown": [
       "\n",
       "A matrix: 4 × 10000 of type chr\n",
       "\n",
       "| T | T | H | T | T | T | T | H | H | T | ⋯ | H | T | H | T | H | H | T | H | H | T |\n",
       "| T | T | H | T | H | H | H | T | T | T | ⋯ | T | T | H | H | H | H | T | T | H | H |\n",
       "| T | T | H | T | T | T | H | H | H | T | ⋯ | T | H | T | H | T | T | T | H | H | T |\n",
       "| H | H | H | T | T | H | H | T | H | H | ⋯ | T | T | T | H | T | T | H | T | H | T |\n",
       "\n"
      ],
      "text/plain": [
       "     [,1] [,2] [,3] [,4] [,5] [,6] [,7] [,8] [,9] [,10] [,11] [,12] [,13] [,14]\n",
       "[1,] T    T    H    T    T    T    T    H    H    T     ⋯     H     T     H    \n",
       "[2,] T    T    H    T    H    H    H    T    T    T     ⋯     T     T     H    \n",
       "[3,] T    T    H    T    T    T    H    H    H    T     ⋯     T     H     T    \n",
       "[4,] H    H    H    T    T    H    H    T    H    H     ⋯     T     T     T    \n",
       "     [,15] [,16] [,17] [,18] [,19] [,20] [,21]\n",
       "[1,] T     H     H     T     H     H     T    \n",
       "[2,] H     H     H     T     T     H     H    \n",
       "[3,] H     T     T     T     H     H     T    \n",
       "[4,] H     T     T     H     T     H     T    "
      ]
     },
     "metadata": {},
     "output_type": "display_data"
    }
   ],
   "source": [
    "# your code here\n",
    "x_rep <- replicate(10000, f1())\n",
    "x_rep"
   ]
  },
  {
   "cell_type": "markdown",
   "metadata": {
    "deletable": false,
    "editable": false,
    "nbgrader": {
     "cell_type": "markdown",
     "checksum": "0cc597edc76d4ec44eb8261a82bb0d60",
     "grade": false,
     "grade_id": "cell-e767f634bceed89d",
     "locked": true,
     "schema_version": 3,
     "solution": false,
     "task": false
    }
   },
   "source": [
    "## Part IV: Working with Data Frames\n",
    "\n",
    "Datasets in R are stored as *data frames*. Data frames are just tables of data (vectors of data of equal length). It will be important for future assignments (and in life!) for you to be able to work with data frames.\n",
    "\n",
    "#### Take the vectors below and store them in a data frame, called `mydataframe`, using the function `data.frame()`."
   ]
  },
  {
   "cell_type": "code",
   "execution_count": 29,
   "metadata": {
    "deletable": false,
    "nbgrader": {
     "cell_type": "code",
     "checksum": "f8200cbbe272499896410902d1aa8757",
     "grade": false,
     "grade_id": "cell-2e83c5c5da5b8762",
     "locked": false,
     "schema_version": 3,
     "solution": true,
     "task": false
    }
   },
   "outputs": [
    {
     "data": {
      "text/html": [
       "<table>\n",
       "<caption>A data.frame: 4 × 3</caption>\n",
       "<thead>\n",
       "\t<tr><th scope=col>d</th><th scope=col>e</th><th scope=col>f</th></tr>\n",
       "\t<tr><th scope=col>&lt;dbl&gt;</th><th scope=col>&lt;fct&gt;</th><th scope=col>&lt;lgl&gt;</th></tr>\n",
       "</thead>\n",
       "<tbody>\n",
       "\t<tr><td>1</td><td>red  </td><td> TRUE</td></tr>\n",
       "\t<tr><td>2</td><td>white</td><td> TRUE</td></tr>\n",
       "\t<tr><td>3</td><td>blue </td><td> TRUE</td></tr>\n",
       "\t<tr><td>4</td><td>NA   </td><td>FALSE</td></tr>\n",
       "</tbody>\n",
       "</table>\n"
      ],
      "text/latex": [
       "A data.frame: 4 × 3\n",
       "\\begin{tabular}{lll}\n",
       " d & e & f\\\\\n",
       " <dbl> & <fct> & <lgl>\\\\\n",
       "\\hline\n",
       "\t 1 & red   &  TRUE\\\\\n",
       "\t 2 & white &  TRUE\\\\\n",
       "\t 3 & blue  &  TRUE\\\\\n",
       "\t 4 & NA    & FALSE\\\\\n",
       "\\end{tabular}\n"
      ],
      "text/markdown": [
       "\n",
       "A data.frame: 4 × 3\n",
       "\n",
       "| d &lt;dbl&gt; | e &lt;fct&gt; | f &lt;lgl&gt; |\n",
       "|---|---|---|\n",
       "| 1 | red   |  TRUE |\n",
       "| 2 | white |  TRUE |\n",
       "| 3 | blue  |  TRUE |\n",
       "| 4 | NA    | FALSE |\n",
       "\n"
      ],
      "text/plain": [
       "  d e     f    \n",
       "1 1 red    TRUE\n",
       "2 2 white  TRUE\n",
       "3 3 blue   TRUE\n",
       "4 4 NA    FALSE"
      ]
     },
     "metadata": {},
     "output_type": "display_data"
    }
   ],
   "source": [
    "d = c(1, 2, 3, 4)\n",
    "e = c(\"red\", \"white\", \"blue\", NA)\n",
    "f = c(TRUE, TRUE, TRUE, FALSE)\n",
    "\n",
    "# your code here\n",
    "mydataframe <- data.frame(d, e, f)\n",
    "mydataframe"
   ]
  },
  {
   "cell_type": "code",
   "execution_count": null,
   "metadata": {
    "deletable": false,
    "editable": false,
    "nbgrader": {
     "cell_type": "code",
     "checksum": "3dd8cd4a037baa28f8f019347c0a770c",
     "grade": true,
     "grade_id": "cell-e80d3dbdead4ab90",
     "locked": true,
     "points": 1,
     "schema_version": 3,
     "solution": false,
     "task": false
    }
   },
   "outputs": [],
   "source": []
  },
  {
   "cell_type": "markdown",
   "metadata": {
    "deletable": false,
    "editable": false,
    "nbgrader": {
     "cell_type": "markdown",
     "checksum": "787d1209862c3c625e0ac6c3f8d554e4",
     "grade": false,
     "grade_id": "cell-6fc6446b84d381c6",
     "locked": true,
     "schema_version": 3,
     "solution": false,
     "task": false
    }
   },
   "source": [
    "Note that the names of the columns aren't informative (they are just the names of the vectors used to create that dataframe). We can change that..."
   ]
  },
  {
   "cell_type": "code",
   "execution_count": 30,
   "metadata": {
    "deletable": false,
    "editable": false,
    "nbgrader": {
     "cell_type": "code",
     "checksum": "18d4891d2fe48b45988ac921fcf8803d",
     "grade": false,
     "grade_id": "cell-7d65cf34841876f2",
     "locked": true,
     "schema_version": 3,
     "solution": false,
     "task": false
    }
   },
   "outputs": [
    {
     "data": {
      "text/html": [
       "<table>\n",
       "<caption>A data.frame: 4 × 3</caption>\n",
       "<thead>\n",
       "\t<tr><th scope=col>ID</th><th scope=col>Color</th><th scope=col>Passed</th></tr>\n",
       "\t<tr><th scope=col>&lt;dbl&gt;</th><th scope=col>&lt;fct&gt;</th><th scope=col>&lt;lgl&gt;</th></tr>\n",
       "</thead>\n",
       "<tbody>\n",
       "\t<tr><td>1</td><td>red  </td><td> TRUE</td></tr>\n",
       "\t<tr><td>2</td><td>white</td><td> TRUE</td></tr>\n",
       "\t<tr><td>3</td><td>blue </td><td> TRUE</td></tr>\n",
       "\t<tr><td>4</td><td>NA   </td><td>FALSE</td></tr>\n",
       "</tbody>\n",
       "</table>\n"
      ],
      "text/latex": [
       "A data.frame: 4 × 3\n",
       "\\begin{tabular}{lll}\n",
       " ID & Color & Passed\\\\\n",
       " <dbl> & <fct> & <lgl>\\\\\n",
       "\\hline\n",
       "\t 1 & red   &  TRUE\\\\\n",
       "\t 2 & white &  TRUE\\\\\n",
       "\t 3 & blue  &  TRUE\\\\\n",
       "\t 4 & NA    & FALSE\\\\\n",
       "\\end{tabular}\n"
      ],
      "text/markdown": [
       "\n",
       "A data.frame: 4 × 3\n",
       "\n",
       "| ID &lt;dbl&gt; | Color &lt;fct&gt; | Passed &lt;lgl&gt; |\n",
       "|---|---|---|\n",
       "| 1 | red   |  TRUE |\n",
       "| 2 | white |  TRUE |\n",
       "| 3 | blue  |  TRUE |\n",
       "| 4 | NA    | FALSE |\n",
       "\n"
      ],
      "text/plain": [
       "  ID Color Passed\n",
       "1 1  red    TRUE \n",
       "2 2  white  TRUE \n",
       "3 3  blue   TRUE \n",
       "4 4  NA    FALSE "
      ]
     },
     "metadata": {},
     "output_type": "display_data"
    },
    {
     "data": {
      "text/html": [
       "<table>\n",
       "<caption>A data.frame: 4 × 3</caption>\n",
       "<thead>\n",
       "\t<tr><th scope=col>ID</th><th scope=col>Color</th><th scope=col>Passed</th></tr>\n",
       "\t<tr><th scope=col>&lt;dbl&gt;</th><th scope=col>&lt;fct&gt;</th><th scope=col>&lt;lgl&gt;</th></tr>\n",
       "</thead>\n",
       "<tbody>\n",
       "\t<tr><td>1</td><td>red  </td><td> TRUE</td></tr>\n",
       "\t<tr><td>2</td><td>white</td><td> TRUE</td></tr>\n",
       "\t<tr><td>3</td><td>blue </td><td> TRUE</td></tr>\n",
       "\t<tr><td>4</td><td>NA   </td><td>FALSE</td></tr>\n",
       "</tbody>\n",
       "</table>\n"
      ],
      "text/latex": [
       "A data.frame: 4 × 3\n",
       "\\begin{tabular}{lll}\n",
       " ID & Color & Passed\\\\\n",
       " <dbl> & <fct> & <lgl>\\\\\n",
       "\\hline\n",
       "\t 1 & red   &  TRUE\\\\\n",
       "\t 2 & white &  TRUE\\\\\n",
       "\t 3 & blue  &  TRUE\\\\\n",
       "\t 4 & NA    & FALSE\\\\\n",
       "\\end{tabular}\n"
      ],
      "text/markdown": [
       "\n",
       "A data.frame: 4 × 3\n",
       "\n",
       "| ID &lt;dbl&gt; | Color &lt;fct&gt; | Passed &lt;lgl&gt; |\n",
       "|---|---|---|\n",
       "| 1 | red   |  TRUE |\n",
       "| 2 | white |  TRUE |\n",
       "| 3 | blue  |  TRUE |\n",
       "| 4 | NA    | FALSE |\n",
       "\n"
      ],
      "text/plain": [
       "  ID Color Passed\n",
       "1 1  red    TRUE \n",
       "2 2  white  TRUE \n",
       "3 3  blue   TRUE \n",
       "4 4  NA    FALSE "
      ]
     },
     "metadata": {},
     "output_type": "display_data"
    }
   ],
   "source": [
    "#rename columns of data frame\n",
    "names(mydataframe) = c(\"ID\", \"Color\", \"Passed\")\n",
    "mydataframe\n",
    "\n",
    "#name columns while creating data frame\n",
    "dataframe2 = data.frame(ID=d, Color=e, Passed=f)\n",
    "dataframe2"
   ]
  },
  {
   "cell_type": "markdown",
   "metadata": {
    "deletable": false,
    "editable": false,
    "nbgrader": {
     "cell_type": "markdown",
     "checksum": "950a22158ce75dbd68fac684c8724086",
     "grade": false,
     "grade_id": "cell-215c5432837ea2b2",
     "locked": true,
     "schema_version": 3,
     "solution": false,
     "task": false
    }
   },
   "source": [
    "There are a few ways that you can access elements of a dataframe. \n",
    "\n",
    "1. You can access columns of a dataframe by typing `mydataframe$NameOfColumn` or by typing `mydataframe[ ,i]` (the latter will print the $i^{th}$ column).\n",
    "\n",
    "2. To access the $i^{th}$ row, type `mydataframe[i, ]`.\n",
    "\n",
    "3. To access the $[i,j]$ element, type `mydataframe[i,j]`. Note that data frames are indexed just like matrices: [row, column].\n",
    "\n",
    "**Print the `Color` column of the dataframe from above in two different ways. Print the second row. Print the element containing \"white\".**"
   ]
  },
  {
   "cell_type": "code",
   "execution_count": 31,
   "metadata": {
    "deletable": false,
    "nbgrader": {
     "cell_type": "code",
     "checksum": "57e283f481d9a053cd1d0e3c0391f003",
     "grade": true,
     "grade_id": "cell-627500e27ac3576e",
     "locked": false,
     "points": 0,
     "schema_version": 3,
     "solution": true,
     "task": false
    }
   },
   "outputs": [
    {
     "data": {
      "text/html": [
       "<style>\n",
       ".list-inline {list-style: none; margin:0; padding: 0}\n",
       ".list-inline>li {display: inline-block}\n",
       ".list-inline>li:not(:last-child)::after {content: \"\\00b7\"; padding: 0 .5ex}\n",
       "</style>\n",
       "<ol class=list-inline><li>red</li><li>white</li><li>blue</li><li>&lt;NA&gt;</li></ol>\n",
       "\n",
       "<details>\n",
       "\t<summary style=display:list-item;cursor:pointer>\n",
       "\t\t<strong>Levels</strong>:\n",
       "\t</summary>\n",
       "\t<style>\n",
       "\t.list-inline {list-style: none; margin:0; padding: 0}\n",
       "\t.list-inline>li {display: inline-block}\n",
       "\t.list-inline>li:not(:last-child)::after {content: \"\\00b7\"; padding: 0 .5ex}\n",
       "\t</style>\n",
       "\t<ol class=list-inline><li>'blue'</li><li>'red'</li><li>'white'</li></ol>\n",
       "</details>"
      ],
      "text/latex": [
       "\\begin{enumerate*}\n",
       "\\item red\n",
       "\\item white\n",
       "\\item blue\n",
       "\\item <NA>\n",
       "\\end{enumerate*}\n",
       "\n",
       "\\emph{Levels}: \\begin{enumerate*}\n",
       "\\item 'blue'\n",
       "\\item 'red'\n",
       "\\item 'white'\n",
       "\\end{enumerate*}\n"
      ],
      "text/markdown": [
       "1. red\n",
       "2. white\n",
       "3. blue\n",
       "4. &lt;NA&gt;\n",
       "\n",
       "\n",
       "\n",
       "**Levels**: 1. 'blue'\n",
       "2. 'red'\n",
       "3. 'white'\n",
       "\n",
       "\n"
      ],
      "text/plain": [
       "[1] red   white blue  <NA> \n",
       "Levels: blue red white"
      ]
     },
     "metadata": {},
     "output_type": "display_data"
    },
    {
     "data": {
      "text/html": [
       "<style>\n",
       ".list-inline {list-style: none; margin:0; padding: 0}\n",
       ".list-inline>li {display: inline-block}\n",
       ".list-inline>li:not(:last-child)::after {content: \"\\00b7\"; padding: 0 .5ex}\n",
       "</style>\n",
       "<ol class=list-inline><li>red</li><li>white</li><li>blue</li><li>&lt;NA&gt;</li></ol>\n",
       "\n",
       "<details>\n",
       "\t<summary style=display:list-item;cursor:pointer>\n",
       "\t\t<strong>Levels</strong>:\n",
       "\t</summary>\n",
       "\t<style>\n",
       "\t.list-inline {list-style: none; margin:0; padding: 0}\n",
       "\t.list-inline>li {display: inline-block}\n",
       "\t.list-inline>li:not(:last-child)::after {content: \"\\00b7\"; padding: 0 .5ex}\n",
       "\t</style>\n",
       "\t<ol class=list-inline><li>'blue'</li><li>'red'</li><li>'white'</li></ol>\n",
       "</details>"
      ],
      "text/latex": [
       "\\begin{enumerate*}\n",
       "\\item red\n",
       "\\item white\n",
       "\\item blue\n",
       "\\item <NA>\n",
       "\\end{enumerate*}\n",
       "\n",
       "\\emph{Levels}: \\begin{enumerate*}\n",
       "\\item 'blue'\n",
       "\\item 'red'\n",
       "\\item 'white'\n",
       "\\end{enumerate*}\n"
      ],
      "text/markdown": [
       "1. red\n",
       "2. white\n",
       "3. blue\n",
       "4. &lt;NA&gt;\n",
       "\n",
       "\n",
       "\n",
       "**Levels**: 1. 'blue'\n",
       "2. 'red'\n",
       "3. 'white'\n",
       "\n",
       "\n"
      ],
      "text/plain": [
       "[1] red   white blue  <NA> \n",
       "Levels: blue red white"
      ]
     },
     "metadata": {},
     "output_type": "display_data"
    },
    {
     "data": {
      "text/html": [
       "<table>\n",
       "<caption>A data.frame: 1 × 3</caption>\n",
       "<thead>\n",
       "\t<tr><th></th><th scope=col>ID</th><th scope=col>Color</th><th scope=col>Passed</th></tr>\n",
       "\t<tr><th></th><th scope=col>&lt;dbl&gt;</th><th scope=col>&lt;fct&gt;</th><th scope=col>&lt;lgl&gt;</th></tr>\n",
       "</thead>\n",
       "<tbody>\n",
       "\t<tr><th scope=row>2</th><td>2</td><td>white</td><td>TRUE</td></tr>\n",
       "</tbody>\n",
       "</table>\n"
      ],
      "text/latex": [
       "A data.frame: 1 × 3\n",
       "\\begin{tabular}{r|lll}\n",
       "  & ID & Color & Passed\\\\\n",
       "  & <dbl> & <fct> & <lgl>\\\\\n",
       "\\hline\n",
       "\t2 & 2 & white & TRUE\\\\\n",
       "\\end{tabular}\n"
      ],
      "text/markdown": [
       "\n",
       "A data.frame: 1 × 3\n",
       "\n",
       "| <!--/--> | ID &lt;dbl&gt; | Color &lt;fct&gt; | Passed &lt;lgl&gt; |\n",
       "|---|---|---|---|\n",
       "| 2 | 2 | white | TRUE |\n",
       "\n"
      ],
      "text/plain": [
       "  ID Color Passed\n",
       "2 2  white TRUE  "
      ]
     },
     "metadata": {},
     "output_type": "display_data"
    },
    {
     "data": {
      "text/html": [
       "white\n",
       "<details>\n",
       "\t<summary style=display:list-item;cursor:pointer>\n",
       "\t\t<strong>Levels</strong>:\n",
       "\t</summary>\n",
       "\t<style>\n",
       "\t.list-inline {list-style: none; margin:0; padding: 0}\n",
       "\t.list-inline>li {display: inline-block}\n",
       "\t.list-inline>li:not(:last-child)::after {content: \"\\00b7\"; padding: 0 .5ex}\n",
       "\t</style>\n",
       "\t<ol class=list-inline><li>'blue'</li><li>'red'</li><li>'white'</li></ol>\n",
       "</details>"
      ],
      "text/latex": [
       "white\n",
       "\\emph{Levels}: \\begin{enumerate*}\n",
       "\\item 'blue'\n",
       "\\item 'red'\n",
       "\\item 'white'\n",
       "\\end{enumerate*}\n"
      ],
      "text/markdown": [
       "white\n",
       "**Levels**: 1. 'blue'\n",
       "2. 'red'\n",
       "3. 'white'\n",
       "\n",
       "\n"
      ],
      "text/plain": [
       "[1] white\n",
       "Levels: blue red white"
      ]
     },
     "metadata": {},
     "output_type": "display_data"
    }
   ],
   "source": [
    "# your code here\n",
    "mydataframe$Color\n",
    "mydataframe[, 2]\n",
    "mydataframe[2, ]\n",
    "mydataframe[2, 2]"
   ]
  },
  {
   "cell_type": "markdown",
   "metadata": {
    "deletable": false,
    "editable": false,
    "nbgrader": {
     "cell_type": "markdown",
     "checksum": "7259194cf21271790d7f600601039e96",
     "grade": false,
     "grade_id": "cell-321dcf6f17a78835",
     "locked": true,
     "schema_version": 3,
     "solution": false,
     "task": false
    }
   },
   "source": [
    "You can save a dataframe using the function `write.table()`. \n",
    "\n",
    "#### Below, I give code to save `mydataframe` in a location on my computer. Modify the code to save it somewhere on your computer. I would take this time to think about being organized with your files for this course!\n",
    "\n",
    "Notice the `sep` argument is set to ` \"\\t\"`. This saves the file as a tab separated file. Look at the help file to see other options here."
   ]
  },
  {
   "cell_type": "code",
   "execution_count": 32,
   "metadata": {
    "deletable": false,
    "editable": false,
    "nbgrader": {
     "cell_type": "code",
     "checksum": "4d54ac89e217662559a57edd4e91eeb0",
     "grade": false,
     "grade_id": "cell-2c918c0a26d59ca9",
     "locked": true,
     "schema_version": 3,
     "solution": false,
     "task": false
    }
   },
   "outputs": [],
   "source": [
    "###Writing data to file\n",
    "#write.table(mydataframe, paste(\"~/Google Drive/University of Colorado/example.txt\", sep = \"\"), sep = \"\\t\")"
   ]
  },
  {
   "cell_type": "code",
   "execution_count": 33,
   "metadata": {},
   "outputs": [],
   "source": [
    "write.table(mydataframe, paste(\"~/work/release/m0-introduction/example.txt\", sep = \"\"), sep = \"\\t\")"
   ]
  },
  {
   "cell_type": "markdown",
   "metadata": {
    "deletable": false,
    "editable": false,
    "nbgrader": {
     "cell_type": "markdown",
     "checksum": "e079e2e54cf6bea8b5320b92b1302f73",
     "grade": false,
     "grade_id": "cell-057bd2977900e19a",
     "locked": true,
     "schema_version": 3,
     "solution": false,
     "task": false
    }
   },
   "source": [
    "Now, let's read the file you saved back into R (this is going to be important for homework assignments!). \n",
    "\n",
    "**Modify the code below to read your file back into R. Investigate what the `header` argument is doing!**\n",
    "\n",
    "Note that the `head()` function prints the first few rows of your data frame. This can be helpful when you want to see how your data are organized, but don't want to print the whole thing."
   ]
  },
  {
   "cell_type": "code",
   "execution_count": 34,
   "metadata": {
    "deletable": false,
    "editable": false,
    "nbgrader": {
     "cell_type": "code",
     "checksum": "e194e02092695c1a324c3c633095175e",
     "grade": false,
     "grade_id": "cell-7684db2ed479b9c3",
     "locked": true,
     "schema_version": 3,
     "solution": false,
     "task": false
    }
   },
   "outputs": [],
   "source": [
    "#data = read.table(paste(\"~/Google Drive/University of Colorado/Boulder\",\n",
    "    #                     \"example.txt\", sep = \"\"), header = TRUE, sep = \"\\t\")\n",
    "#head(data)"
   ]
  },
  {
   "cell_type": "code",
   "execution_count": 35,
   "metadata": {},
   "outputs": [
    {
     "data": {
      "text/html": [
       "<table>\n",
       "<caption>A data.frame: 4 × 3</caption>\n",
       "<thead>\n",
       "\t<tr><th></th><th scope=col>ID</th><th scope=col>Color</th><th scope=col>Passed</th></tr>\n",
       "\t<tr><th></th><th scope=col>&lt;int&gt;</th><th scope=col>&lt;fct&gt;</th><th scope=col>&lt;lgl&gt;</th></tr>\n",
       "</thead>\n",
       "<tbody>\n",
       "\t<tr><th scope=row>1</th><td>1</td><td>red  </td><td> TRUE</td></tr>\n",
       "\t<tr><th scope=row>2</th><td>2</td><td>white</td><td> TRUE</td></tr>\n",
       "\t<tr><th scope=row>3</th><td>3</td><td>blue </td><td> TRUE</td></tr>\n",
       "\t<tr><th scope=row>4</th><td>4</td><td>NA   </td><td>FALSE</td></tr>\n",
       "</tbody>\n",
       "</table>\n"
      ],
      "text/latex": [
       "A data.frame: 4 × 3\n",
       "\\begin{tabular}{r|lll}\n",
       "  & ID & Color & Passed\\\\\n",
       "  & <int> & <fct> & <lgl>\\\\\n",
       "\\hline\n",
       "\t1 & 1 & red   &  TRUE\\\\\n",
       "\t2 & 2 & white &  TRUE\\\\\n",
       "\t3 & 3 & blue  &  TRUE\\\\\n",
       "\t4 & 4 & NA    & FALSE\\\\\n",
       "\\end{tabular}\n"
      ],
      "text/markdown": [
       "\n",
       "A data.frame: 4 × 3\n",
       "\n",
       "| <!--/--> | ID &lt;int&gt; | Color &lt;fct&gt; | Passed &lt;lgl&gt; |\n",
       "|---|---|---|---|\n",
       "| 1 | 1 | red   |  TRUE |\n",
       "| 2 | 2 | white |  TRUE |\n",
       "| 3 | 3 | blue  |  TRUE |\n",
       "| 4 | 4 | NA    | FALSE |\n",
       "\n"
      ],
      "text/plain": [
       "  ID Color Passed\n",
       "1 1  red    TRUE \n",
       "2 2  white  TRUE \n",
       "3 3  blue   TRUE \n",
       "4 4  NA    FALSE "
      ]
     },
     "metadata": {},
     "output_type": "display_data"
    }
   ],
   "source": [
    "data = read.table(paste(\"~/work/release/m0-introduction/example.txt\", sep = \"\"), header = TRUE, sep = \"\\t\")\n",
    "head(data)"
   ]
  },
  {
   "cell_type": "markdown",
   "metadata": {
    "deletable": false,
    "editable": false,
    "nbgrader": {
     "cell_type": "markdown",
     "checksum": "9cf8b16393176d7f853e28a9fb113d80",
     "grade": false,
     "grade_id": "cell-f311d3270e565a94",
     "locked": true,
     "schema_version": 3,
     "solution": false,
     "task": false
    }
   },
   "source": [
    "# Part V: Real-World Data Example\n",
    "\n",
    "\n",
    "Let's explore a [dataset](https://dasl.datadescription.com/datafile/amazon-books/?_sfm_methods=Multiple+Regression&_sfm_cases=4+59943) about book prices from Amazon. The data consists of data on $n = 325$ books and includes measurements of:\n",
    "\n",
    "- `aprice`: The price listed on Amazon (dollars)\n",
    "\n",
    "\n",
    "- `lprice`: The book's list price (dollars)\n",
    "\n",
    "\n",
    "- `weight`: The book's weight (ounces)\n",
    "\n",
    "\n",
    "- `pages`: The number of pages in the book\n",
    "\n",
    "\n",
    "- `height`: The book's height (inches)\n",
    "\n",
    "\n",
    "- `width`: The book's width (inches)\n",
    "\n",
    "\n",
    "- `thick`: The thickness of the book (inches)\n",
    "\n",
    "\n",
    "- `cover`: Whether the book is a hard cover of paperback.\n",
    "\n",
    "\n",
    "- And other variables...\n",
    "\n",
    "First, we'll read this data in from Github..."
   ]
  },
  {
   "cell_type": "code",
   "execution_count": 36,
   "metadata": {
    "deletable": false,
    "editable": false,
    "nbgrader": {
     "cell_type": "code",
     "checksum": "5929adebc0077a5c848a84d278397fd6",
     "grade": false,
     "grade_id": "cell-bf48bc0bc74275e0",
     "locked": true,
     "schema_version": 3,
     "solution": false,
     "task": false
    }
   },
   "outputs": [
    {
     "data": {
      "text/html": [
       "<style>\n",
       ".list-inline {list-style: none; margin:0; padding: 0}\n",
       ".list-inline>li {display: inline-block}\n",
       ".list-inline>li:not(:last-child)::after {content: \"\\00b7\"; padding: 0 .5ex}\n",
       "</style>\n",
       "<ol class=list-inline><li>'Title'</li><li>'Author'</li><li>'List.Price'</li><li>'Amazon.Price'</li><li>'Hard..Paper'</li><li>'NumPages'</li><li>'Publisher'</li><li>'Pub.year'</li><li>'ISBN.10'</li><li>'Height'</li><li>'Width'</li><li>'Thick'</li><li>'Weight..oz.'</li></ol>\n"
      ],
      "text/latex": [
       "\\begin{enumerate*}\n",
       "\\item 'Title'\n",
       "\\item 'Author'\n",
       "\\item 'List.Price'\n",
       "\\item 'Amazon.Price'\n",
       "\\item 'Hard..Paper'\n",
       "\\item 'NumPages'\n",
       "\\item 'Publisher'\n",
       "\\item 'Pub.year'\n",
       "\\item 'ISBN.10'\n",
       "\\item 'Height'\n",
       "\\item 'Width'\n",
       "\\item 'Thick'\n",
       "\\item 'Weight..oz.'\n",
       "\\end{enumerate*}\n"
      ],
      "text/markdown": [
       "1. 'Title'\n",
       "2. 'Author'\n",
       "3. 'List.Price'\n",
       "4. 'Amazon.Price'\n",
       "5. 'Hard..Paper'\n",
       "6. 'NumPages'\n",
       "7. 'Publisher'\n",
       "8. 'Pub.year'\n",
       "9. 'ISBN.10'\n",
       "10. 'Height'\n",
       "11. 'Width'\n",
       "12. 'Thick'\n",
       "13. 'Weight..oz.'\n",
       "\n",
       "\n"
      ],
      "text/plain": [
       " [1] \"Title\"        \"Author\"       \"List.Price\"   \"Amazon.Price\" \"Hard..Paper\" \n",
       " [6] \"NumPages\"     \"Publisher\"    \"Pub.year\"     \"ISBN.10\"      \"Height\"      \n",
       "[11] \"Width\"        \"Thick\"        \"Weight..oz.\" "
      ]
     },
     "metadata": {},
     "output_type": "display_data"
    }
   ],
   "source": [
    "library(RCurl) #a package that includes the function getURL(), which allows for reading data from github.\n",
    "library(ggplot2) #a package for nice plots!\n",
    "\n",
    "#getURL is a nice way of reading in data from the web\n",
    "url = getURL(paste0(\"https://raw.githubusercontent.com/bzaharatos/\",\n",
    "                    \"-Statistical-Modeling-for-Data-Science-Applications/\",\n",
    "                    \"master/Modern%20Regression%20Analysis%20/Datasets/amazon.txt\"))\n",
    "#stores the data in the dataframe amazon\n",
    "amazon = read.csv(text = url, sep = \"\\t\")\n",
    "\n",
    "#prints the names in the dataframe\n",
    "names(amazon)"
   ]
  },
  {
   "cell_type": "markdown",
   "metadata": {
    "deletable": false,
    "editable": false,
    "nbgrader": {
     "cell_type": "markdown",
     "checksum": "cda684cb34a89e58c5dc0badcbf0ecd3",
     "grade": false,
     "grade_id": "cell-30085bf34985bca5",
     "locked": true,
     "schema_version": 3,
     "solution": false,
     "task": false
    }
   },
   "source": [
    "Next, let's create a new data frame, called `df`, and store a subset of the variables. In addition, we'll change the names of the variables in the dataframe to something cleaner and easier to work with. Take note of how to do this :)"
   ]
  },
  {
   "cell_type": "code",
   "execution_count": 37,
   "metadata": {
    "deletable": false,
    "editable": false,
    "nbgrader": {
     "cell_type": "code",
     "checksum": "ddc1b78cbe86da0177a4d4246fac1d44",
     "grade": false,
     "grade_id": "cell-5b08e88209dd96c5",
     "locked": true,
     "schema_version": 3,
     "solution": false,
     "task": false
    }
   },
   "outputs": [
    {
     "data": {
      "text/plain": [
       "     aprice           lprice           pages           width      \n",
       " Min.   :  0.77   Min.   :  1.50   Min.   : 24.0   Min.   :4.100  \n",
       " 1st Qu.:  8.60   1st Qu.: 13.95   1st Qu.:208.0   1st Qu.:5.200  \n",
       " Median : 10.20   Median : 15.00   Median :320.0   Median :5.400  \n",
       " Mean   : 13.33   Mean   : 18.58   Mean   :335.9   Mean   :5.585  \n",
       " 3rd Qu.: 13.13   3rd Qu.: 19.95   3rd Qu.:416.0   3rd Qu.:5.900  \n",
       " Max.   :139.95   Max.   :139.95   Max.   :896.0   Max.   :9.500  \n",
       "                  NA's   :1        NA's   :2       NA's   :5      \n",
       "     weight          height           thick        cover  \n",
       " Min.   : 1.20   Min.   : 5.100   Min.   :0.1000   H: 89  \n",
       " 1st Qu.: 7.80   1st Qu.: 7.900   1st Qu.:0.6000   P:236  \n",
       " Median :11.20   Median : 8.100   Median :0.9000          \n",
       " Mean   :12.49   Mean   : 8.163   Mean   :0.9077          \n",
       " 3rd Qu.:16.00   3rd Qu.: 8.500   3rd Qu.:1.1000          \n",
       " Max.   :35.20   Max.   :12.100   Max.   :2.1000          \n",
       " NA's   :9       NA's   :4        NA's   :1               "
      ]
     },
     "metadata": {},
     "output_type": "display_data"
    }
   ],
   "source": [
    "df = data.frame(aprice = amazon$Amazon.Price, lprice = as.numeric(amazon$List.Price),  \n",
    "                pages = amazon$NumPages, width = amazon$Width, weight = amazon$Weight..oz,  \n",
    "                height = amazon$Height, thick = amazon$Thick, cover = amazon$Hard..Paper)\n",
    "\n",
    "summary(df)\n"
   ]
  },
  {
   "cell_type": "markdown",
   "metadata": {
    "deletable": false,
    "editable": false,
    "nbgrader": {
     "cell_type": "markdown",
     "checksum": "8749f89006f7b3ed5e23f64719f23ca1",
     "grade": false,
     "grade_id": "cell-49e2cc4014b2bb7d",
     "locked": true,
     "schema_version": 3,
     "solution": false,
     "task": false
    }
   },
   "source": [
    "From the summary, we can see that there are missing values in the dataset, coded as `NA`. There are many ways to deal with missing data. Suppose that sample unit $i$ has a missing measurement for variable $z_j$. We could:\n",
    "\n",
    "1. Delete sample unit $i$ from the dataset, i.e., delete the entire row. That might be reasonable if there are very view missing values and if we think the values are missing at random.\n",
    "\n",
    "2. Delete the variable $z_j$ from the dataset, i.e., delete the entire column. This might be reasonable if there are many many other missing values for $z_j$ and if we think $z_j$ might not be neccesary for our overall prediction/explanation goals.\n",
    "\n",
    "3.  Impute missing values by substituting each missing value with an estimate.\n",
    "\n",
    "For more information on missing values, see this [resource](https://www.bu.edu/sph/files/2014/05/Marina-tech-report.pdf).\n",
    "\n",
    "Since most of our columns/variables are not missing values, and since these variables will be useful to us in our analysis, option 2 seems unreasonable. Let's first try option 3: impute the missing values of `lprice`, `pages`, `width`, `weight`, `height`, and `thick` with the mean of each. The `which()` and `is.na()` functions might help:"
   ]
  },
  {
   "cell_type": "code",
   "execution_count": 38,
   "metadata": {
    "deletable": false,
    "editable": false,
    "nbgrader": {
     "cell_type": "code",
     "checksum": "6407576a324d7046328ca3793deb1598",
     "grade": false,
     "grade_id": "cell-682d4c0f562df588",
     "locked": true,
     "schema_version": 3,
     "solution": false,
     "task": false
    }
   },
   "outputs": [
    {
     "data": {
      "text/html": [
       "205"
      ],
      "text/latex": [
       "205"
      ],
      "text/markdown": [
       "205"
      ],
      "text/plain": [
       "[1] 205"
      ]
     },
     "metadata": {},
     "output_type": "display_data"
    }
   ],
   "source": [
    "which(is.na(df$lprice))"
   ]
  },
  {
   "cell_type": "code",
   "execution_count": 39,
   "metadata": {
    "deletable": false,
    "nbgrader": {
     "cell_type": "code",
     "checksum": "a42fb569f81bc9330a809e371fea80d4",
     "grade": false,
     "grade_id": "cell-51e343bf94becddd",
     "locked": false,
     "schema_version": 3,
     "solution": true,
     "task": false
    }
   },
   "outputs": [
    {
     "data": {
      "text/plain": [
       "     aprice           lprice           pages           width      \n",
       " Min.   :  0.77   Min.   :  1.50   Min.   : 24.0   Min.   :4.100  \n",
       " 1st Qu.:  8.60   1st Qu.: 13.95   1st Qu.:208.0   1st Qu.:5.200  \n",
       " Median : 10.20   Median : 15.00   Median :320.0   Median :5.400  \n",
       " Mean   : 13.33   Mean   : 18.58   Mean   :335.9   Mean   :5.585  \n",
       " 3rd Qu.: 13.13   3rd Qu.: 19.95   3rd Qu.:416.0   3rd Qu.:5.900  \n",
       " Max.   :139.95   Max.   :139.95   Max.   :896.0   Max.   :9.500  \n",
       "     weight          height           thick        cover  \n",
       " Min.   : 1.20   Min.   : 5.100   Min.   :0.1000   H: 89  \n",
       " 1st Qu.: 7.80   1st Qu.: 7.900   1st Qu.:0.6000   P:236  \n",
       " Median :11.20   Median : 8.100   Median :0.9000          \n",
       " Mean   :12.49   Mean   : 8.163   Mean   :0.9077          \n",
       " 3rd Qu.:16.00   3rd Qu.: 8.500   3rd Qu.:1.1000          \n",
       " Max.   :35.20   Max.   :12.100   Max.   :2.1000          "
      ]
     },
     "metadata": {},
     "output_type": "display_data"
    }
   ],
   "source": [
    "# your code here\n",
    "df$lprice[which(is.na(df$lprice))] = mean(df$lprice, na.rm=TRUE)\n",
    "df$pages[which(is.na(df$pages))] = mean(df$pages, na.rm=TRUE)\n",
    "df$width[which(is.na(df$width))] = mean(df$width, na.rm=TRUE)\n",
    "df$weight[which(is.na(df$weight))] = mean(df$weight, na.rm=TRUE)\n",
    "df$height[which(is.na(df$height))] = mean(df$height, na.rm=TRUE)\n",
    "df$thick[which(is.na(df$thick))] = mean(df$thick, na.rm=TRUE)\n",
    "summary(df)"
   ]
  },
  {
   "cell_type": "code",
   "execution_count": null,
   "metadata": {
    "deletable": false,
    "editable": false,
    "nbgrader": {
     "cell_type": "code",
     "checksum": "8f2f74f880c7c6c4950bec19a42eb1f2",
     "grade": true,
     "grade_id": "cell-a95747020e7b897e",
     "locked": true,
     "points": 1,
     "schema_version": 3,
     "solution": false,
     "task": false
    }
   },
   "outputs": [],
   "source": []
  },
  {
   "cell_type": "markdown",
   "metadata": {
    "deletable": false,
    "editable": false,
    "nbgrader": {
     "cell_type": "markdown",
     "checksum": "19975871e9c1938da8183306f2249dbe",
     "grade": false,
     "grade_id": "cell-1e5018df495011b9",
     "locked": true,
     "schema_version": 3,
     "solution": false,
     "task": false
    }
   },
   "source": [
    "#### Use the `summary()` function to print numerical summaries of this dataset. "
   ]
  },
  {
   "cell_type": "code",
   "execution_count": 40,
   "metadata": {
    "deletable": false,
    "nbgrader": {
     "cell_type": "code",
     "checksum": "8c44040768da6533d0e8a775bc213d20",
     "grade": true,
     "grade_id": "cell-fa0930e7fb0848a7",
     "locked": false,
     "points": 0,
     "schema_version": 3,
     "solution": true,
     "task": false
    }
   },
   "outputs": [
    {
     "data": {
      "text/plain": [
       "     aprice           lprice           pages           width      \n",
       " Min.   :  0.77   Min.   :  1.50   Min.   : 24.0   Min.   :4.100  \n",
       " 1st Qu.:  8.60   1st Qu.: 13.95   1st Qu.:208.0   1st Qu.:5.200  \n",
       " Median : 10.20   Median : 15.00   Median :320.0   Median :5.400  \n",
       " Mean   : 13.33   Mean   : 18.58   Mean   :335.9   Mean   :5.585  \n",
       " 3rd Qu.: 13.13   3rd Qu.: 19.95   3rd Qu.:416.0   3rd Qu.:5.900  \n",
       " Max.   :139.95   Max.   :139.95   Max.   :896.0   Max.   :9.500  \n",
       "     weight          height           thick        cover  \n",
       " Min.   : 1.20   Min.   : 5.100   Min.   :0.1000   H: 89  \n",
       " 1st Qu.: 7.80   1st Qu.: 7.900   1st Qu.:0.6000   P:236  \n",
       " Median :11.20   Median : 8.100   Median :0.9000          \n",
       " Mean   :12.49   Mean   : 8.163   Mean   :0.9077          \n",
       " 3rd Qu.:16.00   3rd Qu.: 8.500   3rd Qu.:1.1000          \n",
       " Max.   :35.20   Max.   :12.100   Max.   :2.1000          "
      ]
     },
     "metadata": {},
     "output_type": "display_data"
    }
   ],
   "source": [
    "# your code here\n",
    "summary(df)"
   ]
  },
  {
   "cell_type": "markdown",
   "metadata": {
    "deletable": false,
    "editable": false,
    "nbgrader": {
     "cell_type": "markdown",
     "checksum": "53552406d15dd125ea8f726d259c5cb0",
     "grade": false,
     "grade_id": "cell-0ec9894ac6aded1f",
     "locked": true,
     "schema_version": 3,
     "solution": false,
     "task": false
    }
   },
   "source": [
    "#### Use the `sort()` function to order the`lprice` variable from lowest to highest. Remember to use the `df` data frame!"
   ]
  },
  {
   "cell_type": "code",
   "execution_count": 41,
   "metadata": {
    "deletable": false,
    "nbgrader": {
     "cell_type": "code",
     "checksum": "39d99b555ea1cdddf80b50bce6b701da",
     "grade": true,
     "grade_id": "cell-dbf19728a4143ca9",
     "locked": false,
     "points": 0,
     "schema_version": 3,
     "solution": true,
     "task": false
    }
   },
   "outputs": [
    {
     "data": {
      "text/html": [
       "<style>\n",
       ".list-inline {list-style: none; margin:0; padding: 0}\n",
       ".list-inline>li {display: inline-block}\n",
       ".list-inline>li:not(:last-child)::after {content: \"\\00b7\"; padding: 0 .5ex}\n",
       "</style>\n",
       "<ol class=list-inline><li>1.5</li><li>2</li><li>3.95</li><li>4.99</li><li>4.99</li><li>5.95</li><li>5.99</li><li>5.99</li><li>5.99</li><li>6.69</li><li>6.95</li><li>6.95</li><li>6.95</li><li>6.99</li><li>6.99</li><li>6.99</li><li>6.99</li><li>6.99</li><li>6.99</li><li>6.99</li><li>6.99</li><li>7.5</li><li>7.75</li><li>7.77</li><li>7.95</li><li>7.95</li><li>7.95</li><li>7.95</li><li>7.99</li><li>7.99</li><li>7.99</li><li>8</li><li>8.42</li><li>8.95</li><li>8.95</li><li>8.95</li><li>8.99</li><li>8.99</li><li>8.99</li><li>8.99</li><li>8.99</li><li>8.99</li><li>9.95</li><li>9.99</li><li>9.99</li><li>9.99</li><li>9.99</li><li>9.99</li><li>9.99</li><li>9.99</li><li>9.99</li><li>10.65</li><li>10.95</li><li>10.99</li><li>11</li><li>11</li><li>11.5</li><li>11.94</li><li>11.99</li><li>11.99</li><li>12</li><li>12</li><li>12</li><li>12</li><li>12</li><li>12.14</li><li>12.6</li><li>12.95</li><li>12.95</li><li>12.95</li><li>12.99</li><li>12.99</li><li>13</li><li>13</li><li>13</li><li>13</li><li>13</li><li>13.07</li><li>13.29</li><li>13.83</li><li>13.95</li><li>13.95</li><li>13.95</li><li>13.95</li><li>13.95</li><li>13.95</li><li>13.99</li><li>13.99</li><li>13.99</li><li>13.99</li><li>13.99</li><li>14</li><li>14</li><li>14</li><li>14</li><li>14</li><li>14</li><li>14</li><li>14</li><li>14</li><li>14</li><li>14</li><li>14</li><li>14</li><li>14.1</li><li>14.54</li><li>14.95</li><li>14.95</li><li>14.95</li><li>14.95</li><li>14.95</li><li>14.95</li><li>14.95</li><li>14.95</li><li>14.95</li><li>14.95</li><li>14.95</li><li>14.95</li><li>14.95</li><li>14.95</li><li>14.95</li><li>14.95</li><li>14.95</li><li>14.95</li><li>14.95</li><li>14.95</li><li>14.99</li><li>14.99</li><li>14.99</li><li>14.99</li><li>14.99</li><li>14.99</li><li>14.99</li><li>15</li><li>15</li><li>15</li><li>15</li><li>15</li><li>15</li><li>15</li><li>15</li><li>15</li><li>15</li><li>15</li><li>15</li><li>15</li><li>15</li><li>15</li><li>15</li><li>15</li><li>15</li><li>15</li><li>15</li><li>15</li><li>15</li><li>15</li><li>15</li><li>15</li><li>15</li><li>15</li><li>15</li><li>15</li><li>15</li><li>15</li><li>15</li><li>15</li><li>15</li><li>15</li><li>15</li><li>15.44</li><li>15.95</li><li>15.95</li><li>15.95</li><li>15.95</li><li>15.95</li><li>15.95</li><li>15.95</li><li>15.95</li><li>15.95</li><li>15.95</li><li>15.95</li><li>15.95</li><li>15.99</li><li>15.99</li><li>15.99</li><li>15.99</li><li>16</li><li>16</li><li>16</li><li>16</li><li>16</li><li>16</li><li>16</li><li>16</li><li>16</li><li>16</li><li>16</li><li>16</li><li>16</li><li>16</li><li>16</li><li>16</li><li>16</li><li>16</li><li>16</li><li>16</li><li>16</li><li>16.95</li><li>16.95</li><li>16.99</li><li>16.99</li><li>16.99</li><li>16.99</li><li>16.99</li><li>16.99</li><li>17</li><li>17</li><li>17</li><li>17</li><li>17</li><li>17</li><li>17</li><li>17.95</li><li>17.99</li><li>17.99</li><li>17.99</li><li>17.99</li><li>17.99</li><li>17.99</li><li>17.99</li><li>17.99</li><li>17.99</li><li>17.99</li><li>18</li><li>18</li><li>18</li><li>18</li><li>18.5797530864198</li><li>18.95</li><li>18.99</li><li>18.99</li><li>18.99</li><li>19.73</li><li>19.95</li><li>19.95</li><li>19.99</li><li>20</li><li>20</li><li>20</li><li>20</li><li>20</li><li>20</li><li>20</li><li>20</li><li>20</li><li>21</li><li>21.1</li><li>21.99</li><li>22</li><li>22</li><li>22</li><li>22.99</li><li>24</li><li>24</li><li>24</li><li>24.95</li><li>24.95</li><li>24.95</li><li>24.99</li><li>24.99</li><li>24.99</li><li>25</li><li>25</li><li>25</li><li>25</li><li>25</li><li>25.05</li><li>25.95</li><li>26</li><li>26</li><li>26</li><li>26</li><li>26</li><li>26.95</li><li>26.95</li><li>26.95</li><li>26.95</li><li>26.99</li><li>26.99</li><li>26.99</li><li>26.99</li><li>27</li><li>27.55</li><li>27.95</li><li>27.99</li><li>27.99</li><li>28</li><li>28</li><li>28.95</li><li>29.5</li><li>30</li><li>30</li><li>30</li><li>30</li><li>30.5</li><li>32.95</li><li>34.8</li><li>35</li><li>35</li><li>35.75</li><li>35.75</li><li>35.95</li><li>37.5</li><li>39.95</li><li>39.95</li><li>48.2</li><li>48.2</li><li>53.95</li><li>70.8</li><li>75</li><li>86.95</li><li>97.5</li><li>98.95</li><li>114.95</li><li>139.95</li></ol>\n"
      ],
      "text/latex": [
       "\\begin{enumerate*}\n",
       "\\item 1.5\n",
       "\\item 2\n",
       "\\item 3.95\n",
       "\\item 4.99\n",
       "\\item 4.99\n",
       "\\item 5.95\n",
       "\\item 5.99\n",
       "\\item 5.99\n",
       "\\item 5.99\n",
       "\\item 6.69\n",
       "\\item 6.95\n",
       "\\item 6.95\n",
       "\\item 6.95\n",
       "\\item 6.99\n",
       "\\item 6.99\n",
       "\\item 6.99\n",
       "\\item 6.99\n",
       "\\item 6.99\n",
       "\\item 6.99\n",
       "\\item 6.99\n",
       "\\item 6.99\n",
       "\\item 7.5\n",
       "\\item 7.75\n",
       "\\item 7.77\n",
       "\\item 7.95\n",
       "\\item 7.95\n",
       "\\item 7.95\n",
       "\\item 7.95\n",
       "\\item 7.99\n",
       "\\item 7.99\n",
       "\\item 7.99\n",
       "\\item 8\n",
       "\\item 8.42\n",
       "\\item 8.95\n",
       "\\item 8.95\n",
       "\\item 8.95\n",
       "\\item 8.99\n",
       "\\item 8.99\n",
       "\\item 8.99\n",
       "\\item 8.99\n",
       "\\item 8.99\n",
       "\\item 8.99\n",
       "\\item 9.95\n",
       "\\item 9.99\n",
       "\\item 9.99\n",
       "\\item 9.99\n",
       "\\item 9.99\n",
       "\\item 9.99\n",
       "\\item 9.99\n",
       "\\item 9.99\n",
       "\\item 9.99\n",
       "\\item 10.65\n",
       "\\item 10.95\n",
       "\\item 10.99\n",
       "\\item 11\n",
       "\\item 11\n",
       "\\item 11.5\n",
       "\\item 11.94\n",
       "\\item 11.99\n",
       "\\item 11.99\n",
       "\\item 12\n",
       "\\item 12\n",
       "\\item 12\n",
       "\\item 12\n",
       "\\item 12\n",
       "\\item 12.14\n",
       "\\item 12.6\n",
       "\\item 12.95\n",
       "\\item 12.95\n",
       "\\item 12.95\n",
       "\\item 12.99\n",
       "\\item 12.99\n",
       "\\item 13\n",
       "\\item 13\n",
       "\\item 13\n",
       "\\item 13\n",
       "\\item 13\n",
       "\\item 13.07\n",
       "\\item 13.29\n",
       "\\item 13.83\n",
       "\\item 13.95\n",
       "\\item 13.95\n",
       "\\item 13.95\n",
       "\\item 13.95\n",
       "\\item 13.95\n",
       "\\item 13.95\n",
       "\\item 13.99\n",
       "\\item 13.99\n",
       "\\item 13.99\n",
       "\\item 13.99\n",
       "\\item 13.99\n",
       "\\item 14\n",
       "\\item 14\n",
       "\\item 14\n",
       "\\item 14\n",
       "\\item 14\n",
       "\\item 14\n",
       "\\item 14\n",
       "\\item 14\n",
       "\\item 14\n",
       "\\item 14\n",
       "\\item 14\n",
       "\\item 14\n",
       "\\item 14\n",
       "\\item 14.1\n",
       "\\item 14.54\n",
       "\\item 14.95\n",
       "\\item 14.95\n",
       "\\item 14.95\n",
       "\\item 14.95\n",
       "\\item 14.95\n",
       "\\item 14.95\n",
       "\\item 14.95\n",
       "\\item 14.95\n",
       "\\item 14.95\n",
       "\\item 14.95\n",
       "\\item 14.95\n",
       "\\item 14.95\n",
       "\\item 14.95\n",
       "\\item 14.95\n",
       "\\item 14.95\n",
       "\\item 14.95\n",
       "\\item 14.95\n",
       "\\item 14.95\n",
       "\\item 14.95\n",
       "\\item 14.95\n",
       "\\item 14.99\n",
       "\\item 14.99\n",
       "\\item 14.99\n",
       "\\item 14.99\n",
       "\\item 14.99\n",
       "\\item 14.99\n",
       "\\item 14.99\n",
       "\\item 15\n",
       "\\item 15\n",
       "\\item 15\n",
       "\\item 15\n",
       "\\item 15\n",
       "\\item 15\n",
       "\\item 15\n",
       "\\item 15\n",
       "\\item 15\n",
       "\\item 15\n",
       "\\item 15\n",
       "\\item 15\n",
       "\\item 15\n",
       "\\item 15\n",
       "\\item 15\n",
       "\\item 15\n",
       "\\item 15\n",
       "\\item 15\n",
       "\\item 15\n",
       "\\item 15\n",
       "\\item 15\n",
       "\\item 15\n",
       "\\item 15\n",
       "\\item 15\n",
       "\\item 15\n",
       "\\item 15\n",
       "\\item 15\n",
       "\\item 15\n",
       "\\item 15\n",
       "\\item 15\n",
       "\\item 15\n",
       "\\item 15\n",
       "\\item 15\n",
       "\\item 15\n",
       "\\item 15\n",
       "\\item 15\n",
       "\\item 15.44\n",
       "\\item 15.95\n",
       "\\item 15.95\n",
       "\\item 15.95\n",
       "\\item 15.95\n",
       "\\item 15.95\n",
       "\\item 15.95\n",
       "\\item 15.95\n",
       "\\item 15.95\n",
       "\\item 15.95\n",
       "\\item 15.95\n",
       "\\item 15.95\n",
       "\\item 15.95\n",
       "\\item 15.99\n",
       "\\item 15.99\n",
       "\\item 15.99\n",
       "\\item 15.99\n",
       "\\item 16\n",
       "\\item 16\n",
       "\\item 16\n",
       "\\item 16\n",
       "\\item 16\n",
       "\\item 16\n",
       "\\item 16\n",
       "\\item 16\n",
       "\\item 16\n",
       "\\item 16\n",
       "\\item 16\n",
       "\\item 16\n",
       "\\item 16\n",
       "\\item 16\n",
       "\\item 16\n",
       "\\item 16\n",
       "\\item 16\n",
       "\\item 16\n",
       "\\item 16\n",
       "\\item 16\n",
       "\\item 16\n",
       "\\item 16.95\n",
       "\\item 16.95\n",
       "\\item 16.99\n",
       "\\item 16.99\n",
       "\\item 16.99\n",
       "\\item 16.99\n",
       "\\item 16.99\n",
       "\\item 16.99\n",
       "\\item 17\n",
       "\\item 17\n",
       "\\item 17\n",
       "\\item 17\n",
       "\\item 17\n",
       "\\item 17\n",
       "\\item 17\n",
       "\\item 17.95\n",
       "\\item 17.99\n",
       "\\item 17.99\n",
       "\\item 17.99\n",
       "\\item 17.99\n",
       "\\item 17.99\n",
       "\\item 17.99\n",
       "\\item 17.99\n",
       "\\item 17.99\n",
       "\\item 17.99\n",
       "\\item 17.99\n",
       "\\item 18\n",
       "\\item 18\n",
       "\\item 18\n",
       "\\item 18\n",
       "\\item 18.5797530864198\n",
       "\\item 18.95\n",
       "\\item 18.99\n",
       "\\item 18.99\n",
       "\\item 18.99\n",
       "\\item 19.73\n",
       "\\item 19.95\n",
       "\\item 19.95\n",
       "\\item 19.99\n",
       "\\item 20\n",
       "\\item 20\n",
       "\\item 20\n",
       "\\item 20\n",
       "\\item 20\n",
       "\\item 20\n",
       "\\item 20\n",
       "\\item 20\n",
       "\\item 20\n",
       "\\item 21\n",
       "\\item 21.1\n",
       "\\item 21.99\n",
       "\\item 22\n",
       "\\item 22\n",
       "\\item 22\n",
       "\\item 22.99\n",
       "\\item 24\n",
       "\\item 24\n",
       "\\item 24\n",
       "\\item 24.95\n",
       "\\item 24.95\n",
       "\\item 24.95\n",
       "\\item 24.99\n",
       "\\item 24.99\n",
       "\\item 24.99\n",
       "\\item 25\n",
       "\\item 25\n",
       "\\item 25\n",
       "\\item 25\n",
       "\\item 25\n",
       "\\item 25.05\n",
       "\\item 25.95\n",
       "\\item 26\n",
       "\\item 26\n",
       "\\item 26\n",
       "\\item 26\n",
       "\\item 26\n",
       "\\item 26.95\n",
       "\\item 26.95\n",
       "\\item 26.95\n",
       "\\item 26.95\n",
       "\\item 26.99\n",
       "\\item 26.99\n",
       "\\item 26.99\n",
       "\\item 26.99\n",
       "\\item 27\n",
       "\\item 27.55\n",
       "\\item 27.95\n",
       "\\item 27.99\n",
       "\\item 27.99\n",
       "\\item 28\n",
       "\\item 28\n",
       "\\item 28.95\n",
       "\\item 29.5\n",
       "\\item 30\n",
       "\\item 30\n",
       "\\item 30\n",
       "\\item 30\n",
       "\\item 30.5\n",
       "\\item 32.95\n",
       "\\item 34.8\n",
       "\\item 35\n",
       "\\item 35\n",
       "\\item 35.75\n",
       "\\item 35.75\n",
       "\\item 35.95\n",
       "\\item 37.5\n",
       "\\item 39.95\n",
       "\\item 39.95\n",
       "\\item 48.2\n",
       "\\item 48.2\n",
       "\\item 53.95\n",
       "\\item 70.8\n",
       "\\item 75\n",
       "\\item 86.95\n",
       "\\item 97.5\n",
       "\\item 98.95\n",
       "\\item 114.95\n",
       "\\item 139.95\n",
       "\\end{enumerate*}\n"
      ],
      "text/markdown": [
       "1. 1.5\n",
       "2. 2\n",
       "3. 3.95\n",
       "4. 4.99\n",
       "5. 4.99\n",
       "6. 5.95\n",
       "7. 5.99\n",
       "8. 5.99\n",
       "9. 5.99\n",
       "10. 6.69\n",
       "11. 6.95\n",
       "12. 6.95\n",
       "13. 6.95\n",
       "14. 6.99\n",
       "15. 6.99\n",
       "16. 6.99\n",
       "17. 6.99\n",
       "18. 6.99\n",
       "19. 6.99\n",
       "20. 6.99\n",
       "21. 6.99\n",
       "22. 7.5\n",
       "23. 7.75\n",
       "24. 7.77\n",
       "25. 7.95\n",
       "26. 7.95\n",
       "27. 7.95\n",
       "28. 7.95\n",
       "29. 7.99\n",
       "30. 7.99\n",
       "31. 7.99\n",
       "32. 8\n",
       "33. 8.42\n",
       "34. 8.95\n",
       "35. 8.95\n",
       "36. 8.95\n",
       "37. 8.99\n",
       "38. 8.99\n",
       "39. 8.99\n",
       "40. 8.99\n",
       "41. 8.99\n",
       "42. 8.99\n",
       "43. 9.95\n",
       "44. 9.99\n",
       "45. 9.99\n",
       "46. 9.99\n",
       "47. 9.99\n",
       "48. 9.99\n",
       "49. 9.99\n",
       "50. 9.99\n",
       "51. 9.99\n",
       "52. 10.65\n",
       "53. 10.95\n",
       "54. 10.99\n",
       "55. 11\n",
       "56. 11\n",
       "57. 11.5\n",
       "58. 11.94\n",
       "59. 11.99\n",
       "60. 11.99\n",
       "61. 12\n",
       "62. 12\n",
       "63. 12\n",
       "64. 12\n",
       "65. 12\n",
       "66. 12.14\n",
       "67. 12.6\n",
       "68. 12.95\n",
       "69. 12.95\n",
       "70. 12.95\n",
       "71. 12.99\n",
       "72. 12.99\n",
       "73. 13\n",
       "74. 13\n",
       "75. 13\n",
       "76. 13\n",
       "77. 13\n",
       "78. 13.07\n",
       "79. 13.29\n",
       "80. 13.83\n",
       "81. 13.95\n",
       "82. 13.95\n",
       "83. 13.95\n",
       "84. 13.95\n",
       "85. 13.95\n",
       "86. 13.95\n",
       "87. 13.99\n",
       "88. 13.99\n",
       "89. 13.99\n",
       "90. 13.99\n",
       "91. 13.99\n",
       "92. 14\n",
       "93. 14\n",
       "94. 14\n",
       "95. 14\n",
       "96. 14\n",
       "97. 14\n",
       "98. 14\n",
       "99. 14\n",
       "100. 14\n",
       "101. 14\n",
       "102. 14\n",
       "103. 14\n",
       "104. 14\n",
       "105. 14.1\n",
       "106. 14.54\n",
       "107. 14.95\n",
       "108. 14.95\n",
       "109. 14.95\n",
       "110. 14.95\n",
       "111. 14.95\n",
       "112. 14.95\n",
       "113. 14.95\n",
       "114. 14.95\n",
       "115. 14.95\n",
       "116. 14.95\n",
       "117. 14.95\n",
       "118. 14.95\n",
       "119. 14.95\n",
       "120. 14.95\n",
       "121. 14.95\n",
       "122. 14.95\n",
       "123. 14.95\n",
       "124. 14.95\n",
       "125. 14.95\n",
       "126. 14.95\n",
       "127. 14.99\n",
       "128. 14.99\n",
       "129. 14.99\n",
       "130. 14.99\n",
       "131. 14.99\n",
       "132. 14.99\n",
       "133. 14.99\n",
       "134. 15\n",
       "135. 15\n",
       "136. 15\n",
       "137. 15\n",
       "138. 15\n",
       "139. 15\n",
       "140. 15\n",
       "141. 15\n",
       "142. 15\n",
       "143. 15\n",
       "144. 15\n",
       "145. 15\n",
       "146. 15\n",
       "147. 15\n",
       "148. 15\n",
       "149. 15\n",
       "150. 15\n",
       "151. 15\n",
       "152. 15\n",
       "153. 15\n",
       "154. 15\n",
       "155. 15\n",
       "156. 15\n",
       "157. 15\n",
       "158. 15\n",
       "159. 15\n",
       "160. 15\n",
       "161. 15\n",
       "162. 15\n",
       "163. 15\n",
       "164. 15\n",
       "165. 15\n",
       "166. 15\n",
       "167. 15\n",
       "168. 15\n",
       "169. 15\n",
       "170. 15.44\n",
       "171. 15.95\n",
       "172. 15.95\n",
       "173. 15.95\n",
       "174. 15.95\n",
       "175. 15.95\n",
       "176. 15.95\n",
       "177. 15.95\n",
       "178. 15.95\n",
       "179. 15.95\n",
       "180. 15.95\n",
       "181. 15.95\n",
       "182. 15.95\n",
       "183. 15.99\n",
       "184. 15.99\n",
       "185. 15.99\n",
       "186. 15.99\n",
       "187. 16\n",
       "188. 16\n",
       "189. 16\n",
       "190. 16\n",
       "191. 16\n",
       "192. 16\n",
       "193. 16\n",
       "194. 16\n",
       "195. 16\n",
       "196. 16\n",
       "197. 16\n",
       "198. 16\n",
       "199. 16\n",
       "200. 16\n",
       "201. 16\n",
       "202. 16\n",
       "203. 16\n",
       "204. 16\n",
       "205. 16\n",
       "206. 16\n",
       "207. 16\n",
       "208. 16.95\n",
       "209. 16.95\n",
       "210. 16.99\n",
       "211. 16.99\n",
       "212. 16.99\n",
       "213. 16.99\n",
       "214. 16.99\n",
       "215. 16.99\n",
       "216. 17\n",
       "217. 17\n",
       "218. 17\n",
       "219. 17\n",
       "220. 17\n",
       "221. 17\n",
       "222. 17\n",
       "223. 17.95\n",
       "224. 17.99\n",
       "225. 17.99\n",
       "226. 17.99\n",
       "227. 17.99\n",
       "228. 17.99\n",
       "229. 17.99\n",
       "230. 17.99\n",
       "231. 17.99\n",
       "232. 17.99\n",
       "233. 17.99\n",
       "234. 18\n",
       "235. 18\n",
       "236. 18\n",
       "237. 18\n",
       "238. 18.5797530864198\n",
       "239. 18.95\n",
       "240. 18.99\n",
       "241. 18.99\n",
       "242. 18.99\n",
       "243. 19.73\n",
       "244. 19.95\n",
       "245. 19.95\n",
       "246. 19.99\n",
       "247. 20\n",
       "248. 20\n",
       "249. 20\n",
       "250. 20\n",
       "251. 20\n",
       "252. 20\n",
       "253. 20\n",
       "254. 20\n",
       "255. 20\n",
       "256. 21\n",
       "257. 21.1\n",
       "258. 21.99\n",
       "259. 22\n",
       "260. 22\n",
       "261. 22\n",
       "262. 22.99\n",
       "263. 24\n",
       "264. 24\n",
       "265. 24\n",
       "266. 24.95\n",
       "267. 24.95\n",
       "268. 24.95\n",
       "269. 24.99\n",
       "270. 24.99\n",
       "271. 24.99\n",
       "272. 25\n",
       "273. 25\n",
       "274. 25\n",
       "275. 25\n",
       "276. 25\n",
       "277. 25.05\n",
       "278. 25.95\n",
       "279. 26\n",
       "280. 26\n",
       "281. 26\n",
       "282. 26\n",
       "283. 26\n",
       "284. 26.95\n",
       "285. 26.95\n",
       "286. 26.95\n",
       "287. 26.95\n",
       "288. 26.99\n",
       "289. 26.99\n",
       "290. 26.99\n",
       "291. 26.99\n",
       "292. 27\n",
       "293. 27.55\n",
       "294. 27.95\n",
       "295. 27.99\n",
       "296. 27.99\n",
       "297. 28\n",
       "298. 28\n",
       "299. 28.95\n",
       "300. 29.5\n",
       "301. 30\n",
       "302. 30\n",
       "303. 30\n",
       "304. 30\n",
       "305. 30.5\n",
       "306. 32.95\n",
       "307. 34.8\n",
       "308. 35\n",
       "309. 35\n",
       "310. 35.75\n",
       "311. 35.75\n",
       "312. 35.95\n",
       "313. 37.5\n",
       "314. 39.95\n",
       "315. 39.95\n",
       "316. 48.2\n",
       "317. 48.2\n",
       "318. 53.95\n",
       "319. 70.8\n",
       "320. 75\n",
       "321. 86.95\n",
       "322. 97.5\n",
       "323. 98.95\n",
       "324. 114.95\n",
       "325. 139.95\n",
       "\n",
       "\n"
      ],
      "text/plain": [
       "  [1]   1.50000   2.00000   3.95000   4.99000   4.99000   5.95000   5.99000\n",
       "  [8]   5.99000   5.99000   6.69000   6.95000   6.95000   6.95000   6.99000\n",
       " [15]   6.99000   6.99000   6.99000   6.99000   6.99000   6.99000   6.99000\n",
       " [22]   7.50000   7.75000   7.77000   7.95000   7.95000   7.95000   7.95000\n",
       " [29]   7.99000   7.99000   7.99000   8.00000   8.42000   8.95000   8.95000\n",
       " [36]   8.95000   8.99000   8.99000   8.99000   8.99000   8.99000   8.99000\n",
       " [43]   9.95000   9.99000   9.99000   9.99000   9.99000   9.99000   9.99000\n",
       " [50]   9.99000   9.99000  10.65000  10.95000  10.99000  11.00000  11.00000\n",
       " [57]  11.50000  11.94000  11.99000  11.99000  12.00000  12.00000  12.00000\n",
       " [64]  12.00000  12.00000  12.14000  12.60000  12.95000  12.95000  12.95000\n",
       " [71]  12.99000  12.99000  13.00000  13.00000  13.00000  13.00000  13.00000\n",
       " [78]  13.07000  13.29000  13.83000  13.95000  13.95000  13.95000  13.95000\n",
       " [85]  13.95000  13.95000  13.99000  13.99000  13.99000  13.99000  13.99000\n",
       " [92]  14.00000  14.00000  14.00000  14.00000  14.00000  14.00000  14.00000\n",
       " [99]  14.00000  14.00000  14.00000  14.00000  14.00000  14.00000  14.10000\n",
       "[106]  14.54000  14.95000  14.95000  14.95000  14.95000  14.95000  14.95000\n",
       "[113]  14.95000  14.95000  14.95000  14.95000  14.95000  14.95000  14.95000\n",
       "[120]  14.95000  14.95000  14.95000  14.95000  14.95000  14.95000  14.95000\n",
       "[127]  14.99000  14.99000  14.99000  14.99000  14.99000  14.99000  14.99000\n",
       "[134]  15.00000  15.00000  15.00000  15.00000  15.00000  15.00000  15.00000\n",
       "[141]  15.00000  15.00000  15.00000  15.00000  15.00000  15.00000  15.00000\n",
       "[148]  15.00000  15.00000  15.00000  15.00000  15.00000  15.00000  15.00000\n",
       "[155]  15.00000  15.00000  15.00000  15.00000  15.00000  15.00000  15.00000\n",
       "[162]  15.00000  15.00000  15.00000  15.00000  15.00000  15.00000  15.00000\n",
       "[169]  15.00000  15.44000  15.95000  15.95000  15.95000  15.95000  15.95000\n",
       "[176]  15.95000  15.95000  15.95000  15.95000  15.95000  15.95000  15.95000\n",
       "[183]  15.99000  15.99000  15.99000  15.99000  16.00000  16.00000  16.00000\n",
       "[190]  16.00000  16.00000  16.00000  16.00000  16.00000  16.00000  16.00000\n",
       "[197]  16.00000  16.00000  16.00000  16.00000  16.00000  16.00000  16.00000\n",
       "[204]  16.00000  16.00000  16.00000  16.00000  16.95000  16.95000  16.99000\n",
       "[211]  16.99000  16.99000  16.99000  16.99000  16.99000  17.00000  17.00000\n",
       "[218]  17.00000  17.00000  17.00000  17.00000  17.00000  17.95000  17.99000\n",
       "[225]  17.99000  17.99000  17.99000  17.99000  17.99000  17.99000  17.99000\n",
       "[232]  17.99000  17.99000  18.00000  18.00000  18.00000  18.00000  18.57975\n",
       "[239]  18.95000  18.99000  18.99000  18.99000  19.73000  19.95000  19.95000\n",
       "[246]  19.99000  20.00000  20.00000  20.00000  20.00000  20.00000  20.00000\n",
       "[253]  20.00000  20.00000  20.00000  21.00000  21.10000  21.99000  22.00000\n",
       "[260]  22.00000  22.00000  22.99000  24.00000  24.00000  24.00000  24.95000\n",
       "[267]  24.95000  24.95000  24.99000  24.99000  24.99000  25.00000  25.00000\n",
       "[274]  25.00000  25.00000  25.00000  25.05000  25.95000  26.00000  26.00000\n",
       "[281]  26.00000  26.00000  26.00000  26.95000  26.95000  26.95000  26.95000\n",
       "[288]  26.99000  26.99000  26.99000  26.99000  27.00000  27.55000  27.95000\n",
       "[295]  27.99000  27.99000  28.00000  28.00000  28.95000  29.50000  30.00000\n",
       "[302]  30.00000  30.00000  30.00000  30.50000  32.95000  34.80000  35.00000\n",
       "[309]  35.00000  35.75000  35.75000  35.95000  37.50000  39.95000  39.95000\n",
       "[316]  48.20000  48.20000  53.95000  70.80000  75.00000  86.95000  97.50000\n",
       "[323]  98.95000 114.95000 139.95000"
      ]
     },
     "metadata": {},
     "output_type": "display_data"
    }
   ],
   "source": [
    "# your code here\n",
    "sort(df$lprice)"
   ]
  },
  {
   "cell_type": "markdown",
   "metadata": {
    "deletable": false,
    "editable": false,
    "nbgrader": {
     "cell_type": "markdown",
     "checksum": "092d6f86104e4510b618b2fd2d8c96e6",
     "grade": false,
     "grade_id": "cell-a04f79d0a3404a7f",
     "locked": true,
     "schema_version": 3,
     "solution": false,
     "task": false
    }
   },
   "source": [
    "#### Code the `cover`  varible as a factor."
   ]
  },
  {
   "cell_type": "code",
   "execution_count": 42,
   "metadata": {
    "deletable": false,
    "nbgrader": {
     "cell_type": "code",
     "checksum": "964ef0ff1e9a7567bbf616bccc2eff39",
     "grade": false,
     "grade_id": "cell-00b558fade12e38d",
     "locked": false,
     "schema_version": 3,
     "solution": true,
     "task": false
    }
   },
   "outputs": [
    {
     "data": {
      "text/html": [
       "<style>\n",
       ".list-inline {list-style: none; margin:0; padding: 0}\n",
       ".list-inline>li {display: inline-block}\n",
       ".list-inline>li:not(:last-child)::after {content: \"\\00b7\"; padding: 0 .5ex}\n",
       "</style>\n",
       "<ol class=list-inline><li>'H'</li><li>'P'</li></ol>\n"
      ],
      "text/latex": [
       "\\begin{enumerate*}\n",
       "\\item 'H'\n",
       "\\item 'P'\n",
       "\\end{enumerate*}\n"
      ],
      "text/markdown": [
       "1. 'H'\n",
       "2. 'P'\n",
       "\n",
       "\n"
      ],
      "text/plain": [
       "[1] \"H\" \"P\""
      ]
     },
     "metadata": {},
     "output_type": "display_data"
    }
   ],
   "source": [
    "# your code here\n",
    "cover <- levels(df$cover)\n",
    "cover"
   ]
  },
  {
   "cell_type": "code",
   "execution_count": null,
   "metadata": {
    "deletable": false,
    "editable": false,
    "nbgrader": {
     "cell_type": "code",
     "checksum": "3e52988746aa14b7e953c0f6e3ce43e8",
     "grade": true,
     "grade_id": "cell-d3b231c19c8662f2",
     "locked": true,
     "points": 1,
     "schema_version": 3,
     "solution": false,
     "task": false
    }
   },
   "outputs": [],
   "source": []
  },
  {
   "cell_type": "markdown",
   "metadata": {
    "deletable": false,
    "editable": false,
    "nbgrader": {
     "cell_type": "markdown",
     "checksum": "829463ee6acfb365b883a50836b67879",
     "grade": false,
     "grade_id": "cell-ddabb3f4c0f62f4f",
     "locked": true,
     "schema_version": 3,
     "solution": false,
     "task": false
    }
   },
   "source": [
    "#### Note that you could provide more descriptive labels for the levels of this factor (note that `H` = \"Hardcover\" and `P` = \"Paperback\"). The easiest way do do this is with the `levels()` function: `levels(x) = value`. "
   ]
  },
  {
   "cell_type": "code",
   "execution_count": 43,
   "metadata": {
    "deletable": false,
    "editable": false,
    "nbgrader": {
     "cell_type": "code",
     "checksum": "c12849d35e7f5abfb4af9589ab95cc9c",
     "grade": false,
     "grade_id": "cell-8f8a17835be237a1",
     "locked": true,
     "schema_version": 3,
     "solution": false,
     "task": false
    }
   },
   "outputs": [
    {
     "data": {
      "text/plain": [
       "     aprice           lprice           pages           width      \n",
       " Min.   :  0.77   Min.   :  1.50   Min.   : 24.0   Min.   :4.100  \n",
       " 1st Qu.:  8.60   1st Qu.: 13.95   1st Qu.:208.0   1st Qu.:5.200  \n",
       " Median : 10.20   Median : 15.00   Median :320.0   Median :5.400  \n",
       " Mean   : 13.33   Mean   : 18.58   Mean   :335.9   Mean   :5.585  \n",
       " 3rd Qu.: 13.13   3rd Qu.: 19.95   3rd Qu.:416.0   3rd Qu.:5.900  \n",
       " Max.   :139.95   Max.   :139.95   Max.   :896.0   Max.   :9.500  \n",
       "     weight          height           thick              cover    \n",
       " Min.   : 1.20   Min.   : 5.100   Min.   :0.1000   Hardcover: 89  \n",
       " 1st Qu.: 7.80   1st Qu.: 7.900   1st Qu.:0.6000   Paperback:236  \n",
       " Median :11.20   Median : 8.100   Median :0.9000                  \n",
       " Mean   :12.49   Mean   : 8.163   Mean   :0.9077                  \n",
       " 3rd Qu.:16.00   3rd Qu.: 8.500   3rd Qu.:1.1000                  \n",
       " Max.   :35.20   Max.   :12.100   Max.   :2.1000                  "
      ]
     },
     "metadata": {},
     "output_type": "display_data"
    }
   ],
   "source": [
    "levels(df$cover) = c(\"Hardcover\",\"Paperback\")\n",
    "summary(df)"
   ]
  },
  {
   "cell_type": "markdown",
   "metadata": {
    "deletable": false,
    "editable": false,
    "nbgrader": {
     "cell_type": "markdown",
     "checksum": "9954cd23685f3edef02f03775ad7d905",
     "grade": false,
     "grade_id": "cell-0c5f9ab6045d4f7a",
     "locked": true,
     "schema_version": 3,
     "solution": false,
     "task": false
    }
   },
   "source": [
    "#### Print a histogram of the `pages` variable. Comment on it's shape."
   ]
  },
  {
   "cell_type": "code",
   "execution_count": 44,
   "metadata": {
    "deletable": false,
    "nbgrader": {
     "cell_type": "code",
     "checksum": "c8418edf654a9c02b416b8269995a1ed",
     "grade": true,
     "grade_id": "cell-e985293a62940ef7",
     "locked": false,
     "points": 0,
     "schema_version": 3,
     "solution": true,
     "task": false
    }
   },
   "outputs": [
    {
     "data": {
      "image/png": "[encoded data removed]",
      "text/plain": [
       "Plot with title “Histogram of df$pages”"
      ]
     },
     "metadata": {
      "image/png": {
       "height": 420,
       "width": 420
      },
      "text/plain": {
       "height": 420,
       "width": 420
      }
     },
     "output_type": "display_data"
    }
   ],
   "source": [
    "# your code here\n",
    "hist(df$pages, density = 20, freq = FALSE)"
   ]
  },
  {
   "cell_type": "markdown",
   "metadata": {
    "deletable": false,
    "nbgrader": {
     "cell_type": "markdown",
     "checksum": "cec5b2e8214469dcd2a6efd0f885aeeb",
     "grade": true,
     "grade_id": "cell-c092ae95b3dd2f02",
     "locked": false,
     "points": 0,
     "schema_version": 3,
     "solution": true,
     "task": false
    }
   },
   "source": [
    "Right skewed distribution"
   ]
  },
  {
   "cell_type": "markdown",
   "metadata": {
    "deletable": false,
    "editable": false,
    "nbgrader": {
     "cell_type": "markdown",
     "checksum": "83e0b175247cf3aebaf454a70afd095b",
     "grade": false,
     "grade_id": "cell-bcf9df5a9a9f9f9a",
     "locked": true,
     "schema_version": 3,
     "solution": false,
     "task": false
    }
   },
   "source": [
    "#### Use the `plot()` function to produce a scatterplot of `aprice` ($y$) against `lprice` ($x$). What do you notice about this plot?"
   ]
  },
  {
   "cell_type": "code",
   "execution_count": 45,
   "metadata": {
    "deletable": false,
    "nbgrader": {
     "cell_type": "code",
     "checksum": "8f6e666472a2455df3345fb91044b973",
     "grade": true,
     "grade_id": "cell-10715440cbfc4328",
     "locked": false,
     "points": 0,
     "schema_version": 3,
     "solution": true,
     "task": false
    }
   },
   "outputs": [
    {
     "data": {
      "image/png": "[encoded data removed]",
      "text/plain": [
       "plot without title"
      ]
     },
     "metadata": {
      "image/png": {
       "height": 420,
       "width": 420
      },
      "text/plain": {
       "height": 420,
       "width": 420
      }
     },
     "output_type": "display_data"
    }
   ],
   "source": [
    "# your code here\n",
    "plot(df$lprice, df$aprice)"
   ]
  },
  {
   "cell_type": "code",
   "execution_count": 46,
   "metadata": {},
   "outputs": [],
   "source": [
    "? plot"
   ]
  },
  {
   "cell_type": "markdown",
   "metadata": {
    "deletable": false,
    "nbgrader": {
     "cell_type": "markdown",
     "checksum": "df95326a14ad164ee4c6d360b5daea28",
     "grade": true,
     "grade_id": "cell-8a92f7e5688ebef9",
     "locked": false,
     "points": 0,
     "schema_version": 3,
     "solution": true,
     "task": false
    }
   },
   "source": [
    "There seems to be a linear correlation with some outliers."
   ]
  },
  {
   "cell_type": "markdown",
   "metadata": {
    "deletable": false,
    "editable": false,
    "nbgrader": {
     "cell_type": "markdown",
     "checksum": "83a64a7cf668fbcd711cef326e8b8328",
     "grade": false,
     "grade_id": "cell-c5aa494c40ce32a9",
     "locked": true,
     "schema_version": 3,
     "solution": false,
     "task": false
    }
   },
   "source": [
    "#### Use the `boxplot()` function to produce a boxplot of `pages` conditioned on `cover`. Interpret this plot."
   ]
  },
  {
   "cell_type": "code",
   "execution_count": 47,
   "metadata": {
    "deletable": false,
    "nbgrader": {
     "cell_type": "code",
     "checksum": "466a639377b5d1628b87a05f878cb517",
     "grade": true,
     "grade_id": "cell-75862cff4a93c8f5",
     "locked": false,
     "points": 0,
     "schema_version": 3,
     "solution": true,
     "task": false
    }
   },
   "outputs": [
    {
     "data": {
      "image/png": "[encoded data removed]",
      "text/plain": [
       "plot without title"
      ]
     },
     "metadata": {
      "image/png": {
       "height": 420,
       "width": 420
      },
      "text/plain": {
       "height": 420,
       "width": 420
      }
     },
     "output_type": "display_data"
    }
   ],
   "source": [
    "# your code here\n",
    "boxplot(pages ~ cover, data = df)"
   ]
  },
  {
   "cell_type": "code",
   "execution_count": 48,
   "metadata": {},
   "outputs": [],
   "source": [
    "?boxplot"
   ]
  },
  {
   "cell_type": "markdown",
   "metadata": {
    "deletable": false,
    "nbgrader": {
     "cell_type": "markdown",
     "checksum": "5b2d0c134dbbafba3398870f33d00078",
     "grade": true,
     "grade_id": "cell-d3bce347cdf5a62e",
     "locked": false,
     "points": 0,
     "schema_version": 3,
     "solution": true,
     "task": false
    }
   },
   "source": [
    "The interquartile range and median are almost same. However there are more outliers in Paperback than Hardcover."
   ]
  },
  {
   "cell_type": "markdown",
   "metadata": {
    "deletable": false,
    "editable": false,
    "nbgrader": {
     "cell_type": "markdown",
     "checksum": "631e518743d1cf6fe738b120b011175d",
     "grade": false,
     "grade_id": "cell-6132102c0a984443",
     "locked": true,
     "schema_version": 3,
     "solution": false,
     "task": false
    }
   },
   "source": [
    "Note another way to read data from the web..."
   ]
  },
  {
   "cell_type": "code",
   "execution_count": 49,
   "metadata": {
    "deletable": false,
    "editable": false,
    "nbgrader": {
     "cell_type": "code",
     "checksum": "963a35afad4a5e13c90538507dd9dfa0",
     "grade": false,
     "grade_id": "cell-6982a3c861737ad0",
     "locked": true,
     "schema_version": 3,
     "solution": false,
     "task": false
    }
   },
   "outputs": [
    {
     "name": "stderr",
     "output_type": "stream",
     "text": [
      "Warning message in file(file, \"rt\"):\n",
      "“cannot open URL 'http://www.stats.ox.ac.uk/pub/datasets/csb/ch11b.dat': HTTP status was '403 Forbidden'”\n"
     ]
    },
    {
     "ename": "ERROR",
     "evalue": "Error in file(file, \"rt\"): cannot open the connection to 'http://www.stats.ox.ac.uk/pub/datasets/csb/ch11b.dat'\n",
     "output_type": "error",
     "traceback": [
      "Error in file(file, \"rt\"): cannot open the connection to 'http://www.stats.ox.ac.uk/pub/datasets/csb/ch11b.dat'\nTraceback:\n",
      "1. read.table(\"http://www.stats.ox.ac.uk/pub/datasets/csb/ch11b.dat\")",
      "2. file(file, \"rt\")"
     ]
    }
   ],
   "source": [
    "### Reading data from the web...\n",
    "read.table(\"http://www.stats.ox.ac.uk/pub/datasets/csb/ch11b.dat\")"
   ]
  },
  {
   "cell_type": "code",
   "execution_count": null,
   "metadata": {},
   "outputs": [],
   "source": [
    "read.table(\"http://www.stats.ox.ac.uk/pub/datasets/csb/ch11b.dat\")"
   ]
  },
  {
   "cell_type": "code",
   "execution_count": null,
   "metadata": {},
   "outputs": [],
   "source": []
  }
 ],
 "metadata": {
  "kernelspec": {
   "display_name": "R",
   "language": "R",
   "name": "ir"
  },
  "language_info": {
   "codemirror_mode": "r",
   "file_extension": ".r",
   "mimetype": "text/x-r-source",
   "name": "R",
   "pygments_lexer": "r",
   "version": "3.6.3"
  }
 },
 "nbformat": 4,
 "nbformat_minor": 2
}
