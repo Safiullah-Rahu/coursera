{
 "cells": [
  {
   "cell_type": "code",
   "execution_count": 1,
   "metadata": {},
   "outputs": [],
   "source": [
    "import numpy as np\n",
    "\n",
    "from numpy.testing import assert_allclose"
   ]
  },
  {
   "cell_type": "markdown",
   "metadata": {},
   "source": [
    "# Part I. Construct a Householder reflection of a vector."
   ]
  },
  {
   "cell_type": "markdown",
   "metadata": {},
   "source": [
    "Given a vector $\\mathbf{x}$, and a plane with a normal vector $\\mathbf{u}$, the Householder transformation reflects $\\mathbf{x}$ about the plane.\n",
    "\n",
    "The matrix of the Householder transformation is\n",
    "\n",
    "$$\n",
    "\\mathbf{H} = \\mathbf{1} - 2 \\mathbf{u} \\mathbf{u}^T\n",
    "$$\n",
    "\n",
    "Given two equal-length vectors $\\mathbf{x}$ and $\\mathbf{y}$, a rotation which brings $\\mathbf{x}$ to $\\mathbf{y}$ is a Householder transform with\n",
    "\n",
    "$$\n",
    "\\mathbf{u} = \\frac{\\mathbf{x} - \\mathbf{y}}{\\left|\\mathbf{x} - \\mathbf{y}\\right|}\n",
    "$$"
   ]
  },
  {
   "cell_type": "markdown",
   "metadata": {},
   "source": [
    "Write a function which rotates a given vector, $\\mathbf{x} = (x_1, \\dots, x_n)$ into $\\mathbf{y} = (\\left|\\mathbf{x}\\right|, 0, \\dots, 0)^T$ using a Householder transformation."
   ]
  },
  {
   "cell_type": "code",
   "execution_count": 2,
   "metadata": {},
   "outputs": [
    {
     "name": "stdout",
     "output_type": "stream",
     "text": [
      "[[0. 1.]]\n"
     ]
    }
   ],
   "source": [
    "temp = np.array([0.0, 1.0])\n",
    "temp = temp.reshape(2, -1)\n",
    "print(np.transpose(temp))"
   ]
  },
  {
   "cell_type": "code",
   "execution_count": 3,
   "metadata": {},
   "outputs": [],
   "source": [
    "def householder(vec):\n",
    "    \"\"\"Construct a Householder reflection to zero out 2nd and further components of a vector.\n",
    "\n",
    "    Parameters\n",
    "    ----------\n",
    "    vec : array-like of floats, shape (n,)\n",
    "        Input vector\n",
    "    \n",
    "    Returns\n",
    "    -------\n",
    "    outvec : array of floats, shape (n,)\n",
    "        Transformed vector, with ``outvec[1:]==0`` and ``|outvec| == |vec|``\n",
    "    H : array of floats, shape (n, n)\n",
    "        Orthogonal matrix of the Householder reflection\n",
    "    \"\"\"\n",
    "    vec = np.asarray(vec, dtype=float)\n",
    "    if vec.ndim != 1:\n",
    "        raise ValueError(\"vec.ndim = %s, expected 1\" % vec.ndim)\n",
    "    \n",
    "    n = vec.shape[0]\n",
    "    vec_norm = np.linalg.norm(vec)\n",
    "    outvec = np.array([0] * n, dtype=float)\n",
    "    outvec[0] = vec_norm\n",
    "    \n",
    "    diffvec = vec - outvec\n",
    "    diffvec[0] = (-np.linalg.norm(vec[1:])**2 / (vec[0] + vec_norm))\n",
    "    u = diffvec / np.linalg.norm(diffvec)\n",
    "    u = u.reshape(n, -1)\n",
    "    h = np.eye(n) - 2 * np.dot(u, np.transpose(u))\n",
    "    \n",
    "    return outvec, h"
   ]
  },
  {
   "cell_type": "markdown",
   "metadata": {},
   "source": [
    "Test your function using tests below:"
   ]
  },
  {
   "cell_type": "code",
   "execution_count": 4,
   "metadata": {},
   "outputs": [],
   "source": [
    "# Test I.1 (10% of the total grade).\n",
    "\n",
    "v = np.array([1, 2, 3])\n",
    "v1, h = householder(v)\n",
    "\n",
    "assert_allclose(np.dot(h, v1), v, rtol=0, atol=1e-10)\n",
    "assert_allclose(np.dot(h, v), v1, rtol=0, atol=1e-10)"
   ]
  },
  {
   "cell_type": "code",
   "execution_count": 5,
   "metadata": {},
   "outputs": [],
   "source": [
    "# Test I.2 (10% of the total grade).\n",
    "\n",
    "rndm = np.random.RandomState(1234)\n",
    "\n",
    "vec = rndm.uniform(size=7)\n",
    "v1, h = householder(vec)\n",
    "\n",
    "assert_allclose(np.dot(h, v1), vec, rtol=0, atol=1e-10)"
   ]
  },
  {
   "cell_type": "markdown",
   "metadata": {},
   "source": [
    "# Part II. Compute the $\\mathrm{QR}$ decomposition of a matrix.\n",
    "\n",
    "Given a rectangular $m\\times n$ matrix $\\mathbf{A}$, construct a Householder reflector matrix $\\mathbf{H}_1$ which transforms the first column of $\\mathbf{A}$ (and call the result $\\mathbf{A}^{(1)}$)\n",
    "\n",
    "$$\n",
    "\\mathbf{H}_1 \\mathbf{A} =%\n",
    "\\begin{pmatrix}\n",
    "\\times & \\times & \\times & \\dots & \\times \\\\\n",
    "0      & \\times & \\times & \\dots & \\times \\\\\n",
    "0      & \\times & \\times & \\dots & \\times \\\\\n",
    "&& \\dots&& \\\\\n",
    "0      & \\times & \\times & \\dots & \\times \\\\\n",
    "\\end{pmatrix}%\n",
    "\\equiv \\mathbf{A}^{(1)}\\;.\n",
    "$$\n",
    "\n",
    "Now consider the lower-right submatrix of $\\mathbf{A}^{(1)}$, and construct a Householder reflector which annihilates the second column of $\\mathbf{A}$:\n",
    "\n",
    "$$\n",
    "\\mathbf{H}_2 \\mathbf{A}^{(1)} =%\n",
    "\\begin{pmatrix}\n",
    "\\times & \\times & \\times & \\dots & \\times \\\\\n",
    "0      & \\times & \\times & \\dots & \\times \\\\\n",
    "0      & 0      & \\times & \\dots & \\times \\\\\n",
    "&& \\dots&& \\\\\n",
    "0      & 0      & \\times & \\dots & \\times \\\\\n",
    "\\end{pmatrix}%\n",
    "\\equiv \\mathbf{A}^{(2)} \\;.\n",
    "$$\n",
    "\n",
    "Repeating the process $n-1$ times, we obtain\n",
    "\n",
    "$$\n",
    "\\mathbf{H}_{n-1} \\cdots \\mathbf{H}_2 \\mathbf{H}_1 \\mathbf{A} = \\mathbf{R} \\;,\n",
    "$$\n",
    "\n",
    "with $\\mathbf{R}$ an upper triangular matrix. Since each $\\mathbf{H}_k$ is orthogonal, so is their product. The inverse of an orthogonal matrix is orthogonal. Hence the process generates the $\\mathrm{QR}$ decomposition of $\\mathbf{A}$. "
   ]
  },
  {
   "cell_type": "markdown",
   "metadata": {},
   "source": [
    "Write a function, which receives a recangular matrix, $A$, and returns the Q and R factors of the $QR$ factorization of $A$."
   ]
  },
  {
   "cell_type": "code",
   "execution_count": 6,
   "metadata": {},
   "outputs": [],
   "source": [
    "def qr_decomp(a):\n",
    "    \"\"\"Compute the QR decomposition of a matrix.\n",
    "    \n",
    "    Parameters\n",
    "    ----------\n",
    "    a : ndarray, shape(m, n)\n",
    "        The input matrix\n",
    "    \n",
    "    Returns\n",
    "    -------\n",
    "    q : ndarray, shape(m, m)\n",
    "        The orthogonal matrix\n",
    "    r : ndarray, shape(m, n)\n",
    "        The upper triangular matrix\n",
    "        \n",
    "    Examples\n",
    "    --------\n",
    "    >>> a = np.random.random(size=(3, 5))\n",
    "    >>> q, r = qr_decomp(a)\n",
    "    >>> np.assert_allclose(np.dot(q, r), a)\n",
    "    \n",
    "    \"\"\"\n",
    "    r = np.array(a, copy=True, dtype=float)\n",
    "    m, n = r.shape\n",
    "    \n",
    "    q = np.eye(m)\n",
    "    \n",
    "    for i in range(n - (m == n)):\n",
    "        H = np.eye(m)\n",
    "        y, H[i:, i:] = householder(r[i:, i])\n",
    "        r = H @ r\n",
    "        q = q @ np.transpose(H)\n",
    "    \n",
    "    return q, r\n"
   ]
  },
  {
   "cell_type": "code",
   "execution_count": 7,
   "metadata": {},
   "outputs": [],
   "source": [
    "# Might want to turn this on for prettier printing: zeros instead of `1e-16` etc\n",
    "\n",
    "np.set_printoptions(suppress=True)\n"
   ]
  },
  {
   "cell_type": "code",
   "execution_count": 8,
   "metadata": {},
   "outputs": [
    {
     "name": "stdout",
     "output_type": "stream",
     "text": [
      "[[ 0.13665049  0.53601299 -0.09369752  0.7697136   0.30459557]\n",
      " [ 0.56035895  0.0935397  -0.53326881  0.01839528 -0.62652547]\n",
      " [ 0.19725922  0.65948912  0.60068463 -0.32384673 -0.24589462]\n",
      " [ 0.62498418 -0.50418303  0.52144688  0.28453698  0.04822969]\n",
      " [ 0.48765568  0.12171264 -0.27224305 -0.47049398  0.67223293]]\n",
      "[[ 1.40152769  1.2514379   0.89523615]\n",
      " [-0.          0.84158252  0.68447942]\n",
      " [ 0.          0.          0.5496046 ]\n",
      " [-0.         -0.         -0.        ]\n",
      " [-0.         -0.          0.        ]]\n"
     ]
    }
   ],
   "source": [
    "# Test II.1 (20% of the total grade)\n",
    "\n",
    "rndm = np.random.RandomState(1234)\n",
    "a = rndm.uniform(size=(5, 3))\n",
    "q, r = qr_decomp(a)\n",
    "\n",
    "print(q)\n",
    "print(r)\n",
    "\n",
    "# test that Q is indeed orthogonal\n",
    "assert_allclose(np.dot(q, q.T), np.eye(5), atol=1e-10)\n",
    "\n",
    "# test the decomposition itself\n",
    "assert_allclose(np.dot(q, r), a)\n"
   ]
  },
  {
   "cell_type": "code",
   "execution_count": 9,
   "metadata": {},
   "outputs": [
    {
     "name": "stdout",
     "output_type": "stream",
     "text": [
      "q:\n",
      " [[-0.13665049  0.53601299  0.09369752  0.661619   -0.49749149]\n",
      " [-0.56035895  0.0935397   0.53326881 -0.52477245 -0.34276292]\n",
      " [-0.19725922  0.65948912 -0.60068463 -0.37879015  0.14784752]\n",
      " [-0.62498418 -0.50418303 -0.52144688  0.18967657 -0.21750907]\n",
      " [-0.48765568  0.12171264  0.27224305  0.32774225  0.75222783]]\n",
      "r:\n",
      " [[-1.40152769 -1.2514379  -0.89523615]\n",
      " [ 0.          0.84158252  0.68447942]\n",
      " [-0.          0.         -0.5496046 ]\n",
      " [ 0.          0.         -0.        ]\n",
      " [ 0.         -0.          0.        ]]\n"
     ]
    }
   ],
   "source": [
    "import numpy as np\n",
    "\n",
    "# The following qr function is a second implementation whose output matches the scipy's output\n",
    "# The make_householder function is slightly modified such that the implementation is numerically stable and it avoids loss of significance.\n",
    "def modified_qr(A2):\n",
    "    A = A2.copy()\n",
    "    m, n = A.shape\n",
    "    Q = np.eye(m)\n",
    "    for i in range(n - (m == n)):\n",
    "        H = np.eye(m)\n",
    "        H[i:, i:] = stable_householder(A[i:, i])\n",
    "        Q = np.dot(Q, H)\n",
    "        A = np.dot(H, A)\n",
    "    return Q, A\n",
    "\n",
    "def stable_householder(a):\n",
    "    v = a / (a[0] + np.copysign(np.linalg.norm(a), a[0]))\n",
    "    v[0] = 1\n",
    "    H = np.eye(a.shape[0])\n",
    "    H -= (2 / np.dot(v, v)) * np.dot(v[:, None], v[None, :])\n",
    "    return H\n",
    "\n",
    "q, r = modified_qr(a)\n",
    "print(\"q:\\n\", q)\n",
    "print(\"r:\\n\", r)\n",
    "\n",
    "assert_allclose(np.dot(q, r), a)\n"
   ]
  },
  {
   "cell_type": "markdown",
   "metadata": {},
   "source": [
    "Now compare your decompositions to the library function (which actually wraps the corresponding LAPACK functions)"
   ]
  },
  {
   "cell_type": "code",
   "execution_count": 10,
   "metadata": {},
   "outputs": [
    {
     "name": "stdout",
     "output_type": "stream",
     "text": [
      "q:\n",
      " [[-0.13665049  0.53601299  0.09369752  0.661619   -0.49749149]\n",
      " [-0.56035895  0.0935397   0.53326881 -0.52477245 -0.34276292]\n",
      " [-0.19725922  0.65948912 -0.60068463 -0.37879015  0.14784752]\n",
      " [-0.62498418 -0.50418303 -0.52144688  0.18967657 -0.21750907]\n",
      " [-0.48765568  0.12171264  0.27224305  0.32774225  0.75222783]]\n",
      "r:\n",
      " [[-1.40152769 -1.2514379  -0.89523615]\n",
      " [ 0.          0.84158252  0.68447942]\n",
      " [ 0.          0.         -0.5496046 ]\n",
      " [ 0.          0.          0.        ]\n",
      " [ 0.          0.          0.        ]]\n"
     ]
    }
   ],
   "source": [
    "from scipy.linalg import qr\n",
    "qq, rr = qr(a)\n",
    "\n",
    "print(\"q:\\n\", qq)\n",
    "print(\"r:\\n\", rr)\n",
    "\n",
    "assert_allclose(np.dot(qq, rr), a)\n"
   ]
  },
  {
   "cell_type": "markdown",
   "metadata": {},
   "source": [
    "Check if your `q` and `r` agree with `qq` and `rr`. Explain."
   ]
  },
  {
   "cell_type": "markdown",
   "metadata": {},
   "source": [
    "*Enter your explanation here* (10% of the total grade, peer-graded)"
   ]
  },
  {
   "cell_type": "markdown",
   "metadata": {},
   "source": [
    "<p style=\"font-weight: bold\">\n",
    "From the above outputs we can see that both outputs are different. The reason for this is the choice of householder transformation implementation.\n",
    "</p>\n",
    "\n",
    "<p style=\"font-weight: bold\">\n",
    "The norm should get the opposite sign as the first coordinate of input vector, a.k.a. the pivot coordinate after which all entries are $0$ in matrix A's final upper triangular form, to avoid loss of significance.\n",
    "</p>\n",
    "\n",
    "<p style=\"font-weight: bold\">\n",
    "Please refer to <a href=\"https://en.wikipedia.org/wiki/QR_decomposition#Using_Householder_reflections\">https://en.wikipedia.org/wiki/QR_decomposition#Using_Householder_reflections</a> for further information on this.\n",
    "</p>\n",
    "\n",
    "<p style=\"font-weight: bold\">\n",
    "I implemented this as a new function above and the output of it matches with the output of scipy.\n",
    "</p>"
   ]
  },
  {
   "cell_type": "markdown",
   "metadata": {},
   "source": [
    "# Part III. Avoid forming Householder matrices explicitly."
   ]
  },
  {
   "cell_type": "markdown",
   "metadata": {},
   "source": [
    "Note the special structure of the Householder matrices: A reflector $\\mathbf{H}$ is completely specified by a reflection vector $\\mathbf{u}$. Also note that the computational cost of applying a reflector to a matrix strongly depends on the order of operations:\n",
    "\n",
    "$$\n",
    "\\left( \\mathbf{u} \\mathbf{u}^T \\right) \\mathbf{A}  \\qquad \\textrm{is } O(m^2 n)\\;,\n",
    "$$\n",
    "while\n",
    "$$\n",
    "\\mathbf{u} \\left( \\mathbf{u}^T \\mathbf{A} \\right) \\qquad \\textrm{is } O(mn)\n",
    "$$\n",
    "\n",
    "Thus, it seems to make sense to *avoid* forming the $\\mathbf{H}$ matrices. Instead, one stores the reflection vectors, $\\mathbf{u}$, themselves, and provides a way of multiplying an arbitrary matrix by $\\mathbf{Q}^T$, e.g., as a standalone function (or a class)."
   ]
  },
  {
   "cell_type": "markdown",
   "metadata": {},
   "source": [
    "Write a function which constructs the `QR` decomposition of a matrix *without ever forming the* $\\mathbf{H}$ matrices, and returns the $\\mathbf{R}$ matrix and reflection vectors. \n",
    "\n",
    "Write a second function, which uses reflection vectors to multiply a matrix with $\\mathbf{Q}^T$. Make sure to include enough comments for a marker to follow your implementation, and add tests. \n",
    "\n",
    "(Peer-graded, 40% of the total grade)"
   ]
  },
  {
   "cell_type": "code",
   "execution_count": 11,
   "metadata": {},
   "outputs": [],
   "source": [
    "def qr_decomp_efficient(a):\n",
    "    \"\"\"Compute the QR decomposition of a matrix.\n",
    "    \n",
    "    Parameters\n",
    "    ----------\n",
    "    a : ndarray, shape(m, n)\n",
    "        The input matrix\n",
    "    \n",
    "    Returns\n",
    "    -------\n",
    "    v_list : list of household transformation vectors,\n",
    "        each of shape(m, 1)\n",
    "    r : ndarray, shape(m, n)\n",
    "        The upper triangular matrix\n",
    "        \n",
    "    Examples\n",
    "    --------\n",
    "    >>> a = np.random.random(size=(3, 5))\n",
    "    >>> q, r = qr_decomp_efficient(a)\n",
    "    >>> np.assert_allclose(np.dot(q, r), a)\n",
    "    \n",
    "    \"\"\"\n",
    "    r = np.array(a, copy=True, dtype=float)\n",
    "    m, n = r.shape\n",
    "    \n",
    "    v_list = []\n",
    "    \n",
    "    for i in range(n - (m == n)):\n",
    "        u = r[:, i].copy()\n",
    "        u[:i] = 0\n",
    "        e1 = np.zeros(u.shape[0], dtype=float)\n",
    "        e1[i] = 1.0\n",
    "        v = u + np.sign(u[i]) * np.linalg.norm(u) * e1\n",
    "        v /= np.linalg.norm(v)\n",
    "        v = v[:, None]\n",
    "        v_list.append(v)\n",
    "        r = r - (2 * np.dot(v, np.dot(np.transpose(v), r)))\n",
    "        \n",
    "    return v_list, r\n"
   ]
  },
  {
   "cell_type": "code",
   "execution_count": 12,
   "metadata": {},
   "outputs": [],
   "source": [
    "def multiply_v_with_q(r, v):\n",
    "    m = v_list[0].shape[0]\n",
    "    q = np.eye(m)\n",
    "    for v in v_list:\n",
    "        q = np.dot(q, np.eye(m) - 2 * np.dot(v, np.transpose(v)))\n",
    "        \n",
    "    return q"
   ]
  },
  {
   "cell_type": "code",
   "execution_count": 13,
   "metadata": {},
   "outputs": [
    {
     "name": "stdout",
     "output_type": "stream",
     "text": [
      "[array([[0.7538735 ],\n",
      "       [0.37165317],\n",
      "       [0.13083045],\n",
      "       [0.41451529],\n",
      "       [0.32343336]]), array([[ 0.        ],\n",
      "       [-0.765085  ],\n",
      "       [ 0.37019882],\n",
      "       [-0.52210429],\n",
      "       [-0.07074529]]), array([[ 0.        ],\n",
      "       [ 0.        ],\n",
      "       [ 0.83104311],\n",
      "       [ 0.54470935],\n",
      "       [-0.11251251]])]\n",
      "q:\n",
      " [[-0.13665049  0.53601299  0.09369752  0.661619   -0.49749149]\n",
      " [-0.56035895  0.0935397   0.53326881 -0.52477245 -0.34276292]\n",
      " [-0.19725922  0.65948912 -0.60068463 -0.37879015  0.14784752]\n",
      " [-0.62498418 -0.50418303 -0.52144688  0.18967657 -0.21750907]\n",
      " [-0.48765568  0.12171264  0.27224305  0.32774225  0.75222783]]\n",
      "r:\n",
      " [[-1.40152769 -1.2514379  -0.89523615]\n",
      " [ 0.          0.84158252  0.68447942]\n",
      " [ 0.          0.         -0.5496046 ]\n",
      " [ 0.         -0.          0.        ]\n",
      " [ 0.         -0.         -0.        ]]\n"
     ]
    }
   ],
   "source": [
    "v_list, r = qr_decomp_efficient(a)\n",
    "q = construct_q_from_v(v_list)\n",
    "print(v_list)\n",
    "print(\"q:\\n\", q)\n",
    "print(\"r:\\n\", r)\n"
   ]
  },
  {
   "cell_type": "code",
   "execution_count": null,
   "metadata": {},
   "outputs": [],
   "source": []
  }
 ],
 "metadata": {
  "kernelspec": {
   "display_name": "Python 3",
   "language": "python",
   "name": "python3"
  },
  "language_info": {
   "codemirror_mode": {
    "name": "ipython",
    "version": 3
   },
   "file_extension": ".py",
   "mimetype": "text/x-python",
   "name": "python",
   "nbconvert_exporter": "python",
   "pygments_lexer": "ipython3",
   "version": "3.8.3"
  }
 },
 "nbformat": 4,
 "nbformat_minor": 2
}
