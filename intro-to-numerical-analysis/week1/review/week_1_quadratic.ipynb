{
 "cells": [
  {
   "cell_type": "code",
   "execution_count": 3,
   "metadata": {},
   "outputs": [],
   "source": [
    "from math import sqrt\n",
    "from cmath import sqrt as c_sqrt\n",
    "\n",
    "def solve_quad(b, c):\n",
    "    ''' Parameters\n",
    "    ----------\n",
    "    b, c : float\n",
    "       Coefficients\n",
    "       \n",
    "    Returns\n",
    "    -------\n",
    "    x1, x2 : float or complex\n",
    "        Roots.\n",
    "    '''\n",
    "    D = b**2 - 4*c\n",
    "    if b/c > 1e8 or c/b > 1e8:\n",
    "        x1= - (b + c_sqrt(D))/2\n",
    "        x2=-2*c/(b + c_sqrt(D))\n",
    "    elif b/c <-1e8 or c/b <- 1e8:\n",
    "        x1=-2*c/(b - c_sqrt(D))\n",
    "        x2= (-b + c_sqrt(D))/2\n",
    "    else:\n",
    "        x1= - (b + c_sqrt(D))/2\n",
    "        x2= (-b + c_sqrt(D))/2\n",
    "    return x1, x2"
   ]
  },
  {
   "cell_type": "code",
   "execution_count": 4,
   "metadata": {},
   "outputs": [
    {
     "name": "stdout",
     "output_type": "stream",
     "text": [
      "True\n",
      "True\n",
      "True\n",
      "True\n",
      "True\n"
     ]
    }
   ],
   "source": [
    "from numpy import allclose\n",
    "variants = [{'b': 4.0, 'c': 3.0},\n",
    "                {'b': 2.0, 'c': 1.0},\n",
    "                {'b': 0.5, 'c': 4.0},\n",
    "                {'b': 1e10, 'c': 3.0},\n",
    "                {'b': -1e10, 'c': 4.0},\n",
    "           ]\n",
    "for var in variants:\n",
    "    x1, x2 = solve_quad(**var)\n",
    "    print(allclose(x1*x2, var['c']))\n"
   ]
  },
  {
   "cell_type": "code",
   "execution_count": null,
   "metadata": {},
   "outputs": [],
   "source": []
  }
 ],
 "metadata": {
  "kernelspec": {
   "display_name": "Python 3",
   "language": "python",
   "name": "python3"
  },
  "language_info": {
   "codemirror_mode": {
    "name": "ipython",
    "version": 3
   },
   "file_extension": ".py",
   "mimetype": "text/x-python",
   "name": "python",
   "nbconvert_exporter": "python",
   "pygments_lexer": "ipython3",
   "version": "3.8.3"
  }
 },
 "nbformat": 4,
 "nbformat_minor": 4
}
