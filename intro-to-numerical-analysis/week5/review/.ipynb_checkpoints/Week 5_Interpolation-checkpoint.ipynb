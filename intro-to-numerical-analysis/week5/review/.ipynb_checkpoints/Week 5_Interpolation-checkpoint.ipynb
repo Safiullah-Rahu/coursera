{
 "cells": [
  {
   "cell_type": "markdown",
   "metadata": {},
   "source": [
    "# I. Linear least squares approximation"
   ]
  },
  {
   "cell_type": "markdown",
   "metadata": {},
   "source": [
    "Consider a function $y = f(x)$ which is defined by a set of values $y_0, y_1, \\cdots, y_n$ at points $x_0, x_1, \\cdots, x_n$."
   ]
  },
  {
   "cell_type": "code",
   "execution_count": 1,
   "metadata": {},
   "outputs": [],
   "source": [
    "x = [-1, -0.7, -0.43, -0.14, -0.14, 0.43, 0.71, 1, 1.29, 1.57, 1.86, 2.14, 2.43, 2.71, 3]\n",
    "y = [-2.25, -0.77, 0.21, 0.44, 0.64, 0.03, -0.22, -0.84, -1.2, -1.03, -0.37, 0.61, 2.67, 5.04, 8.90]"
   ]
  },
  {
   "cell_type": "markdown",
   "metadata": {},
   "source": [
    "### I.I. Find a best fit polynomial\n",
    "\n",
    "$$\n",
    "P_m(x) = a_0 + a_1 x + \\cdots + a_m x^m\n",
    "$$\n",
    "\n",
    "using the linear least squares approach. To this end\n",
    "\n",
    "1. implement a function which constructs the design matrix using $1, x, \\cdots, x^m$ as the basis functions.\n",
    "\n",
    "2. construct explicitly the normal system of equations of the linear least squares problem at fixed $m$.\n",
    "\n",
    "3. Solve the normal equations to find the coefficients of $P_m(x)$ for $m = 0, 1, 2, \\dots$. For the linear algebra problem, you can either use library functions (`numpy.linalg.solve`) or your LU factorization code from week 1.\n",
    "\n",
    "(20% of the total grade)"
   ]
  },
  {
   "cell_type": "code",
   "execution_count": 2,
   "metadata": {},
   "outputs": [
    {
     "name": "stdout",
     "output_type": "stream",
     "text": [
      "[(array([-0.6479869 ,  1.46502399]), 7.893226345030711), (array([-1.25772058, -0.65313865,  1.0667959 ]), 5.6475260927710025), (array([ 0.49483598, -0.26983377, -2.01973166,  1.01540301]), 0.38684724271575294), (array([ 0.51184244, -0.33857023, -2.05689291,  1.08931365, -0.01872316]), 0.37022220816505635), (array([ 0.53158296, -0.24431123, -2.15174437,  0.99954653,  0.07265921,\n",
      "       -0.01835276]), 0.35496562200205706)]\n"
     ]
    }
   ],
   "source": [
    "# ... ENTER YOUR CODE HERE\n",
    "\n",
    "import numpy as np\n",
    "\n",
    "#let's construct the design matrix \n",
    "\n",
    "\n",
    "def design_matrix(x, m):\n",
    "    x = np.array(x)\n",
    "    A = [] #matrix A\n",
    "    \n",
    "    for k in range(m+1):\n",
    "        A.append(x**k)\n",
    "        \n",
    "    return np.array(A).T\n",
    "\n",
    "#let's construct the normal system of equations of the linear least squares problem at fixed 𝑚\n",
    "\n",
    "def normal_sys_eq(A,b):\n",
    "    x = np.dot(np.linalg.inv(A.T @ A) @ A.T, b)\n",
    "    res = np.linalg.norm(A @ x - b)\n",
    "    return x, res\n",
    "\n",
    "#let's solve the normal equations to find the coefficients of 𝑃𝑚(𝑥) for 𝑚=0,1,2,….\n",
    "\n",
    "ms = range(1,6) #works for other ranges too\n",
    "coefficients = [normal_sys_eq(design_matrix(x,m), y) for m in ms]\n",
    "\n",
    "print(coefficients)"
   ]
  },
  {
   "cell_type": "markdown",
   "metadata": {},
   "source": [
    "### I.II \n",
    "\n",
    "To find the optimal value of m, use the following criterion: take $m=0, 1, 2, \\dots$, for each value of $m$ compute \n",
    "\n",
    "$$\n",
    "\\sigma_m^2 = \\frac{1}{n - m} \\sum_{k=0}^n \\left( P_m(x_k) - y_k \\right)^2\n",
    "$$\n",
    "\n",
    "And take the value of $m$, at which $\\sigma_m$ stabilizes or starts increasing.\n",
    "\n",
    "(20% of the total grade)"
   ]
  },
  {
   "cell_type": "code",
   "execution_count": 3,
   "metadata": {},
   "outputs": [
    {
     "name": "stdout",
     "output_type": "stream",
     "text": [
      "0.5638018817879079\n",
      "0.4344250840593079\n",
      "0.032237270226312745\n",
      "0.033656564378641486\n",
      "0.03549656220020571\n"
     ]
    }
   ],
   "source": [
    "# ... ENTER YOUR CODE HERE ...\n",
    "\n",
    "for a in coefficients:\n",
    "    print(a[1]/(16 - len(a[0])))"
   ]
  },
  {
   "cell_type": "markdown",
   "metadata": {},
   "source": [
    "Plot your polynomials $P_m(x)$ on one plot, together with the datapoints. Visually compare best-fit polynomials of different degrees. Is the visual comparison consistent with the optimal value of $m$?"
   ]
  },
  {
   "cell_type": "code",
   "execution_count": 4,
   "metadata": {},
   "outputs": [
    {
     "data": {
      "image/png": "[encoded data removed]",
      "text/plain": [
       "<Figure size 432x288 with 1 Axes>"
      ]
     },
     "metadata": {
      "needs_background": "light"
     },
     "output_type": "display_data"
    }
   ],
   "source": [
    "# ... ENTER YOUR CODE HERE\n",
    "\n",
    "import numpy.polynomial.polynomial as polynomial\n",
    "import matplotlib.pyplot as plot\n",
    "\n",
    "\n",
    "plot.scatter(x,y) #Plotting the polynomials 𝑃𝑚(𝑥) on one plot, together with the datapoints.\n",
    "\n",
    "for pol in coefficients: #same coefficients as above\n",
    "    pl = polynomial.polyval(x,pol[0])\n",
    "    plot.plot(x,pl)\n",
    "\n",
    "plot.legend(list(ms))\n",
    "plot.show()\n",
    "\n",
    "\n"
   ]
  },
  {
   "cell_type": "markdown",
   "metadata": {},
   "source": [
    "### I.III. Linear least-squares using the QR factorization.\n",
    "\n",
    "For the optimal value of $m$ from the previous part, solve the LLS problem using the QR factorization, withou ever forming the normal equations explicitly. For linear algebra, you can use standard library functions (look up `numpy.linalg.solve`, `numpy.linalg.qr` etc) or your code from previous weeks.\n",
    "\n",
    "Compare the results with the results of solving the normal system of equations.\n",
    "\n",
    "(20% of the grade)"
   ]
  },
  {
   "cell_type": "code",
   "execution_count": 5,
   "metadata": {},
   "outputs": [
    {
     "ename": "NameError",
     "evalue": "name 'coef' is not defined",
     "output_type": "error",
     "traceback": [
      "\u001b[0;31m---------------------------------------------------------------------------\u001b[0m",
      "\u001b[0;31mNameError\u001b[0m                                 Traceback (most recent call last)",
      "\u001b[0;32m<ipython-input-5-0b5f47feb6e3>\u001b[0m in \u001b[0;36m<module>\u001b[0;34m\u001b[0m\n\u001b[1;32m      8\u001b[0m \u001b[0;34m\u001b[0m\u001b[0m\n\u001b[1;32m      9\u001b[0m \u001b[0mc\u001b[0m \u001b[0;34m=\u001b[0m \u001b[0mlls\u001b[0m\u001b[0;34m(\u001b[0m\u001b[0mdesign_matrix\u001b[0m\u001b[0;34m(\u001b[0m\u001b[0mx\u001b[0m\u001b[0;34m,\u001b[0m\u001b[0;36m4\u001b[0m\u001b[0;34m)\u001b[0m\u001b[0;34m,\u001b[0m \u001b[0my\u001b[0m\u001b[0;34m)\u001b[0m\u001b[0;34m\u001b[0m\u001b[0;34m\u001b[0m\u001b[0m\n\u001b[0;32m---> 10\u001b[0;31m \u001b[0mprint\u001b[0m\u001b[0;34m(\u001b[0m\u001b[0mc\u001b[0m\u001b[0;34m-\u001b[0m\u001b[0mcoef\u001b[0m\u001b[0;34m[\u001b[0m\u001b[0;36m3\u001b[0m\u001b[0;34m]\u001b[0m\u001b[0;34m[\u001b[0m\u001b[0;36m0\u001b[0m\u001b[0;34m]\u001b[0m\u001b[0;34m)\u001b[0m\u001b[0;34m\u001b[0m\u001b[0;34m\u001b[0m\u001b[0m\n\u001b[0m\u001b[1;32m     11\u001b[0m \u001b[0;34m\u001b[0m\u001b[0m\n",
      "\u001b[0;31mNameError\u001b[0m: name 'coef' is not defined"
     ]
    }
   ],
   "source": [
    "# ... ENTER YOUR CODE HERE ...\n",
    "\n",
    "def lls(A, b):\n",
    "    m = A.shape[1]\n",
    "    q, r = np.linalg.qr(A)\n",
    "    f = (q.T @ b)[:m]\n",
    "    return np.linalg.solve(r[:m], f)\n",
    "\n",
    "c = lls(design_matrix(x,4), y)\n",
    "print(c-coef[3][0])\n",
    "\n"
   ]
  },
  {
   "cell_type": "markdown",
   "metadata": {},
   "source": [
    "# II. Lagrange interpolation"
   ]
  },
  {
   "cell_type": "markdown",
   "metadata": {},
   "source": [
    "# II.1 \n",
    "\n",
    "Consider the function, $f(x) = x^2 \\cos{x}$. On the interval $x\\in [\\pi/2, \\pi]$, interpolate the function using the Lagrange interpolating polynomial of degree $m$ with $m=1, 2, 3, 4, 5$. Use the uniform mesh. Plot the resulting interpolants together with $f(x)$.\n",
    "\n",
    "(20% of the total grade)"
   ]
  },
  {
   "cell_type": "code",
   "execution_count": 6,
   "metadata": {},
   "outputs": [
    {
     "data": {
      "image/png": "[encoded data removed]",
      "text/plain": [
       "<Figure size 432x288 with 1 Axes>"
      ]
     },
     "metadata": {
      "needs_background": "light"
     },
     "output_type": "display_data"
    }
   ],
   "source": [
    "# ... ENTER YOUR CODE HERE ...\n",
    "\n",
    "def lagrange_pol(grid, k, x):\n",
    "    \n",
    "    polynomial = 1\n",
    "    for i in range(len(grid)):\n",
    "        if i != k:\n",
    "            polynomial *= x - grid[i]\n",
    "            polynomial /= grid[k]-grid[i]    \n",
    "            \n",
    "    return polynomial\n",
    "\n",
    "def lagrange_interpol(grid, x, y):\n",
    "    y_interpol = np.zeros(len(x))\n",
    "    for i in range(len(grid)):\n",
    "        y_interpol += y[i] * lagrange_pol(grid,i,x)\n",
    "    return y_interpol\n",
    "\n",
    "f = lambda x: x**2 * np.cos(x)\n",
    "x = np.linspace(np.pi/2,np.pi, 50)\n",
    "plot.plot(x,f(x), \"r+\")\n",
    "\n",
    "for m in range(1,6): #𝑚 with 𝑚=1,2,3,4,5\n",
    "    grid = np.linspace(np.pi/2,np.pi, m)\n",
    "    plot.plot(x, lagrange_interpol(grid, x, f(grid)))\n"
   ]
  },
  {
   "cell_type": "markdown",
   "metadata": {},
   "source": [
    "### II.2. \n",
    "\n",
    "Repeat the previous task using the Chebyshev nodes. Compare the quality of interpolation on a uniform mesh and Chebyshev nodes for $m=3$.\n",
    "\n",
    "(20% of the total grade)"
   ]
  },
  {
   "cell_type": "code",
   "execution_count": 7,
   "metadata": {},
   "outputs": [],
   "source": [
    "# ... ENTER YOUR CODE HERE ...\n",
    "\n",
    "\n",
    "\n",
    "def chebishev_nodes(a,b,m):\n",
    "    k = np.array(range(m))\n",
    "    x = np.cos(2 * k + 1/m)\n",
    "    return (x+1) * (b-a)/2 + a\n",
    "\n"
   ]
  },
  {
   "cell_type": "code",
   "execution_count": 8,
   "metadata": {},
   "outputs": [
    {
     "data": {
      "text/plain": [
       "[<matplotlib.lines.Line2D at 0x7fac800097f0>]"
      ]
     },
     "execution_count": 8,
     "metadata": {},
     "output_type": "execute_result"
    },
    {
     "data": {
      "image/png": "[encoded data removed]",
      "text/plain": [
       "<Figure size 432x288 with 1 Axes>"
      ]
     },
     "metadata": {
      "needs_background": "light"
     },
     "output_type": "display_data"
    }
   ],
   "source": [
    "grid = chebishev_nodes(np.pi/2, np.pi, 3)\n",
    "\n",
    "plot.plot(x,f(x), \"r+\")\n",
    "plot.plot(x, lagrange_interpol(grid, x, f(grid)))"
   ]
  },
  {
   "cell_type": "code",
   "execution_count": null,
   "metadata": {},
   "outputs": [],
   "source": []
  }
 ],
 "metadata": {
  "kernelspec": {
   "display_name": "Python 3",
   "language": "python",
   "name": "python3"
  },
  "language_info": {
   "codemirror_mode": {
    "name": "ipython",
    "version": 3
   },
   "file_extension": ".py",
   "mimetype": "text/x-python",
   "name": "python",
   "nbconvert_exporter": "python",
   "pygments_lexer": "ipython3",
   "version": "3.8.3"
  }
 },
 "nbformat": 4,
 "nbformat_minor": 2
}
