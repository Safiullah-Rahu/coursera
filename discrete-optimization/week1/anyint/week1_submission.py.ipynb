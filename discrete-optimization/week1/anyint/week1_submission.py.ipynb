{
 "cells": [
  {
   "cell_type": "code",
   "execution_count": 2,
   "metadata": {},
   "outputs": [
    {
     "name": "stdout",
     "output_type": "stream",
     "text": [
      "This script submits the integer: 1729\n",
      "\n"
     ]
    }
   ],
   "source": [
    "%run -i solver.py"
   ]
  },
  {
   "cell_type": "code",
   "execution_count": null,
   "metadata": {},
   "outputs": [
    {
     "name": "stdout",
     "output_type": "stream",
     "text": [
      "==\n",
      "== Any Integer Solution Submission \n",
      "==\n",
      "Hello! These are the assignment parts that you can submit:\n",
      "1) Send an Integer\n",
      "0) All\n",
      "Please enter which part(s) you want to submit (0-1): 0\n",
      "Submitting: \n",
      "1729\n",
      "\n",
      "== Computations Complete ...\n",
      "User Name (e-mail address): tsnlegend@gmail.com\n"
     ]
    }
   ],
   "source": [
    "%run -i submit.py"
   ]
  },
  {
   "cell_type": "code",
   "execution_count": null,
   "metadata": {},
   "outputs": [],
   "source": []
  }
 ],
 "metadata": {
  "kernelspec": {
   "display_name": "Python 3",
   "language": "python",
   "name": "python3"
  },
  "language_info": {
   "codemirror_mode": {
    "name": "ipython",
    "version": 3
   },
   "file_extension": ".py",
   "mimetype": "text/x-python",
   "name": "python",
   "nbconvert_exporter": "python",
   "pygments_lexer": "ipython3",
   "version": "3.8.3"
  }
 },
 "nbformat": 4,
 "nbformat_minor": 4
}
