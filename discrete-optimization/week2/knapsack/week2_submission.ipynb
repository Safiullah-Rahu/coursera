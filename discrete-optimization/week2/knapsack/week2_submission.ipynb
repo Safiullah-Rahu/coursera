{
 "cells": [
  {
   "cell_type": "code",
   "execution_count": 43,
   "metadata": {},
   "outputs": [],
   "source": [
    "import os\n",
    "import shlex"
   ]
  },
  {
   "cell_type": "code",
   "execution_count": 44,
   "metadata": {},
   "outputs": [
    {
     "name": "stdout",
     "output_type": "stream",
     "text": [
      "['ks_60_0', 'ks_4_0', 'ks_45_0', 'ks_30_0', 'ks_lecture_dp_2', 'ks_10000_0', 'ks_300_0', 'ks_200_0', 'ks_100_1', 'ks_100_0', 'ks_200_1', 'ks_500_0', 'ks_400_0', 'ks_lecture_dp_1', 'ks_19_0', 'ks_100_2', 'ks_106_0', 'ks_40_0', 'ks_82_0', 'ks_50_0', 'ks_50_1', 'ks_1000_0']\n"
     ]
    }
   ],
   "source": [
    "files = os.listdir(\"./data/\")\n",
    "print(files)"
   ]
  },
  {
   "cell_type": "code",
   "execution_count": 60,
   "metadata": {},
   "outputs": [
    {
     "name": "stdout",
     "output_type": "stream",
     "text": [
      "19 0\r\n",
      "0 0 1 1\r\n"
     ]
    }
   ],
   "source": [
    "!timeout 5 python solver.py ./data/ks_4_0"
   ]
  },
  {
   "cell_type": "code",
   "execution_count": 77,
   "metadata": {},
   "outputs": [
    {
     "name": "stdout",
     "output_type": "stream",
     "text": [
      "ks_60_0\n",
      "python: can't open file 'solver.py': [Errno 2] No such file or directory\n",
      "ks_4_0\n",
      "python: can't open file 'solver.py': [Errno 2] No such file or directory\n",
      "ks_45_0\n",
      "python: can't open file 'solver.py': [Errno 2] No such file or directory\n",
      "ks_30_0\n",
      "python: can't open file 'solver.py': [Errno 2] No such file or directory\n",
      "ks_lecture_dp_2\n",
      "python: can't open file 'solver.py': [Errno 2] No such file or directory\n",
      "ks_10000_0\n",
      "python: can't open file 'solver.py': [Errno 2] No such file or directory\n",
      "ks_300_0\n",
      "python: can't open file 'solver.py': [Errno 2] No such file or directory\n",
      "ks_200_0\n",
      "python: can't open file 'solver.py': [Errno 2] No such file or directory\n",
      "ks_100_1\n",
      "python: can't open file 'solver.py': [Errno 2] No such file or directory\n",
      "ks_100_0\n",
      "python: can't open file 'solver.py': [Errno 2] No such file or directory\n",
      "ks_200_1\n",
      "python: can't open file 'solver.py': [Errno 2] No such file or directory\n",
      "ks_500_0\n",
      "python: can't open file 'solver.py': [Errno 2] No such file or directory\n",
      "ks_400_0\n",
      "python: can't open file 'solver.py': [Errno 2] No such file or directory\n",
      "ks_lecture_dp_1\n",
      "python: can't open file 'solver.py': [Errno 2] No such file or directory\n",
      "ks_19_0\n",
      "python: can't open file 'solver.py': [Errno 2] No such file or directory\n",
      "ks_100_2\n",
      "python: can't open file 'solver.py': [Errno 2] No such file or directory\n",
      "ks_106_0\n",
      "python: can't open file 'solver.py': [Errno 2] No such file or directory\n",
      "ks_40_0\n",
      "python: can't open file 'solver.py': [Errno 2] No such file or directory\n",
      "ks_82_0\n",
      "python: can't open file 'solver.py': [Errno 2] No such file or directory\n",
      "ks_50_0\n",
      "python: can't open file 'solver.py': [Errno 2] No such file or directory\n",
      "ks_50_1\n",
      "python: can't open file 'solver.py': [Errno 2] No such file or directory\n",
      "ks_1000_0\n",
      "python: can't open file 'solver.py': [Errno 2] No such file or directory\n"
     ]
    }
   ],
   "source": [
    "for file in files:\n",
    "    print(file)\n",
    "    !timeout 10 python solver.py ./data/$file"
   ]
  },
  {
   "cell_type": "code",
   "execution_count": 85,
   "metadata": {},
   "outputs": [
    {
     "name": "stdout",
     "output_type": "stream",
     "text": [
      "==\n",
      "== Knapsack Solution Submission \n",
      "==\n",
      "Hello! These are the assignment parts that you can submit:\n",
      "1) Knapsack Problem 1\n",
      "2) Knapsack Problem 2\n",
      "3) Knapsack Problem 3\n",
      "4) Knapsack Problem 4\n",
      "5) Knapsack Problem 5\n",
      "6) Knapsack Problem 6\n",
      "0) All\n",
      "Please enter which part(s) you want to submit (0-6): ^C\n",
      "Traceback (most recent call last):\n",
      "  File \"submit.py\", line 458, in <module>\n",
      "    main(parser.parse_args())\n",
      "  File \"submit.py\", line 390, in main\n",
      "    results = compute(metadata, args.override)\n",
      "  File \"submit.py\", line 156, in compute\n",
      "    selected_problems = part_prompt(metadata.part_data)\n",
      "  File \"submit.py\", line 110, in part_prompt\n",
      "    part_text = input('Please enter which part(s) you want to submit (0-%d): ' % (count-1))\n",
      "KeyboardInterrupt\n"
     ]
    }
   ],
   "source": [
    "!python submit.py"
   ]
  },
  {
   "cell_type": "code",
   "execution_count": null,
   "metadata": {},
   "outputs": [],
   "source": []
  }
 ],
 "metadata": {
  "kernelspec": {
   "display_name": "Python 3",
   "language": "python",
   "name": "python3"
  },
  "language_info": {
   "codemirror_mode": {
    "name": "ipython",
    "version": 3
   },
   "file_extension": ".py",
   "mimetype": "text/x-python",
   "name": "python",
   "nbconvert_exporter": "python",
   "pygments_lexer": "ipython3",
   "version": "3.8.3"
  }
 },
 "nbformat": 4,
 "nbformat_minor": 4
}
