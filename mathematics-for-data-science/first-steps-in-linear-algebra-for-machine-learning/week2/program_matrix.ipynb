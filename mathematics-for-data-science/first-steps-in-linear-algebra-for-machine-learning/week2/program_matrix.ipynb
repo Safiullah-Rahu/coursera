{
 "cells": [
  {
   "cell_type": "code",
   "execution_count": 1,
   "metadata": {},
   "outputs": [
    {
     "name": "stdout",
     "output_type": "stream",
     "text": [
      "\n",
      "matrix shape = (1686, 2322)\n",
      "\n",
      "matrix rank  = 709\n",
      "\n",
      "matrix shape m1 = (1686, 709)\n",
      "\n",
      "matrix rank  m1 = 709\n",
      "\n",
      "matrix shape m2 = (709, 2322)\n",
      "\n",
      "matrix rank  m2 = 709\n"
     ]
    }
   ],
   "source": [
    "from PIL import Image\n",
    "import numpy as np\n",
    "from scipy import linalg as la\n",
    "from numpy.linalg import matrix_rank as rank\n",
    "\n",
    "\n",
    "def fullrank(X):\n",
    "    '''\n",
    "    https://github.com/kingofspace0wzz/Matrix-Analysis\n",
    "    return full-rank decomposition of X = FG^T\n",
    "    '''\n",
    "    rankX = rank(X)\n",
    "\n",
    "    U, sing_values, Vh = la.svd(X)\n",
    "\n",
    "    #construct a r-rank sigma-square-root matrix\n",
    "\n",
    "    sigma = np.eye(rankX)\n",
    "    for i in range(sigma.shape[0]):\n",
    "        sigma[i, i] = sing_values[i]\n",
    "\n",
    "    F = U.dot(np.vstack((sigma, np.zeros((X.shape[0] - rankX, rankX)))))\n",
    "    Gh = np.hstack((sigma, np.zeros((rankX, X.shape[1] - rankX)))).dot(Vh)\n",
    "\n",
    "    return F, Gh \n",
    "\n",
    "\n",
    "im = Image.open(\"arrow4.tif\") #source image\n",
    "m = np.asarray(im).astype(float) #convert numbers to float\n",
    "\n",
    "\n",
    "print(\"\\nmatrix shape =\", m.shape) #shape of matrix\n",
    "print(\"\\nmatrix rank  =\", rank(m)) #rank\n",
    "\n",
    "with open('matrixt.txt', 'w') as bm: #save matrix to txt file\n",
    "    np.savetxt(bm, m)\n",
    "bm.close()\n",
    "        \n",
    "f1, f2 = fullrank(m) #full rank decomposition\n",
    "\n",
    "m1 = np.matrix(f1) #convert to numpy matrix\n",
    "m2 = np.matrix(f2)\n",
    "\n",
    "print(\"\\nmatrix shape m1 =\", m1.shape) #shape of the decomposition matrix 1\n",
    "print(\"\\nmatrix rank  m1 =\", rank(m1)) #rank of the decomposition matrix 1\n",
    "\n",
    "print(\"\\nmatrix shape m2 =\", m2.shape) #shape of the decomposition matrix 2\n",
    "print(\"\\nmatrix rank  m2 =\", rank(m2)) #shape of the decomposition matrix 2\n",
    "\n",
    "with open('fr_file1.txt', 'w') as file1: #save matrix 1 to txt file\n",
    "    np.savetxt(file1, m1)\n",
    "file1.close()\n",
    "\n",
    "with open('fr_file2.txt', 'w') as file2: #save matrix 2 to txt file\n",
    "    np.savetxt(file2, m2)\n",
    "file2.close()"
   ]
  },
  {
   "cell_type": "code",
   "execution_count": null,
   "metadata": {},
   "outputs": [],
   "source": []
  }
 ],
 "metadata": {
  "kernelspec": {
   "display_name": "Python 3",
   "language": "python",
   "name": "python3"
  },
  "language_info": {
   "codemirror_mode": {
    "name": "ipython",
    "version": 3
   },
   "file_extension": ".py",
   "mimetype": "text/x-python",
   "name": "python",
   "nbconvert_exporter": "python",
   "pygments_lexer": "ipython3",
   "version": "3.7.1"
  }
 },
 "nbformat": 4,
 "nbformat_minor": 2
}
